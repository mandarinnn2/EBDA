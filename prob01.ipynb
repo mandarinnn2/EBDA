{
 "cells": [
  {
   "cell_type": "markdown",
   "id": "674c55de-e33c-4ee6-bde8-db4a9e09b347",
   "metadata": {},
   "source": [
    "#### Making example of dataframe"
   ]
  },
  {
   "cell_type": "code",
   "execution_count": 6,
   "id": "4415f9b7-ab12-49c5-9ded-96ae5c9b5c09",
   "metadata": {},
   "outputs": [
    {
     "data": {
      "text/html": [
       "<div>\n",
       "<style scoped>\n",
       "    .dataframe tbody tr th:only-of-type {\n",
       "        vertical-align: middle;\n",
       "    }\n",
       "\n",
       "    .dataframe tbody tr th {\n",
       "        vertical-align: top;\n",
       "    }\n",
       "\n",
       "    .dataframe thead th {\n",
       "        text-align: right;\n",
       "    }\n",
       "</style>\n",
       "<table border=\"1\" class=\"dataframe\">\n",
       "  <thead>\n",
       "    <tr style=\"text-align: right;\">\n",
       "      <th></th>\n",
       "      <th>메뉴</th>\n",
       "      <th>가격</th>\n",
       "      <th>칼로리</th>\n",
       "      <th>원두</th>\n",
       "    </tr>\n",
       "  </thead>\n",
       "  <tbody>\n",
       "    <tr>\n",
       "      <th>0</th>\n",
       "      <td>아메리카노</td>\n",
       "      <td>4500</td>\n",
       "      <td>10.0</td>\n",
       "      <td>과테말라</td>\n",
       "    </tr>\n",
       "    <tr>\n",
       "      <th>1</th>\n",
       "      <td>카페라떼</td>\n",
       "      <td>5000</td>\n",
       "      <td>110.0</td>\n",
       "      <td>브라질</td>\n",
       "    </tr>\n",
       "    <tr>\n",
       "      <th>2</th>\n",
       "      <td>에스프레소</td>\n",
       "      <td>4000</td>\n",
       "      <td>NaN</td>\n",
       "      <td>과테말라</td>\n",
       "    </tr>\n",
       "    <tr>\n",
       "      <th>3</th>\n",
       "      <td>카페모카</td>\n",
       "      <td>5900</td>\n",
       "      <td>210.0</td>\n",
       "      <td>NaN</td>\n",
       "    </tr>\n",
       "    <tr>\n",
       "      <th>4</th>\n",
       "      <td>바닐라라떼</td>\n",
       "      <td>5300</td>\n",
       "      <td>NaN</td>\n",
       "      <td>NaN</td>\n",
       "    </tr>\n",
       "  </tbody>\n",
       "</table>\n",
       "</div>"
      ],
      "text/plain": [
       "      메뉴    가격    칼로리    원두\n",
       "0  아메리카노  4500   10.0  과테말라\n",
       "1   카페라떼  5000  110.0   브라질\n",
       "2  에스프레소  4000    NaN  과테말라\n",
       "3   카페모카  5900  210.0   NaN\n",
       "4  바닐라라떼  5300    NaN   NaN"
      ]
     },
     "execution_count": 6,
     "metadata": {},
     "output_type": "execute_result"
    }
   ],
   "source": [
    "import pandas as pd\n",
    "import numpy as np\n",
    "\n",
    "df = pd.DataFrame({\n",
    "    \"메뉴\":['아메리카노', '카페라떼', '에스프레소', '카페모카', '바닐라라떼'],\n",
    "    \"가격\":[4500, 5000, 4000, 5900, 5300],\n",
    "    \"칼로리\":[10, 110, np.NaN, 210, np.NaN],\n",
    "    \"원두\":['과테말라', '브라질', '과테말라', np.NaN, np.NaN]\n",
    "})\n",
    "df"
   ]
  },
  {
   "cell_type": "markdown",
   "id": "a356f8bf-2f76-4ef7-8fa1-41b049ad54f5",
   "metadata": {},
   "source": [
    "#### Q1 Fill missing value of \"calorie\" with min of calorie"
   ]
  },
  {
   "cell_type": "code",
   "execution_count": 7,
   "id": "90550f56-2973-4b51-871e-20bfae364a9a",
   "metadata": {},
   "outputs": [],
   "source": [
    "df['칼로리'] = df['칼로리'].fillna(min(df['칼로리']))"
   ]
  },
  {
   "cell_type": "code",
   "execution_count": 10,
   "id": "98b40a1c-0301-42a2-8bbb-982d95f07e5f",
   "metadata": {},
   "outputs": [
    {
     "data": {
      "text/plain": [
       "True"
      ]
     },
     "execution_count": 10,
     "metadata": {},
     "output_type": "execute_result"
    }
   ],
   "source": [
    "min(df['칼로리']) == df['칼로리'].min()"
   ]
  },
  {
   "cell_type": "code",
   "execution_count": 19,
   "id": "a9b38d9c-6547-475b-863d-824911727d2a",
   "metadata": {},
   "outputs": [
    {
     "data": {
      "text/html": [
       "<div>\n",
       "<style scoped>\n",
       "    .dataframe tbody tr th:only-of-type {\n",
       "        vertical-align: middle;\n",
       "    }\n",
       "\n",
       "    .dataframe tbody tr th {\n",
       "        vertical-align: top;\n",
       "    }\n",
       "\n",
       "    .dataframe thead th {\n",
       "        text-align: right;\n",
       "    }\n",
       "</style>\n",
       "<table border=\"1\" class=\"dataframe\">\n",
       "  <thead>\n",
       "    <tr style=\"text-align: right;\">\n",
       "      <th></th>\n",
       "      <th>메뉴</th>\n",
       "      <th>가격</th>\n",
       "      <th>칼로리</th>\n",
       "      <th>원두</th>\n",
       "    </tr>\n",
       "  </thead>\n",
       "  <tbody>\n",
       "    <tr>\n",
       "      <th>0</th>\n",
       "      <td>아메리카노</td>\n",
       "      <td>4500</td>\n",
       "      <td>10.0</td>\n",
       "      <td>과테말라</td>\n",
       "    </tr>\n",
       "    <tr>\n",
       "      <th>1</th>\n",
       "      <td>카페라떼</td>\n",
       "      <td>5000</td>\n",
       "      <td>110.0</td>\n",
       "      <td>브라질</td>\n",
       "    </tr>\n",
       "    <tr>\n",
       "      <th>2</th>\n",
       "      <td>에스프레소</td>\n",
       "      <td>4000</td>\n",
       "      <td>10.0</td>\n",
       "      <td>과테말라</td>\n",
       "    </tr>\n",
       "    <tr>\n",
       "      <th>3</th>\n",
       "      <td>카페모카</td>\n",
       "      <td>5900</td>\n",
       "      <td>210.0</td>\n",
       "      <td>과테말라</td>\n",
       "    </tr>\n",
       "    <tr>\n",
       "      <th>4</th>\n",
       "      <td>바닐라라떼</td>\n",
       "      <td>5300</td>\n",
       "      <td>10.0</td>\n",
       "      <td>과테말라</td>\n",
       "    </tr>\n",
       "  </tbody>\n",
       "</table>\n",
       "</div>"
      ],
      "text/plain": [
       "      메뉴    가격    칼로리    원두\n",
       "0  아메리카노  4500   10.0  과테말라\n",
       "1   카페라떼  5000  110.0   브라질\n",
       "2  에스프레소  4000   10.0  과테말라\n",
       "3   카페모카  5900  210.0  과테말라\n",
       "4  바닐라라떼  5300   10.0  과테말라"
      ]
     },
     "execution_count": 19,
     "metadata": {},
     "output_type": "execute_result"
    }
   ],
   "source": [
    "df"
   ]
  },
  {
   "cell_type": "markdown",
   "id": "073d3196-a20f-403b-bf76-e2f903a1e654",
   "metadata": {},
   "source": [
    "#### Q2 Fill missing value of \"coffee beans\" with mode of coffee beans "
   ]
  },
  {
   "cell_type": "code",
   "execution_count": 17,
   "id": "06982ec4-0403-42a0-be78-6ae2afa48568",
   "metadata": {},
   "outputs": [],
   "source": [
    "df['원두'] = df['원두'].fillna(df['원두'].mode()[0])"
   ]
  },
  {
   "cell_type": "code",
   "execution_count": 16,
   "id": "2ef40ecd-89f6-4d19-a396-9616135ec061",
   "metadata": {},
   "outputs": [
    {
     "data": {
      "text/plain": [
       "'과테말라'"
      ]
     },
     "execution_count": 16,
     "metadata": {},
     "output_type": "execute_result"
    }
   ],
   "source": [
    "df['원두'].mode()[0]"
   ]
  },
  {
   "cell_type": "code",
   "execution_count": 18,
   "id": "84bcb950-8eea-4914-8dc7-3f55e2e0a9e6",
   "metadata": {},
   "outputs": [
    {
     "data": {
      "text/html": [
       "<div>\n",
       "<style scoped>\n",
       "    .dataframe tbody tr th:only-of-type {\n",
       "        vertical-align: middle;\n",
       "    }\n",
       "\n",
       "    .dataframe tbody tr th {\n",
       "        vertical-align: top;\n",
       "    }\n",
       "\n",
       "    .dataframe thead th {\n",
       "        text-align: right;\n",
       "    }\n",
       "</style>\n",
       "<table border=\"1\" class=\"dataframe\">\n",
       "  <thead>\n",
       "    <tr style=\"text-align: right;\">\n",
       "      <th></th>\n",
       "      <th>메뉴</th>\n",
       "      <th>가격</th>\n",
       "      <th>칼로리</th>\n",
       "      <th>원두</th>\n",
       "    </tr>\n",
       "  </thead>\n",
       "  <tbody>\n",
       "    <tr>\n",
       "      <th>0</th>\n",
       "      <td>아메리카노</td>\n",
       "      <td>4500</td>\n",
       "      <td>10.0</td>\n",
       "      <td>과테말라</td>\n",
       "    </tr>\n",
       "    <tr>\n",
       "      <th>1</th>\n",
       "      <td>카페라떼</td>\n",
       "      <td>5000</td>\n",
       "      <td>110.0</td>\n",
       "      <td>브라질</td>\n",
       "    </tr>\n",
       "    <tr>\n",
       "      <th>2</th>\n",
       "      <td>에스프레소</td>\n",
       "      <td>4000</td>\n",
       "      <td>10.0</td>\n",
       "      <td>과테말라</td>\n",
       "    </tr>\n",
       "    <tr>\n",
       "      <th>3</th>\n",
       "      <td>카페모카</td>\n",
       "      <td>5900</td>\n",
       "      <td>210.0</td>\n",
       "      <td>과테말라</td>\n",
       "    </tr>\n",
       "    <tr>\n",
       "      <th>4</th>\n",
       "      <td>바닐라라떼</td>\n",
       "      <td>5300</td>\n",
       "      <td>10.0</td>\n",
       "      <td>과테말라</td>\n",
       "    </tr>\n",
       "  </tbody>\n",
       "</table>\n",
       "</div>"
      ],
      "text/plain": [
       "      메뉴    가격    칼로리    원두\n",
       "0  아메리카노  4500   10.0  과테말라\n",
       "1   카페라떼  5000  110.0   브라질\n",
       "2  에스프레소  4000   10.0  과테말라\n",
       "3   카페모카  5900  210.0  과테말라\n",
       "4  바닐라라떼  5300   10.0  과테말라"
      ]
     },
     "execution_count": 18,
     "metadata": {},
     "output_type": "execute_result"
    }
   ],
   "source": [
    "df"
   ]
  },
  {
   "cell_type": "markdown",
   "id": "b0c41487-ac88-44d2-be15-2d593e659361",
   "metadata": {},
   "source": [
    "#### Q3 Counting number of price over 5000"
   ]
  },
  {
   "cell_type": "code",
   "execution_count": 27,
   "id": "a4664dcc-258f-40a9-ad99-31e7aee5b73d",
   "metadata": {},
   "outputs": [
    {
     "data": {
      "text/plain": [
       "3"
      ]
     },
     "execution_count": 27,
     "metadata": {},
     "output_type": "execute_result"
    }
   ],
   "source": [
    "(df['가격'] >= 5000).sum()"
   ]
  },
  {
   "cell_type": "markdown",
   "id": "0a16ff8b-33e5-4076-999d-583881303a12",
   "metadata": {},
   "source": [
    "#### Q4 Making \"event\" column and fill with 50% off the cover price"
   ]
  },
  {
   "cell_type": "code",
   "execution_count": 28,
   "id": "a2921fa2-0bd3-4be2-bb97-e03ff6d15717",
   "metadata": {},
   "outputs": [],
   "source": [
    "df['이벤트가'] = df['가격'] // 2"
   ]
  },
  {
   "cell_type": "code",
   "execution_count": 29,
   "id": "d7ed656f-de6d-4547-9e8a-9f56e156cc86",
   "metadata": {},
   "outputs": [
    {
     "data": {
      "text/html": [
       "<div>\n",
       "<style scoped>\n",
       "    .dataframe tbody tr th:only-of-type {\n",
       "        vertical-align: middle;\n",
       "    }\n",
       "\n",
       "    .dataframe tbody tr th {\n",
       "        vertical-align: top;\n",
       "    }\n",
       "\n",
       "    .dataframe thead th {\n",
       "        text-align: right;\n",
       "    }\n",
       "</style>\n",
       "<table border=\"1\" class=\"dataframe\">\n",
       "  <thead>\n",
       "    <tr style=\"text-align: right;\">\n",
       "      <th></th>\n",
       "      <th>메뉴</th>\n",
       "      <th>가격</th>\n",
       "      <th>칼로리</th>\n",
       "      <th>원두</th>\n",
       "      <th>이벤트가</th>\n",
       "    </tr>\n",
       "  </thead>\n",
       "  <tbody>\n",
       "    <tr>\n",
       "      <th>0</th>\n",
       "      <td>아메리카노</td>\n",
       "      <td>4500</td>\n",
       "      <td>10.0</td>\n",
       "      <td>과테말라</td>\n",
       "      <td>2250</td>\n",
       "    </tr>\n",
       "    <tr>\n",
       "      <th>1</th>\n",
       "      <td>카페라떼</td>\n",
       "      <td>5000</td>\n",
       "      <td>110.0</td>\n",
       "      <td>브라질</td>\n",
       "      <td>2500</td>\n",
       "    </tr>\n",
       "    <tr>\n",
       "      <th>2</th>\n",
       "      <td>에스프레소</td>\n",
       "      <td>4000</td>\n",
       "      <td>10.0</td>\n",
       "      <td>과테말라</td>\n",
       "      <td>2000</td>\n",
       "    </tr>\n",
       "    <tr>\n",
       "      <th>3</th>\n",
       "      <td>카페모카</td>\n",
       "      <td>5900</td>\n",
       "      <td>210.0</td>\n",
       "      <td>과테말라</td>\n",
       "      <td>2950</td>\n",
       "    </tr>\n",
       "    <tr>\n",
       "      <th>4</th>\n",
       "      <td>바닐라라떼</td>\n",
       "      <td>5300</td>\n",
       "      <td>10.0</td>\n",
       "      <td>과테말라</td>\n",
       "      <td>2650</td>\n",
       "    </tr>\n",
       "  </tbody>\n",
       "</table>\n",
       "</div>"
      ],
      "text/plain": [
       "      메뉴    가격    칼로리    원두  이벤트가\n",
       "0  아메리카노  4500   10.0  과테말라  2250\n",
       "1   카페라떼  5000  110.0   브라질  2500\n",
       "2  에스프레소  4000   10.0  과테말라  2000\n",
       "3   카페모카  5900  210.0  과테말라  2950\n",
       "4  바닐라라떼  5300   10.0  과테말라  2650"
      ]
     },
     "execution_count": 29,
     "metadata": {},
     "output_type": "execute_result"
    }
   ],
   "source": [
    "df"
   ]
  },
  {
   "cell_type": "markdown",
   "id": "db7820b2-2637-4c93-8c58-2c1830e76987",
   "metadata": {},
   "source": [
    "#### Q5 Delete \"Calorie\" column"
   ]
  },
  {
   "cell_type": "code",
   "execution_count": 35,
   "id": "b1f54614-ff88-4a1a-9508-800938066d87",
   "metadata": {},
   "outputs": [],
   "source": [
    "df = df.drop('칼로리', axis = 1)"
   ]
  },
  {
   "cell_type": "code",
   "execution_count": 36,
   "id": "2eb4a39d-b042-4b36-ae29-f9c74021f7d3",
   "metadata": {},
   "outputs": [
    {
     "data": {
      "text/html": [
       "<div>\n",
       "<style scoped>\n",
       "    .dataframe tbody tr th:only-of-type {\n",
       "        vertical-align: middle;\n",
       "    }\n",
       "\n",
       "    .dataframe tbody tr th {\n",
       "        vertical-align: top;\n",
       "    }\n",
       "\n",
       "    .dataframe thead th {\n",
       "        text-align: right;\n",
       "    }\n",
       "</style>\n",
       "<table border=\"1\" class=\"dataframe\">\n",
       "  <thead>\n",
       "    <tr style=\"text-align: right;\">\n",
       "      <th></th>\n",
       "      <th>메뉴</th>\n",
       "      <th>가격</th>\n",
       "      <th>원두</th>\n",
       "      <th>이벤트가</th>\n",
       "    </tr>\n",
       "  </thead>\n",
       "  <tbody>\n",
       "    <tr>\n",
       "      <th>0</th>\n",
       "      <td>아메리카노</td>\n",
       "      <td>4500</td>\n",
       "      <td>과테말라</td>\n",
       "      <td>2250</td>\n",
       "    </tr>\n",
       "    <tr>\n",
       "      <th>1</th>\n",
       "      <td>카페라떼</td>\n",
       "      <td>5000</td>\n",
       "      <td>브라질</td>\n",
       "      <td>2500</td>\n",
       "    </tr>\n",
       "    <tr>\n",
       "      <th>2</th>\n",
       "      <td>에스프레소</td>\n",
       "      <td>4000</td>\n",
       "      <td>과테말라</td>\n",
       "      <td>2000</td>\n",
       "    </tr>\n",
       "    <tr>\n",
       "      <th>3</th>\n",
       "      <td>카페모카</td>\n",
       "      <td>5900</td>\n",
       "      <td>과테말라</td>\n",
       "      <td>2950</td>\n",
       "    </tr>\n",
       "    <tr>\n",
       "      <th>4</th>\n",
       "      <td>바닐라라떼</td>\n",
       "      <td>5300</td>\n",
       "      <td>과테말라</td>\n",
       "      <td>2650</td>\n",
       "    </tr>\n",
       "  </tbody>\n",
       "</table>\n",
       "</div>"
      ],
      "text/plain": [
       "      메뉴    가격    원두  이벤트가\n",
       "0  아메리카노  4500  과테말라  2250\n",
       "1   카페라떼  5000   브라질  2500\n",
       "2  에스프레소  4000  과테말라  2000\n",
       "3   카페모카  5900  과테말라  2950\n",
       "4  바닐라라떼  5300  과테말라  2650"
      ]
     },
     "execution_count": 36,
     "metadata": {},
     "output_type": "execute_result"
    }
   ],
   "source": [
    "df"
   ]
  },
  {
   "cell_type": "markdown",
   "id": "0c8191f4-bab4-45cf-9d0a-efb27c140e3d",
   "metadata": {},
   "source": [
    "#### Q6 Choose top of 3 column (using loc)"
   ]
  },
  {
   "cell_type": "code",
   "execution_count": 38,
   "id": "f5d11a84-45ab-4163-a803-db6ae0e42248",
   "metadata": {},
   "outputs": [
    {
     "data": {
      "text/html": [
       "<div>\n",
       "<style scoped>\n",
       "    .dataframe tbody tr th:only-of-type {\n",
       "        vertical-align: middle;\n",
       "    }\n",
       "\n",
       "    .dataframe tbody tr th {\n",
       "        vertical-align: top;\n",
       "    }\n",
       "\n",
       "    .dataframe thead th {\n",
       "        text-align: right;\n",
       "    }\n",
       "</style>\n",
       "<table border=\"1\" class=\"dataframe\">\n",
       "  <thead>\n",
       "    <tr style=\"text-align: right;\">\n",
       "      <th></th>\n",
       "      <th>메뉴</th>\n",
       "      <th>가격</th>\n",
       "      <th>원두</th>\n",
       "      <th>이벤트가</th>\n",
       "    </tr>\n",
       "  </thead>\n",
       "  <tbody>\n",
       "    <tr>\n",
       "      <th>0</th>\n",
       "      <td>아메리카노</td>\n",
       "      <td>4500</td>\n",
       "      <td>과테말라</td>\n",
       "      <td>2250</td>\n",
       "    </tr>\n",
       "    <tr>\n",
       "      <th>1</th>\n",
       "      <td>카페라떼</td>\n",
       "      <td>5000</td>\n",
       "      <td>브라질</td>\n",
       "      <td>2500</td>\n",
       "    </tr>\n",
       "    <tr>\n",
       "      <th>2</th>\n",
       "      <td>에스프레소</td>\n",
       "      <td>4000</td>\n",
       "      <td>과테말라</td>\n",
       "      <td>2000</td>\n",
       "    </tr>\n",
       "  </tbody>\n",
       "</table>\n",
       "</div>"
      ],
      "text/plain": [
       "      메뉴    가격    원두  이벤트가\n",
       "0  아메리카노  4500  과테말라  2250\n",
       "1   카페라떼  5000   브라질  2500\n",
       "2  에스프레소  4000  과테말라  2000"
      ]
     },
     "execution_count": 38,
     "metadata": {},
     "output_type": "execute_result"
    }
   ],
   "source": [
    "df.loc[:2]"
   ]
  },
  {
   "cell_type": "markdown",
   "id": "1af9e990-b8b0-4c75-9dc4-1f85faa4f291",
   "metadata": {},
   "source": [
    "#### Q7 Choose top of 3 columns (using iloc)"
   ]
  },
  {
   "cell_type": "code",
   "execution_count": 41,
   "id": "599ea0e9-0e56-4b50-a3c6-f81f1331d993",
   "metadata": {},
   "outputs": [
    {
     "data": {
      "text/html": [
       "<div>\n",
       "<style scoped>\n",
       "    .dataframe tbody tr th:only-of-type {\n",
       "        vertical-align: middle;\n",
       "    }\n",
       "\n",
       "    .dataframe tbody tr th {\n",
       "        vertical-align: top;\n",
       "    }\n",
       "\n",
       "    .dataframe thead th {\n",
       "        text-align: right;\n",
       "    }\n",
       "</style>\n",
       "<table border=\"1\" class=\"dataframe\">\n",
       "  <thead>\n",
       "    <tr style=\"text-align: right;\">\n",
       "      <th></th>\n",
       "      <th>메뉴</th>\n",
       "      <th>가격</th>\n",
       "      <th>원두</th>\n",
       "      <th>이벤트가</th>\n",
       "    </tr>\n",
       "  </thead>\n",
       "  <tbody>\n",
       "    <tr>\n",
       "      <th>0</th>\n",
       "      <td>아메리카노</td>\n",
       "      <td>4500</td>\n",
       "      <td>과테말라</td>\n",
       "      <td>2250</td>\n",
       "    </tr>\n",
       "    <tr>\n",
       "      <th>1</th>\n",
       "      <td>카페라떼</td>\n",
       "      <td>5000</td>\n",
       "      <td>브라질</td>\n",
       "      <td>2500</td>\n",
       "    </tr>\n",
       "    <tr>\n",
       "      <th>2</th>\n",
       "      <td>에스프레소</td>\n",
       "      <td>4000</td>\n",
       "      <td>과테말라</td>\n",
       "      <td>2000</td>\n",
       "    </tr>\n",
       "  </tbody>\n",
       "</table>\n",
       "</div>"
      ],
      "text/plain": [
       "      메뉴    가격    원두  이벤트가\n",
       "0  아메리카노  4500  과테말라  2250\n",
       "1   카페라떼  5000   브라질  2500\n",
       "2  에스프레소  4000  과테말라  2000"
      ]
     },
     "execution_count": 41,
     "metadata": {},
     "output_type": "execute_result"
    }
   ],
   "source": [
    "df.iloc[:3]"
   ]
  },
  {
   "cell_type": "markdown",
   "id": "ae334ec1-a1a6-42ef-ad99-f9eba2dc0e69",
   "metadata": {},
   "source": [
    "#### Differences with loc and iloc"
   ]
  },
  {
   "cell_type": "markdown",
   "id": "bf706532-26b1-417b-a01f-9b11ae16c0d6",
   "metadata": {},
   "source": [
    "- iloc: Integer Location\n",
    "- loc: location\n",
    "- you can use 'iloc' when you know index number of data.\n",
    "- you can use 'loc' when you know name of data.\n",
    "- When you use [:3] function loc and iloc, result of each function is 4 and 3."
   ]
  }
 ],
 "metadata": {
  "kernelspec": {
   "display_name": "Python 3 (ipykernel)",
   "language": "python",
   "name": "python3"
  },
  "language_info": {
   "codemirror_mode": {
    "name": "ipython",
    "version": 3
   },
   "file_extension": ".py",
   "mimetype": "text/x-python",
   "name": "python",
   "nbconvert_exporter": "python",
   "pygments_lexer": "ipython3",
   "version": "3.12.4"
  }
 },
 "nbformat": 4,
 "nbformat_minor": 5
}
