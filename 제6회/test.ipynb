{
 "cells": [
  {
   "cell_type": "markdown",
   "id": "63d5a8cc-3648-4e78-985d-fd2faccbc21e",
   "metadata": {
    "id": "uO07g2QeKprH"
   },
   "source": [
    "# 작업형1"
   ]
  },
  {
   "cell_type": "markdown",
   "id": "17d6f9e9-b455-4a50-a01d-2ac95aa8d4fe",
   "metadata": {
    "id": "6f9i0g9dKvQQ"
   },
   "source": [
    "### 문제1"
   ]
  },
  {
   "cell_type": "code",
   "execution_count": 35,
   "id": "52dfcdb8-0deb-4e08-b0e9-f987798b7556",
   "metadata": {
    "colab": {
     "base_uri": "https://localhost:8080/"
    },
    "executionInfo": {
     "elapsed": 1575,
     "status": "ok",
     "timestamp": 1713101751899,
     "user": {
      "displayName": "Tae Heon Kim",
      "userId": "07653788752262629837"
     },
     "user_tz": -540
    },
    "id": "ShDssNLn6Dw8",
    "outputId": "0621c31e-a180-4caa-e978-d9acb4f4358c"
   },
   "outputs": [],
   "source": [
    "import pandas as pd\n",
    "df = pd.read_csv(\"https://raw.githubusercontent.com/lovedlim/bigdata_analyst_cert/main/part4/ch6/data6-1-1.csv\")"
   ]
  },
  {
   "cell_type": "markdown",
   "id": "3df1d4b7-8e96-4707-a2dc-18392d0e4f54",
   "metadata": {
    "id": "ccvjEw-aKy39"
   },
   "source": [
    "### 문제2"
   ]
  },
  {
   "cell_type": "code",
   "execution_count": 7,
   "id": "3624721f-8566-458c-90ec-fc7489f7e7ac",
   "metadata": {
    "colab": {
     "base_uri": "https://localhost:8080/"
    },
    "executionInfo": {
     "elapsed": 534,
     "status": "ok",
     "timestamp": 1713101761101,
     "user": {
      "displayName": "Tae Heon Kim",
      "userId": "07653788752262629837"
     },
     "user_tz": -540
    },
    "id": "-3VwHCDKKjRl",
    "outputId": "937a7711-535c-4609-bc82-1db54a46f8cb"
   },
   "outputs": [],
   "source": [
    "import pandas as pd\n",
    "df = pd.read_csv(\"https://raw.githubusercontent.com/lovedlim/bigdata_analyst_cert/main/part4/ch6/data6-1-2.csv\")"
   ]
  },
  {
   "cell_type": "markdown",
   "id": "02c070cb-bcd9-4d9d-bb12-168ab8fc13c4",
   "metadata": {
    "id": "U2rmG2jaK_v3"
   },
   "source": [
    "### 문제3"
   ]
  },
  {
   "cell_type": "code",
   "execution_count": 11,
   "id": "c162db5f-33cb-4b01-aa6f-f748590de374",
   "metadata": {
    "colab": {
     "base_uri": "https://localhost:8080/"
    },
    "executionInfo": {
     "elapsed": 311,
     "status": "ok",
     "timestamp": 1719908294893,
     "user": {
      "displayName": "Tae Heon Kim",
      "userId": "07653788752262629837"
     },
     "user_tz": -540
    },
    "id": "WgzH-3yB6I26",
    "outputId": "aeee2772-0a12-4d56-d8e9-10987054ba81"
   },
   "outputs": [],
   "source": [
    "import pandas as pd\n",
    "df = pd.read_csv(\"https://raw.githubusercontent.com/lovedlim/bigdata_analyst_cert/main/part4/ch6/data6-1-3.csv\")"
   ]
  },
  {
   "cell_type": "markdown",
   "id": "ff345d23-04c4-4b7d-bf04-2022b4102933",
   "metadata": {},
   "source": [
    "# 작업형2"
   ]
  },
  {
   "cell_type": "code",
   "execution_count": 24,
   "id": "2f6afaf5-9595-4838-8a8f-d4e591442260",
   "metadata": {
    "executionInfo": {
     "elapsed": 449,
     "status": "ok",
     "timestamp": 1722874721598,
     "user": {
      "displayName": "Tae Heon Kim",
      "userId": "07653788752262629837"
     },
     "user_tz": -540
    },
    "id": "8nImjGCxZrfA"
   },
   "outputs": [],
   "source": [
    "# 데이터 불러오기\n",
    "import pandas as pd\n",
    "train = pd.read_csv(\"https://raw.githubusercontent.com/lovedlim/bigdata_analyst_cert/main/part4/ch6/energy_train.csv\")\n",
    "test = pd.read_csv(\"https://raw.githubusercontent.com/lovedlim/bigdata_analyst_cert/main/part4/ch6/energy_test.csv\")"
   ]
  },
  {
   "cell_type": "markdown",
   "id": "a4b576ce-47f6-4425-80fe-45b5b7e81785",
   "metadata": {
    "id": "aH-zAFBloETg"
   },
   "source": [
    "# 작업형3"
   ]
  },
  {
   "cell_type": "markdown",
   "id": "4820e8e3-0e19-4683-9143-28587f0dc559",
   "metadata": {
    "id": "xcmkuNKkYZyN"
   },
   "source": [
    "### 문제1"
   ]
  },
  {
   "cell_type": "code",
   "execution_count": 1,
   "id": "8b9ef41f-8f5b-4458-bfa1-12efa2f9dce1",
   "metadata": {
    "colab": {
     "base_uri": "https://localhost:8080/"
    },
    "executionInfo": {
     "elapsed": 339,
     "status": "ok",
     "timestamp": 1722874971322,
     "user": {
      "displayName": "Tae Heon Kim",
      "userId": "07653788752262629837"
     },
     "user_tz": -540
    },
    "id": "2aa_3YEGOnoq",
    "outputId": "2c4f0767-55f3-4080-ebb6-be5109d52479"
   },
   "outputs": [
    {
     "name": "stdout",
     "output_type": "stream",
     "text": [
      "   항암약\n",
      "0    4\n",
      "1    4\n",
      "2    3\n"
     ]
    }
   ],
   "source": [
    "import pandas as pd\n",
    "df = pd.DataFrame({\n",
    "    \"항암약\":[4,4,3,4,1,4,1,4,1,4,4,2,1,4,2,3,2,4,4,4]\n",
    "    })\n",
    "print(df.head(3))"
   ]
  },
  {
   "cell_type": "markdown",
   "id": "f339374e-defb-4eb7-9666-974068aeff64",
   "metadata": {
    "id": "t6IB5WUEq-SI"
   },
   "source": [
    "### 문제2"
   ]
  },
  {
   "cell_type": "code",
   "execution_count": 8,
   "id": "879795fe-91ca-4b9d-903f-9ed6e8f2102f",
   "metadata": {
    "colab": {
     "base_uri": "https://localhost:8080/"
    },
    "executionInfo": {
     "elapsed": 511,
     "status": "ok",
     "timestamp": 1722874973585,
     "user": {
      "displayName": "Tae Heon Kim",
      "userId": "07653788752262629837"
     },
     "user_tz": -540
    },
    "id": "Hy0NI7InTB5F",
    "outputId": "473d57d8-9067-4942-ffd8-aed054c4d8da"
   },
   "outputs": [
    {
     "name": "stdout",
     "output_type": "stream",
     "text": [
      "    solar  wind     o3  temperature\n",
      "0   89.14  6.28  33.52         23.0\n",
      "1  109.97  1.04  27.01         20.7\n",
      "2  102.83  6.42  41.00         20.5\n"
     ]
    }
   ],
   "source": [
    "import pandas as pd\n",
    "df = pd.read_csv(\"https://raw.githubusercontent.com/lovedlim/bigdata_analyst_cert/main/part4/ch6/data6-3-2.csv\")"
   ]
  }
 ],
 "metadata": {
  "kernelspec": {
   "display_name": "Python 3 (ipykernel)",
   "language": "python",
   "name": "python3"
  },
  "language_info": {
   "codemirror_mode": {
    "name": "ipython",
    "version": 3
   },
   "file_extension": ".py",
   "mimetype": "text/x-python",
   "name": "python",
   "nbconvert_exporter": "python",
   "pygments_lexer": "ipython3",
   "version": "3.12.4"
  }
 },
 "nbformat": 4,
 "nbformat_minor": 5
}
