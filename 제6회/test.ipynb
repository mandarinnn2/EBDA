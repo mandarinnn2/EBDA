{
 "cells": [
  {
   "cell_type": "markdown",
   "id": "63d5a8cc-3648-4e78-985d-fd2faccbc21e",
   "metadata": {
    "id": "uO07g2QeKprH"
   },
   "source": [
    "# 작업형1"
   ]
  },
  {
   "cell_type": "markdown",
   "id": "17d6f9e9-b455-4a50-a01d-2ac95aa8d4fe",
   "metadata": {
    "id": "6f9i0g9dKvQQ"
   },
   "source": [
    "### 문제1"
   ]
  },
  {
   "cell_type": "code",
   "execution_count": 15,
   "id": "52dfcdb8-0deb-4e08-b0e9-f987798b7556",
   "metadata": {
    "colab": {
     "base_uri": "https://localhost:8080/"
    },
    "executionInfo": {
     "elapsed": 1575,
     "status": "ok",
     "timestamp": 1713101751899,
     "user": {
      "displayName": "Tae Heon Kim",
      "userId": "07653788752262629837"
     },
     "user_tz": -540
    },
    "id": "ShDssNLn6Dw8",
    "outputId": "0621c31e-a180-4caa-e978-d9acb4f4358c"
   },
   "outputs": [],
   "source": [
    "import pandas as pd\n",
    "df = pd.read_csv(\"https://raw.githubusercontent.com/lovedlim/bigdata_analyst_cert/main/part4/ch6/data6-1-1.csv\")"
   ]
  },
  {
   "cell_type": "code",
   "execution_count": 16,
   "id": "85b4d958-686a-40da-bff7-737e1ae427b3",
   "metadata": {},
   "outputs": [
    {
     "data": {
      "text/html": [
       "<div>\n",
       "<style scoped>\n",
       "    .dataframe tbody tr th:only-of-type {\n",
       "        vertical-align: middle;\n",
       "    }\n",
       "\n",
       "    .dataframe tbody tr th {\n",
       "        vertical-align: top;\n",
       "    }\n",
       "\n",
       "    .dataframe thead th {\n",
       "        text-align: right;\n",
       "    }\n",
       "</style>\n",
       "<table border=\"1\" class=\"dataframe\">\n",
       "  <thead>\n",
       "    <tr style=\"text-align: right;\">\n",
       "      <th></th>\n",
       "      <th>소방서</th>\n",
       "      <th>출동시간</th>\n",
       "      <th>도착시간</th>\n",
       "    </tr>\n",
       "  </thead>\n",
       "  <tbody>\n",
       "    <tr>\n",
       "      <th>0</th>\n",
       "      <td>소방서1</td>\n",
       "      <td>2023-09-16 06:12:29</td>\n",
       "      <td>2023-09-16 07:51:55</td>\n",
       "    </tr>\n",
       "    <tr>\n",
       "      <th>1</th>\n",
       "      <td>소방서5</td>\n",
       "      <td>2023-09-19 06:11:41</td>\n",
       "      <td>2023-09-19 08:08:36</td>\n",
       "    </tr>\n",
       "    <tr>\n",
       "      <th>2</th>\n",
       "      <td>소방서1</td>\n",
       "      <td>2023-09-14 06:12:00</td>\n",
       "      <td>2023-09-14 07:24:21</td>\n",
       "    </tr>\n",
       "    <tr>\n",
       "      <th>3</th>\n",
       "      <td>소방서6</td>\n",
       "      <td>2023-09-20 06:12:24</td>\n",
       "      <td>2023-09-20 06:30:45</td>\n",
       "    </tr>\n",
       "    <tr>\n",
       "      <th>4</th>\n",
       "      <td>소방서9</td>\n",
       "      <td>2023-09-15 06:11:50</td>\n",
       "      <td>2023-09-15 06:44:00</td>\n",
       "    </tr>\n",
       "  </tbody>\n",
       "</table>\n",
       "</div>"
      ],
      "text/plain": [
       "    소방서                 출동시간                 도착시간\n",
       "0  소방서1  2023-09-16 06:12:29  2023-09-16 07:51:55\n",
       "1  소방서5  2023-09-19 06:11:41  2023-09-19 08:08:36\n",
       "2  소방서1  2023-09-14 06:12:00  2023-09-14 07:24:21\n",
       "3  소방서6  2023-09-20 06:12:24  2023-09-20 06:30:45\n",
       "4  소방서9  2023-09-15 06:11:50  2023-09-15 06:44:00"
      ]
     },
     "execution_count": 16,
     "metadata": {},
     "output_type": "execute_result"
    }
   ],
   "source": [
    "df.head()"
   ]
  },
  {
   "cell_type": "code",
   "execution_count": 17,
   "id": "22782dbb-7fe8-4c9c-b300-6c38cace100e",
   "metadata": {},
   "outputs": [
    {
     "data": {
      "text/plain": [
       "81"
      ]
     },
     "execution_count": 17,
     "metadata": {},
     "output_type": "execute_result"
    }
   ],
   "source": [
    "df['출동시간'] = pd.to_datetime(df['출동시간'])\n",
    "df['도착시간'] = pd.to_datetime(df['도착시간'])\n",
    "\n",
    "df['시간차'] = df['도착시간'] - df['출동시간']\n",
    "df['시간차'] = df['시간차'].dt.total_seconds() / 60\n",
    "df = df.groupby('소방서')['시간차'].mean().max()\n",
    "round(df)"
   ]
  },
  {
   "cell_type": "markdown",
   "id": "3df1d4b7-8e96-4707-a2dc-18392d0e4f54",
   "metadata": {
    "id": "ccvjEw-aKy39"
   },
   "source": [
    "### 문제2"
   ]
  },
  {
   "cell_type": "code",
   "execution_count": 24,
   "id": "3624721f-8566-458c-90ec-fc7489f7e7ac",
   "metadata": {
    "colab": {
     "base_uri": "https://localhost:8080/"
    },
    "executionInfo": {
     "elapsed": 534,
     "status": "ok",
     "timestamp": 1713101761101,
     "user": {
      "displayName": "Tae Heon Kim",
      "userId": "07653788752262629837"
     },
     "user_tz": -540
    },
    "id": "-3VwHCDKKjRl",
    "outputId": "937a7711-535c-4609-bc82-1db54a46f8cb"
   },
   "outputs": [],
   "source": [
    "import pandas as pd\n",
    "df = pd.read_csv(\"https://raw.githubusercontent.com/lovedlim/bigdata_analyst_cert/main/part4/ch6/data6-1-2.csv\")"
   ]
  },
  {
   "cell_type": "code",
   "execution_count": 25,
   "id": "0e3e3f42-8286-42d0-913f-173dc16df235",
   "metadata": {},
   "outputs": [
    {
     "data": {
      "text/html": [
       "<div>\n",
       "<style scoped>\n",
       "    .dataframe tbody tr th:only-of-type {\n",
       "        vertical-align: middle;\n",
       "    }\n",
       "\n",
       "    .dataframe tbody tr th {\n",
       "        vertical-align: top;\n",
       "    }\n",
       "\n",
       "    .dataframe thead th {\n",
       "        text-align: right;\n",
       "    }\n",
       "</style>\n",
       "<table border=\"1\" class=\"dataframe\">\n",
       "  <thead>\n",
       "    <tr style=\"text-align: right;\">\n",
       "      <th></th>\n",
       "      <th>학교명</th>\n",
       "      <th>교사수</th>\n",
       "      <th>1학년</th>\n",
       "      <th>2학년</th>\n",
       "      <th>3학년</th>\n",
       "      <th>4학년</th>\n",
       "      <th>5학년</th>\n",
       "      <th>6학년</th>\n",
       "    </tr>\n",
       "  </thead>\n",
       "  <tbody>\n",
       "    <tr>\n",
       "      <th>0</th>\n",
       "      <td>학교1</td>\n",
       "      <td>20</td>\n",
       "      <td>118</td>\n",
       "      <td>72</td>\n",
       "      <td>154</td>\n",
       "      <td>118</td>\n",
       "      <td>77</td>\n",
       "      <td>59</td>\n",
       "    </tr>\n",
       "    <tr>\n",
       "      <th>1</th>\n",
       "      <td>학교2</td>\n",
       "      <td>31</td>\n",
       "      <td>187</td>\n",
       "      <td>193</td>\n",
       "      <td>135</td>\n",
       "      <td>137</td>\n",
       "      <td>63</td>\n",
       "      <td>90</td>\n",
       "    </tr>\n",
       "    <tr>\n",
       "      <th>2</th>\n",
       "      <td>학교3</td>\n",
       "      <td>23</td>\n",
       "      <td>136</td>\n",
       "      <td>193</td>\n",
       "      <td>135</td>\n",
       "      <td>112</td>\n",
       "      <td>91</td>\n",
       "      <td>50</td>\n",
       "    </tr>\n",
       "    <tr>\n",
       "      <th>3</th>\n",
       "      <td>학교4</td>\n",
       "      <td>32</td>\n",
       "      <td>72</td>\n",
       "      <td>146</td>\n",
       "      <td>67</td>\n",
       "      <td>51</td>\n",
       "      <td>130</td>\n",
       "      <td>164</td>\n",
       "    </tr>\n",
       "    <tr>\n",
       "      <th>4</th>\n",
       "      <td>학교5</td>\n",
       "      <td>22</td>\n",
       "      <td>61</td>\n",
       "      <td>73</td>\n",
       "      <td>86</td>\n",
       "      <td>82</td>\n",
       "      <td>55</td>\n",
       "      <td>124</td>\n",
       "    </tr>\n",
       "  </tbody>\n",
       "</table>\n",
       "</div>"
      ],
      "text/plain": [
       "   학교명  교사수  1학년  2학년  3학년  4학년  5학년  6학년\n",
       "0  학교1   20  118   72  154  118   77   59\n",
       "1  학교2   31  187  193  135  137   63   90\n",
       "2  학교3   23  136  193  135  112   91   50\n",
       "3  학교4   32   72  146   67   51  130  164\n",
       "4  학교5   22   61   73   86   82   55  124"
      ]
     },
     "execution_count": 25,
     "metadata": {},
     "output_type": "execute_result"
    }
   ],
   "source": [
    "df.head()"
   ]
  },
  {
   "cell_type": "code",
   "execution_count": 26,
   "id": "b387993d-9157-4248-ad2d-62e59061745c",
   "metadata": {},
   "outputs": [
    {
     "name": "stdout",
     "output_type": "stream",
     "text": [
      "   학교명  교사수  1학년  2학년  3학년  4학년  5학년  6학년  전체학생   총학생         비율\n",
      "7  학교8   19  151  181  161  187  174  183  1037  2074  54.578947\n",
      "19\n"
     ]
    }
   ],
   "source": [
    "df['전체학생'] = df['1학년'] + df['2학년'] + df['3학년'] + df['4학년'] + df['5학년'] + df['6학년']\n",
    "df['비율'] = df['전체학생'] / df['교사수']\n",
    "x = df['비율'].max()\n",
    "df = df[df['비율'] == x]\n",
    "print(df)\n",
    "print(df['교사수'][7])"
   ]
  },
  {
   "cell_type": "markdown",
   "id": "02c070cb-bcd9-4d9d-bb12-168ab8fc13c4",
   "metadata": {
    "id": "U2rmG2jaK_v3"
   },
   "source": [
    "### 문제3"
   ]
  },
  {
   "cell_type": "code",
   "execution_count": 27,
   "id": "c162db5f-33cb-4b01-aa6f-f748590de374",
   "metadata": {
    "colab": {
     "base_uri": "https://localhost:8080/"
    },
    "executionInfo": {
     "elapsed": 311,
     "status": "ok",
     "timestamp": 1719908294893,
     "user": {
      "displayName": "Tae Heon Kim",
      "userId": "07653788752262629837"
     },
     "user_tz": -540
    },
    "id": "WgzH-3yB6I26",
    "outputId": "aeee2772-0a12-4d56-d8e9-10987054ba81"
   },
   "outputs": [],
   "source": [
    "import pandas as pd\n",
    "df = pd.read_csv(\"https://raw.githubusercontent.com/lovedlim/bigdata_analyst_cert/main/part4/ch6/data6-1-3.csv\")"
   ]
  },
  {
   "cell_type": "code",
   "execution_count": 28,
   "id": "30185f70-2731-4a0e-a3af-48fe361c9a6f",
   "metadata": {},
   "outputs": [
    {
     "data": {
      "text/html": [
       "<div>\n",
       "<style scoped>\n",
       "    .dataframe tbody tr th:only-of-type {\n",
       "        vertical-align: middle;\n",
       "    }\n",
       "\n",
       "    .dataframe tbody tr th {\n",
       "        vertical-align: top;\n",
       "    }\n",
       "\n",
       "    .dataframe thead th {\n",
       "        text-align: right;\n",
       "    }\n",
       "</style>\n",
       "<table border=\"1\" class=\"dataframe\">\n",
       "  <thead>\n",
       "    <tr style=\"text-align: right;\">\n",
       "      <th></th>\n",
       "      <th>날짜</th>\n",
       "      <th>강력범죄</th>\n",
       "      <th>절도범죄</th>\n",
       "      <th>폭력범죄</th>\n",
       "      <th>지능범죄</th>\n",
       "      <th>풍속범죄</th>\n",
       "      <th>교통범죄</th>\n",
       "      <th>경찰서명</th>\n",
       "    </tr>\n",
       "  </thead>\n",
       "  <tbody>\n",
       "    <tr>\n",
       "      <th>0</th>\n",
       "      <td>2020년 01월</td>\n",
       "      <td>22</td>\n",
       "      <td>102</td>\n",
       "      <td>86</td>\n",
       "      <td>62</td>\n",
       "      <td>28</td>\n",
       "      <td>212</td>\n",
       "      <td>B경찰서</td>\n",
       "    </tr>\n",
       "    <tr>\n",
       "      <th>1</th>\n",
       "      <td>2020년 02월</td>\n",
       "      <td>26</td>\n",
       "      <td>138</td>\n",
       "      <td>80</td>\n",
       "      <td>61</td>\n",
       "      <td>31</td>\n",
       "      <td>183</td>\n",
       "      <td>E경찰서</td>\n",
       "    </tr>\n",
       "    <tr>\n",
       "      <th>2</th>\n",
       "      <td>2020년 03월</td>\n",
       "      <td>14</td>\n",
       "      <td>129</td>\n",
       "      <td>76</td>\n",
       "      <td>60</td>\n",
       "      <td>29</td>\n",
       "      <td>202</td>\n",
       "      <td>C경찰서</td>\n",
       "    </tr>\n",
       "    <tr>\n",
       "      <th>3</th>\n",
       "      <td>2020년 04월</td>\n",
       "      <td>26</td>\n",
       "      <td>142</td>\n",
       "      <td>83</td>\n",
       "      <td>71</td>\n",
       "      <td>33</td>\n",
       "      <td>182</td>\n",
       "      <td>B경찰서</td>\n",
       "    </tr>\n",
       "    <tr>\n",
       "      <th>4</th>\n",
       "      <td>2020년 05월</td>\n",
       "      <td>28</td>\n",
       "      <td>131</td>\n",
       "      <td>80</td>\n",
       "      <td>72</td>\n",
       "      <td>28</td>\n",
       "      <td>212</td>\n",
       "      <td>B경찰서</td>\n",
       "    </tr>\n",
       "  </tbody>\n",
       "</table>\n",
       "</div>"
      ],
      "text/plain": [
       "          날짜  강력범죄  절도범죄  폭력범죄  지능범죄  풍속범죄  교통범죄  경찰서명\n",
       "0  2020년 01월    22   102    86    62    28   212  B경찰서\n",
       "1  2020년 02월    26   138    80    61    31   183  E경찰서\n",
       "2  2020년 03월    14   129    76    60    29   202  C경찰서\n",
       "3  2020년 04월    26   142    83    71    33   182  B경찰서\n",
       "4  2020년 05월    28   131    80    72    28   212  B경찰서"
      ]
     },
     "execution_count": 28,
     "metadata": {},
     "output_type": "execute_result"
    }
   ],
   "source": [
    "df.head()"
   ]
  },
  {
   "cell_type": "code",
   "execution_count": 42,
   "id": "9d4c22eb-80a3-46dd-8e58-17a96935fb23",
   "metadata": {},
   "outputs": [
    {
     "name": "stdout",
     "output_type": "stream",
     "text": [
      "533\n"
     ]
    }
   ],
   "source": [
    "df['총범죄'] = df.iloc[:, 1:7].sum(axis=1)\n",
    "df['연도'] = df['날짜'].str[:4]\n",
    "result = df.groupby('연도')['총범죄'].sum().max()\n",
    "print(round(result / 12))"
   ]
  },
  {
   "cell_type": "markdown",
   "id": "ff345d23-04c4-4b7d-bf04-2022b4102933",
   "metadata": {},
   "source": [
    "# 작업형2"
   ]
  },
  {
   "cell_type": "code",
   "execution_count": 83,
   "id": "2f6afaf5-9595-4838-8a8f-d4e591442260",
   "metadata": {
    "executionInfo": {
     "elapsed": 449,
     "status": "ok",
     "timestamp": 1722874721598,
     "user": {
      "displayName": "Tae Heon Kim",
      "userId": "07653788752262629837"
     },
     "user_tz": -540
    },
    "id": "8nImjGCxZrfA"
   },
   "outputs": [],
   "source": [
    "# 데이터 불러오기\n",
    "import pandas as pd\n",
    "train = pd.read_csv(\"https://raw.githubusercontent.com/lovedlim/bigdata_analyst_cert/main/part4/ch6/energy_train.csv\")\n",
    "test = pd.read_csv(\"https://raw.githubusercontent.com/lovedlim/bigdata_analyst_cert/main/part4/ch6/energy_test.csv\")"
   ]
  },
  {
   "cell_type": "code",
   "execution_count": 84,
   "id": "588874a4-cbf7-4745-aa5c-8e30e7f7a873",
   "metadata": {
    "scrolled": true
   },
   "outputs": [
    {
     "name": "stdout",
     "output_type": "stream",
     "text": [
      "(537, 10) (231, 9)\n",
      "          Compac   Surf_Area   Wall_Area  Glaze_Area  Glaze_Distr   Cool_Load\n",
      "count  537.00000  537.000000  537.000000  537.000000   537.000000  537.000000\n",
      "mean     0.76879  667.796089  318.271881    0.237244     2.808194   24.939628\n",
      "std      0.10636   88.123635   42.447824    0.132183     1.541251    9.600170\n",
      "min      0.62000  514.500000  245.000000    0.000000     0.000000   11.170000\n",
      "25%      0.69000  588.000000  294.000000    0.100000     2.000000   15.770000\n",
      "50%      0.76000  661.500000  318.500000    0.250000     3.000000   25.160000\n",
      "75%      0.86000  735.000000  343.000000    0.400000     4.000000   33.540000\n",
      "max      0.98000  808.500000  416.500000    0.400000     5.000000   48.030000            Compac   Surf_Area   Wall_Area  Glaze_Area  Glaze_Distr   Cool_Load\n",
      "count  231.000000  231.000000  231.000000  231.000000   231.000000  231.000000\n",
      "mean     0.753420  680.803030  319.030303    0.227706     2.822511   23.769784\n",
      "std      0.103843   87.513907   46.341867    0.135658     1.576627    9.277189\n",
      "min      0.620000  514.500000  245.000000    0.000000     0.000000   10.900000\n",
      "25%      0.660000  612.500000  294.000000    0.100000     1.500000   15.375000\n",
      "50%      0.740000  686.000000  318.500000    0.250000     3.000000   20.560000\n",
      "75%      0.820000  759.500000  343.000000    0.400000     4.000000   31.940000\n",
      "max      0.980000  808.500000  416.500000    0.400000     5.000000   47.590000\n",
      "<class 'pandas.core.frame.DataFrame'>\n",
      "RangeIndex: 537 entries, 0 to 536\n",
      "Data columns (total 10 columns):\n",
      " #   Column       Non-Null Count  Dtype  \n",
      "---  ------       --------------  -----  \n",
      " 0   Compac       537 non-null    float64\n",
      " 1   Surf_Area    537 non-null    float64\n",
      " 2   Wall_Area    537 non-null    float64\n",
      " 3   Roof         537 non-null    object \n",
      " 4   Height       537 non-null    object \n",
      " 5   Orient       537 non-null    object \n",
      " 6   Glaze_Area   537 non-null    float64\n",
      " 7   Glaze_Distr  537 non-null    int64  \n",
      " 8   Cool_Load    537 non-null    float64\n",
      " 9   Heat_Load    537 non-null    object \n",
      "dtypes: float64(5), int64(1), object(4)\n",
      "memory usage: 42.1+ KB\n",
      "<class 'pandas.core.frame.DataFrame'>\n",
      "RangeIndex: 231 entries, 0 to 230\n",
      "Data columns (total 9 columns):\n",
      " #   Column       Non-Null Count  Dtype  \n",
      "---  ------       --------------  -----  \n",
      " 0   Compac       231 non-null    float64\n",
      " 1   Surf_Area    231 non-null    float64\n",
      " 2   Wall_Area    231 non-null    float64\n",
      " 3   Roof         231 non-null    object \n",
      " 4   Height       231 non-null    object \n",
      " 5   Orient       231 non-null    object \n",
      " 6   Glaze_Area   231 non-null    float64\n",
      " 7   Glaze_Distr  231 non-null    int64  \n",
      " 8   Cool_Load    231 non-null    float64\n",
      "dtypes: float64(5), int64(1), object(3)\n",
      "memory usage: 16.4+ KB\n",
      "None None\n",
      "0 0\n"
     ]
    }
   ],
   "source": [
    "print(train.shape, test.shape)\n",
    "print(train.describe(), test.describe())\n",
    "print(train.info(), test.info())\n",
    "print(train.isnull().sum().sum(), test.isnull().sum().sum())"
   ]
  },
  {
   "cell_type": "code",
   "execution_count": 85,
   "id": "b79e598a-9285-4636-bce5-be6ef5278186",
   "metadata": {},
   "outputs": [
    {
     "name": "stdout",
     "output_type": "stream",
     "text": [
      "0.9489195376832467\n",
      "0.8938677965604732\n",
      "0.9374839068652628\n",
      "0.9319703995747778\n"
     ]
    }
   ],
   "source": [
    "from sklearn.preprocessing import LabelEncoder\n",
    "\n",
    "target = train.pop('Heat_Load')\n",
    "cols = train.select_dtypes(include='O').columns\n",
    "\n",
    "for col in cols:\n",
    "    le = LabelEncoder()\n",
    "    train[col] = le.fit_transform(train[col])\n",
    "    test[col] = le.transform(test[col])\n",
    "\n",
    "from sklearn.model_selection import train_test_split\n",
    "x_train, x_test, y_train, y_test = train_test_split(train, target, random_state=0, test_size=0.2)\n",
    "\n",
    "from sklearn.metrics import f1_score\n",
    "\n",
    "from sklearn.ensemble import RandomForestClassifier\n",
    "rf = RandomForestClassifier(random_state=0)\n",
    "rf.fit(x_train, y_train)\n",
    "y_pred = rf.predict(x_test)\n",
    "print(f1_score(y_pred, y_test, average='macro'))\n",
    "      \n",
    "from sklearn.tree import DecisionTreeClassifier\n",
    "dt = DecisionTreeClassifier(random_state=0)\n",
    "dt.fit(x_train, y_train)\n",
    "y_pred = dt.predict(x_test)\n",
    "print(f1_score(y_pred, y_test, average='macro'))\n",
    "\n",
    "import xgboost as xgb\n",
    "xg = xgb.XGBClassifier(random_state=0)\n",
    "xgb_data = le.fit_transform(y_train)\n",
    "xg.fit(x_train, xgb_data)\n",
    "y_pred = xg.predict(x_test)\n",
    "y_pred = le.inverse_transform(y_pred)\n",
    "print(f1_score(y_pred, y_test, average='macro'))\n",
    "\n",
    "import lightgbm as lgbm\n",
    "lg = lgbm.LGBMClassifier(random_state=0, verbose=-1)\n",
    "lg.fit(x_train, y_train)\n",
    "y_pred = lg.predict(x_test)\n",
    "print(f1_score(y_pred, y_test, average='macro'))"
   ]
  },
  {
   "cell_type": "code",
   "execution_count": 86,
   "id": "ce534bc2-dbef-41c6-9b90-d406e65f37ce",
   "metadata": {},
   "outputs": [],
   "source": [
    "y_pred = lg.predict(test)\n",
    "result = pd.DataFrame({\n",
    "    'pred':y_pred\n",
    "})\n",
    "result.to_csv('result.csv', index=False)"
   ]
  },
  {
   "cell_type": "code",
   "execution_count": 88,
   "id": "060d1233-b814-412a-b860-d9cd9b7cbabe",
   "metadata": {
    "scrolled": true
   },
   "outputs": [
    {
     "data": {
      "text/plain": [
       "(   pred\n",
       " 0   Low\n",
       " 1  High\n",
       " 2  High\n",
       " 3   Low\n",
       " 4   Low,\n",
       " (231, 1))"
      ]
     },
     "execution_count": 88,
     "metadata": {},
     "output_type": "execute_result"
    }
   ],
   "source": [
    "result.head(), result.shape"
   ]
  },
  {
   "cell_type": "code",
   "execution_count": 91,
   "id": "73caa7aa-30c1-4e2a-8de1-f0f6601a978c",
   "metadata": {},
   "outputs": [
    {
     "name": "stdout",
     "output_type": "stream",
     "text": [
      "[0.89416785 0.9423412  0.92497696 0.94250337 0.95731908]\n",
      "0.9322616906462656\n"
     ]
    }
   ],
   "source": [
    "from sklearn.model_selection import cross_val_score\n",
    "scores = cross_val_score(lg, train, target, cv=5, scoring='f1_macro')\n",
    "print(scores)\n",
    "\n",
    "print(scores.mean())"
   ]
  },
  {
   "cell_type": "markdown",
   "id": "a4b576ce-47f6-4425-80fe-45b5b7e81785",
   "metadata": {
    "id": "aH-zAFBloETg"
   },
   "source": [
    "# 작업형3"
   ]
  },
  {
   "cell_type": "markdown",
   "id": "4820e8e3-0e19-4683-9143-28587f0dc559",
   "metadata": {
    "id": "xcmkuNKkYZyN"
   },
   "source": [
    "### 문제1"
   ]
  },
  {
   "cell_type": "code",
   "execution_count": 92,
   "id": "8b9ef41f-8f5b-4458-bfa1-12efa2f9dce1",
   "metadata": {
    "colab": {
     "base_uri": "https://localhost:8080/"
    },
    "executionInfo": {
     "elapsed": 339,
     "status": "ok",
     "timestamp": 1722874971322,
     "user": {
      "displayName": "Tae Heon Kim",
      "userId": "07653788752262629837"
     },
     "user_tz": -540
    },
    "id": "2aa_3YEGOnoq",
    "outputId": "2c4f0767-55f3-4080-ebb6-be5109d52479"
   },
   "outputs": [],
   "source": [
    "import pandas as pd\n",
    "df = pd.DataFrame({\n",
    "    \"항암약\":[4,4,3,4,1,4,1,4,1,4,4,2,1,4,2,3,2,4,4,4]\n",
    "    })"
   ]
  },
  {
   "cell_type": "code",
   "execution_count": 93,
   "id": "5626cbe5-5e97-4fdf-be46-2cb303529dcc",
   "metadata": {
    "scrolled": true
   },
   "outputs": [
    {
     "data": {
      "text/html": [
       "<div>\n",
       "<style scoped>\n",
       "    .dataframe tbody tr th:only-of-type {\n",
       "        vertical-align: middle;\n",
       "    }\n",
       "\n",
       "    .dataframe tbody tr th {\n",
       "        vertical-align: top;\n",
       "    }\n",
       "\n",
       "    .dataframe thead th {\n",
       "        text-align: right;\n",
       "    }\n",
       "</style>\n",
       "<table border=\"1\" class=\"dataframe\">\n",
       "  <thead>\n",
       "    <tr style=\"text-align: right;\">\n",
       "      <th></th>\n",
       "      <th>항암약</th>\n",
       "    </tr>\n",
       "  </thead>\n",
       "  <tbody>\n",
       "    <tr>\n",
       "      <th>0</th>\n",
       "      <td>4</td>\n",
       "    </tr>\n",
       "    <tr>\n",
       "      <th>1</th>\n",
       "      <td>4</td>\n",
       "    </tr>\n",
       "    <tr>\n",
       "      <th>2</th>\n",
       "      <td>3</td>\n",
       "    </tr>\n",
       "    <tr>\n",
       "      <th>3</th>\n",
       "      <td>4</td>\n",
       "    </tr>\n",
       "    <tr>\n",
       "      <th>4</th>\n",
       "      <td>1</td>\n",
       "    </tr>\n",
       "  </tbody>\n",
       "</table>\n",
       "</div>"
      ],
      "text/plain": [
       "   항암약\n",
       "0    4\n",
       "1    4\n",
       "2    3\n",
       "3    4\n",
       "4    1"
      ]
     },
     "execution_count": 93,
     "metadata": {},
     "output_type": "execute_result"
    }
   ],
   "source": [
    "df.head()"
   ]
  },
  {
   "cell_type": "code",
   "execution_count": 94,
   "id": "497de25f-4758-4415-b682-e91726bf0d2a",
   "metadata": {},
   "outputs": [
    {
     "name": "stdout",
     "output_type": "stream",
     "text": [
      "0.55\n"
     ]
    }
   ],
   "source": [
    "df_x = df[df['항암약'] == 4]\n",
    "print(len(df_x) / len(df))"
   ]
  },
  {
   "cell_type": "code",
   "execution_count": 97,
   "id": "ca0319ca-ce6d-49b5-862e-a1dce8e9ffdf",
   "metadata": {
    "scrolled": true
   },
   "outputs": [
    {
     "data": {
      "text/plain": [
       "항암약\n",
       "4    0.55\n",
       "1    0.20\n",
       "2    0.15\n",
       "3    0.10\n",
       "Name: proportion, dtype: float64"
      ]
     },
     "execution_count": 97,
     "metadata": {},
     "output_type": "execute_result"
    }
   ],
   "source": [
    "df['항암약'].value_counts(normalize=True)"
   ]
  },
  {
   "cell_type": "code",
   "execution_count": 99,
   "id": "d9bf403f-2446-4114-9f12-f358fc6e7553",
   "metadata": {},
   "outputs": [
    {
     "name": "stdout",
     "output_type": "stream",
     "text": [
      "20\n",
      "[4, 3, 2, 11]\n"
     ]
    }
   ],
   "source": [
    "from scipy.stats import chisquare\n",
    "prob = [0.1, 0.05, 0.15, 0.7]\n",
    "print(len(df))\n",
    "\n",
    "expected_counts = [0.1 * 20, 0.05 * 20, 0.15 * 20, 0.7 * 20]\n",
    "\n",
    "observed_counts = df['항암약'].value_counts().sort_index().to_list()\n",
    "print(observed_counts)"
   ]
  },
  {
   "cell_type": "code",
   "execution_count": 101,
   "id": "1cbdeaff-5ddd-4a0f-bffb-e02136ba19d3",
   "metadata": {},
   "outputs": [
    {
     "name": "stdout",
     "output_type": "stream",
     "text": [
      "Power_divergenceResult(statistic=6.976190476190476, pvalue=0.07266054733847573)\n"
     ]
    }
   ],
   "source": [
    "print(chisquare(f_obs=observed_counts, f_exp=expected_counts))"
   ]
  },
  {
   "cell_type": "markdown",
   "id": "f339374e-defb-4eb7-9666-974068aeff64",
   "metadata": {
    "id": "t6IB5WUEq-SI"
   },
   "source": [
    "### 문제2"
   ]
  },
  {
   "cell_type": "code",
   "execution_count": 102,
   "id": "879795fe-91ca-4b9d-903f-9ed6e8f2102f",
   "metadata": {
    "colab": {
     "base_uri": "https://localhost:8080/"
    },
    "executionInfo": {
     "elapsed": 511,
     "status": "ok",
     "timestamp": 1722874973585,
     "user": {
      "displayName": "Tae Heon Kim",
      "userId": "07653788752262629837"
     },
     "user_tz": -540
    },
    "id": "Hy0NI7InTB5F",
    "outputId": "473d57d8-9067-4942-ffd8-aed054c4d8da"
   },
   "outputs": [],
   "source": [
    "import pandas as pd\n",
    "df = pd.read_csv(\"https://raw.githubusercontent.com/lovedlim/bigdata_analyst_cert/main/part4/ch6/data6-3-2.csv\")"
   ]
  },
  {
   "cell_type": "code",
   "execution_count": 103,
   "id": "6ba25992-0947-47ae-bdff-b11e3f794a6a",
   "metadata": {},
   "outputs": [
    {
     "data": {
      "text/html": [
       "<div>\n",
       "<style scoped>\n",
       "    .dataframe tbody tr th:only-of-type {\n",
       "        vertical-align: middle;\n",
       "    }\n",
       "\n",
       "    .dataframe tbody tr th {\n",
       "        vertical-align: top;\n",
       "    }\n",
       "\n",
       "    .dataframe thead th {\n",
       "        text-align: right;\n",
       "    }\n",
       "</style>\n",
       "<table border=\"1\" class=\"dataframe\">\n",
       "  <thead>\n",
       "    <tr style=\"text-align: right;\">\n",
       "      <th></th>\n",
       "      <th>solar</th>\n",
       "      <th>wind</th>\n",
       "      <th>o3</th>\n",
       "      <th>temperature</th>\n",
       "    </tr>\n",
       "  </thead>\n",
       "  <tbody>\n",
       "    <tr>\n",
       "      <th>0</th>\n",
       "      <td>89.14</td>\n",
       "      <td>6.28</td>\n",
       "      <td>33.52</td>\n",
       "      <td>23.0</td>\n",
       "    </tr>\n",
       "    <tr>\n",
       "      <th>1</th>\n",
       "      <td>109.97</td>\n",
       "      <td>1.04</td>\n",
       "      <td>27.01</td>\n",
       "      <td>20.7</td>\n",
       "    </tr>\n",
       "    <tr>\n",
       "      <th>2</th>\n",
       "      <td>102.83</td>\n",
       "      <td>6.42</td>\n",
       "      <td>41.00</td>\n",
       "      <td>20.5</td>\n",
       "    </tr>\n",
       "    <tr>\n",
       "      <th>3</th>\n",
       "      <td>84.94</td>\n",
       "      <td>10.20</td>\n",
       "      <td>33.44</td>\n",
       "      <td>22.2</td>\n",
       "    </tr>\n",
       "    <tr>\n",
       "      <th>4</th>\n",
       "      <td>94.21</td>\n",
       "      <td>4.95</td>\n",
       "      <td>29.97</td>\n",
       "      <td>21.4</td>\n",
       "    </tr>\n",
       "  </tbody>\n",
       "</table>\n",
       "</div>"
      ],
      "text/plain": [
       "    solar   wind     o3  temperature\n",
       "0   89.14   6.28  33.52         23.0\n",
       "1  109.97   1.04  27.01         20.7\n",
       "2  102.83   6.42  41.00         20.5\n",
       "3   84.94  10.20  33.44         22.2\n",
       "4   94.21   4.95  29.97         21.4"
      ]
     },
     "execution_count": 103,
     "metadata": {},
     "output_type": "execute_result"
    }
   ],
   "source": [
    "df.head()"
   ]
  },
  {
   "cell_type": "code",
   "execution_count": 104,
   "id": "66dbc393-bec8-4d54-9a9b-3f69703edc7e",
   "metadata": {},
   "outputs": [
    {
     "name": "stdout",
     "output_type": "stream",
     "text": [
      "0.07493854378136539\n"
     ]
    }
   ],
   "source": [
    "from statsmodels.formula.api import ols\n",
    "\n",
    "formula = 'temperature ~ solar + wind + o3'\n",
    "\n",
    "model = ols(formula, data=df).fit()\n",
    "\n",
    "print(model.params['o3'])"
   ]
  },
  {
   "cell_type": "code",
   "execution_count": 106,
   "id": "070486c0-92a9-46db-9071-f30861c57a16",
   "metadata": {},
   "outputs": [
    {
     "name": "stdout",
     "output_type": "stream",
     "text": [
      "0.7797177202071623\n"
     ]
    }
   ],
   "source": [
    "print(model.pvalues['wind'])"
   ]
  },
  {
   "cell_type": "code",
   "execution_count": 108,
   "id": "7627095c-2afd-4db8-98cd-acf29f508f09",
   "metadata": {},
   "outputs": [
    {
     "name": "stdout",
     "output_type": "stream",
     "text": [
      "21.561630469479688\n"
     ]
    }
   ],
   "source": [
    "data = pd.DataFrame({\n",
    "    'solar':[100],\n",
    "    'wind':[5],\n",
    "    'o3':[30]\n",
    "})\n",
    "print(model.predict(data)[0])"
   ]
  }
 ],
 "metadata": {
  "kernelspec": {
   "display_name": "Python 3 (ipykernel)",
   "language": "python",
   "name": "python3"
  },
  "language_info": {
   "codemirror_mode": {
    "name": "ipython",
    "version": 3
   },
   "file_extension": ".py",
   "mimetype": "text/x-python",
   "name": "python",
   "nbconvert_exporter": "python",
   "pygments_lexer": "ipython3",
   "version": "3.12.4"
  }
 },
 "nbformat": 4,
 "nbformat_minor": 5
}
