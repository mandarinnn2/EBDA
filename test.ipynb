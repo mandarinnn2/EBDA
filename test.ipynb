{
 "cells": [
  {
   "cell_type": "markdown",
   "id": "32320710-4507-4704-aa50-c3f18f519e4c",
   "metadata": {
    "id": "uO07g2QeKprH"
   },
   "source": [
    "## 작업형1"
   ]
  },
  {
   "cell_type": "markdown",
   "id": "cd3c5c43-2f79-4b34-84e7-96608054a82b",
   "metadata": {
    "id": "6f9i0g9dKvQQ"
   },
   "source": [
    "### 문제1"
   ]
  },
  {
   "cell_type": "code",
   "execution_count": 1,
   "id": "865c4bd8-7203-4354-8fce-31e4a2d597d0",
   "metadata": {
    "colab": {
     "base_uri": "https://localhost:8080/"
    },
    "executionInfo": {
     "elapsed": 578,
     "status": "ok",
     "timestamp": 1717333939429,
     "user": {
      "displayName": "Tae Heon Kim",
      "userId": "07653788752262629837"
     },
     "user_tz": -540
    },
    "id": "ShDssNLn6Dw8",
    "outputId": "9871913f-3b0c-47a0-a3ab-9d2726f36123"
   },
   "outputs": [],
   "source": [
    "import pandas as pd\n",
    "df = pd.read_csv(\"https://raw.githubusercontent.com/lovedlim/bigdata_analyst_cert/main/part4/ch3/members.csv\")"
   ]
  },
  {
   "cell_type": "markdown",
   "id": "5b13e17f-5eda-41d0-829c-fae926399be9",
   "metadata": {
    "id": "ccvjEw-aKy39"
   },
   "source": [
    "### 문제2"
   ]
  },
  {
   "cell_type": "code",
   "execution_count": 2,
   "id": "991410eb-ecdf-4f1f-b231-2750dada150b",
   "metadata": {
    "colab": {
     "base_uri": "https://localhost:8080/"
    },
    "executionInfo": {
     "elapsed": 360,
     "status": "ok",
     "timestamp": 1717333939787,
     "user": {
      "displayName": "Tae Heon Kim",
      "userId": "07653788752262629837"
     },
     "user_tz": -540
    },
    "id": "-3VwHCDKKjRl",
    "outputId": "70c9238f-89cf-41b1-f615-8e46b5408266"
   },
   "outputs": [],
   "source": [
    "# 방법1\n",
    "import pandas as pd\n",
    "df = pd.read_csv('https://raw.githubusercontent.com/lovedlim/bigdata_analyst_cert/main/part4/ch3/year.csv', index_col='Unnamed: 0')"
   ]
  },
  {
   "cell_type": "code",
   "execution_count": 3,
   "id": "2967c9cc-e32d-4ab0-884f-7b77fca40442",
   "metadata": {
    "colab": {
     "base_uri": "https://localhost:8080/"
    },
    "executionInfo": {
     "elapsed": 5,
     "status": "ok",
     "timestamp": 1717333939787,
     "user": {
      "displayName": "Tae Heon Kim",
      "userId": "07653788752262629837"
     },
     "user_tz": -540
    },
    "id": "iYnbTrVNYbjs",
    "outputId": "671a595f-2ecc-465c-b513-d7e68927bb1d"
   },
   "outputs": [],
   "source": [
    "# 방법2\n",
    "df = pd.read_csv('https://raw.githubusercontent.com/lovedlim/bigdata_analyst_cert/main/part4/ch3/year.csv', index_col='Unnamed: 0')"
   ]
  },
  {
   "cell_type": "markdown",
   "id": "23cba1d0-9afe-464c-9846-0e4203ff3d12",
   "metadata": {
    "id": "U2rmG2jaK_v3"
   },
   "source": [
    "### 문제3"
   ]
  },
  {
   "cell_type": "code",
   "execution_count": 4,
   "id": "be27a63c-5943-4c0d-b450-22cef3e9fd10",
   "metadata": {
    "colab": {
     "base_uri": "https://localhost:8080/"
    },
    "executionInfo": {
     "elapsed": 5,
     "status": "ok",
     "timestamp": 1717333939788,
     "user": {
      "displayName": "Tae Heon Kim",
      "userId": "07653788752262629837"
     },
     "user_tz": -540
    },
    "id": "WgzH-3yB6I26",
    "outputId": "dd746db0-5cc0-42b6-9225-3a6bed976754"
   },
   "outputs": [],
   "source": [
    "# 방법1\n",
    "import pandas as pd\n",
    "df = pd.read_csv(\"https://raw.githubusercontent.com/lovedlim/bigdata_analyst_cert/main/part4/ch3/members.csv\")"
   ]
  },
  {
   "cell_type": "code",
   "execution_count": 5,
   "id": "45103773-cc79-4372-9e0d-103d5e0f221f",
   "metadata": {
    "colab": {
     "base_uri": "https://localhost:8080/"
    },
    "executionInfo": {
     "elapsed": 4,
     "status": "ok",
     "timestamp": 1717333939788,
     "user": {
      "displayName": "Tae Heon Kim",
      "userId": "07653788752262629837"
     },
     "user_tz": -540
    },
    "id": "L9JYUM9N9u_z",
    "outputId": "dcb941dd-cc0d-4b2d-a9d5-0567eaba4cd0"
   },
   "outputs": [],
   "source": [
    "# 방법2\n",
    "df = pd.read_csv(\"https://raw.githubusercontent.com/lovedlim/bigdata_analyst_cert/main/part4/ch3/members.csv\")"
   ]
  },
  {
   "cell_type": "markdown",
   "id": "5190b2dc-bfbd-4f55-ad37-c7d17c493316",
   "metadata": {},
   "source": [
    "## 작업형2"
   ]
  },
  {
   "cell_type": "code",
   "execution_count": 6,
   "id": "a8266db9-d584-45bf-8828-7bccec383347",
   "metadata": {},
   "outputs": [],
   "source": [
    "# 데이터 불러오기\n",
    "import pandas as pd\n",
    "train = pd.read_csv(\"https://raw.githubusercontent.com/lovedlim/bigdata_analyst_cert/main/part4/ch3/train.csv\")\n",
    "test = pd.read_csv(\"https://raw.githubusercontent.com/lovedlim/bigdata_analyst_cert/main/part4/ch3/test.csv\")"
   ]
  }
 ],
 "metadata": {
  "kernelspec": {
   "display_name": "Python 3 (ipykernel)",
   "language": "python",
   "name": "python3"
  },
  "language_info": {
   "codemirror_mode": {
    "name": "ipython",
    "version": 3
   },
   "file_extension": ".py",
   "mimetype": "text/x-python",
   "name": "python",
   "nbconvert_exporter": "python",
   "pygments_lexer": "ipython3",
   "version": "3.12.4"
  }
 },
 "nbformat": 4,
 "nbformat_minor": 5
}
