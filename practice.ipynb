{
 "cells": [
  {
   "cell_type": "markdown",
   "id": "ab85f38d-3c75-4a99-8b7b-3e2d5b4a1d89",
   "metadata": {},
   "source": [
    "#### 01 Filtering, Min, Median"
   ]
  },
  {
   "cell_type": "code",
   "execution_count": 34,
   "id": "984d7bf8-212d-490c-9389-4adadfccfeac",
   "metadata": {},
   "outputs": [],
   "source": [
    "import pandas as pd\n",
    "df = pd.read_csv(\"type1_data1.csv\")"
   ]
  },
  {
   "cell_type": "code",
   "execution_count": 35,
   "id": "af4cba60-521c-4129-9a13-50c42f6816ee",
   "metadata": {
    "scrolled": true
   },
   "outputs": [
    {
     "data": {
      "text/html": [
       "<div>\n",
       "<style scoped>\n",
       "    .dataframe tbody tr th:only-of-type {\n",
       "        vertical-align: middle;\n",
       "    }\n",
       "\n",
       "    .dataframe tbody tr th {\n",
       "        vertical-align: top;\n",
       "    }\n",
       "\n",
       "    .dataframe thead th {\n",
       "        text-align: right;\n",
       "    }\n",
       "</style>\n",
       "<table border=\"1\" class=\"dataframe\">\n",
       "  <thead>\n",
       "    <tr style=\"text-align: right;\">\n",
       "      <th></th>\n",
       "      <th>id</th>\n",
       "      <th>age</th>\n",
       "      <th>city</th>\n",
       "      <th>f1</th>\n",
       "      <th>f2</th>\n",
       "      <th>f3</th>\n",
       "      <th>f4</th>\n",
       "      <th>f5</th>\n",
       "      <th>subscribed</th>\n",
       "      <th>views</th>\n",
       "    </tr>\n",
       "  </thead>\n",
       "  <tbody>\n",
       "    <tr>\n",
       "      <th>0</th>\n",
       "      <td>id01</td>\n",
       "      <td>2.0</td>\n",
       "      <td>서울</td>\n",
       "      <td>NaN</td>\n",
       "      <td>0</td>\n",
       "      <td>gold</td>\n",
       "      <td>ENFJ</td>\n",
       "      <td>91.297791</td>\n",
       "      <td>2024-07-16</td>\n",
       "      <td>6820.0</td>\n",
       "    </tr>\n",
       "    <tr>\n",
       "      <th>1</th>\n",
       "      <td>id02</td>\n",
       "      <td>9.0</td>\n",
       "      <td>서울</td>\n",
       "      <td>70.0</td>\n",
       "      <td>1</td>\n",
       "      <td>NaN</td>\n",
       "      <td>ENFJ</td>\n",
       "      <td>60.339826</td>\n",
       "      <td>2024-05-12</td>\n",
       "      <td>2534.0</td>\n",
       "    </tr>\n",
       "    <tr>\n",
       "      <th>2</th>\n",
       "      <td>id03</td>\n",
       "      <td>27.0</td>\n",
       "      <td>서울</td>\n",
       "      <td>61.0</td>\n",
       "      <td>1</td>\n",
       "      <td>gold</td>\n",
       "      <td>ISTJ</td>\n",
       "      <td>17.252986</td>\n",
       "      <td>2024-03-16</td>\n",
       "      <td>7312.0</td>\n",
       "    </tr>\n",
       "    <tr>\n",
       "      <th>3</th>\n",
       "      <td>id04</td>\n",
       "      <td>75.0</td>\n",
       "      <td>서울</td>\n",
       "      <td>NaN</td>\n",
       "      <td>2</td>\n",
       "      <td>NaN</td>\n",
       "      <td>INFP</td>\n",
       "      <td>52.667078</td>\n",
       "      <td>2024-07-21</td>\n",
       "      <td>493.0</td>\n",
       "    </tr>\n",
       "    <tr>\n",
       "      <th>4</th>\n",
       "      <td>id05</td>\n",
       "      <td>24.0</td>\n",
       "      <td>서울</td>\n",
       "      <td>85.0</td>\n",
       "      <td>2</td>\n",
       "      <td>NaN</td>\n",
       "      <td>ISFJ</td>\n",
       "      <td>29.269869</td>\n",
       "      <td>2024-03-07</td>\n",
       "      <td>1338.0</td>\n",
       "    </tr>\n",
       "  </tbody>\n",
       "</table>\n",
       "</div>"
      ],
      "text/plain": [
       "     id   age city    f1  f2    f3    f4         f5  subscribed   views\n",
       "0  id01   2.0   서울   NaN   0  gold  ENFJ  91.297791  2024-07-16  6820.0\n",
       "1  id02   9.0   서울  70.0   1   NaN  ENFJ  60.339826  2024-05-12  2534.0\n",
       "2  id03  27.0   서울  61.0   1  gold  ISTJ  17.252986  2024-03-16  7312.0\n",
       "3  id04  75.0   서울   NaN   2   NaN  INFP  52.667078  2024-07-21   493.0\n",
       "4  id05  24.0   서울  85.0   2   NaN  ISFJ  29.269869  2024-03-07  1338.0"
      ]
     },
     "execution_count": 35,
     "metadata": {},
     "output_type": "execute_result"
    }
   ],
   "source": [
    "df.head()"
   ]
  },
  {
   "cell_type": "code",
   "execution_count": 36,
   "id": "6cdba7ab-7b9c-451f-ba96-24026974db75",
   "metadata": {},
   "outputs": [
    {
     "data": {
      "text/plain": [
       "f5\n",
       "0.000000     18\n",
       "83.685380     9\n",
       "73.586397     9\n",
       "33.308999     8\n",
       "67.886373     7\n",
       "Name: count, dtype: int64"
      ]
     },
     "execution_count": 36,
     "metadata": {},
     "output_type": "execute_result"
    }
   ],
   "source": [
    "df['f5'].value_counts().head()"
   ]
  },
  {
   "cell_type": "code",
   "execution_count": 49,
   "id": "387abd40-954b-47bc-9d64-817465261588",
   "metadata": {},
   "outputs": [
    {
     "data": {
      "text/plain": [
       "f5\n",
       "73.586397    9\n",
       "83.685380    9\n",
       "33.308999    8\n",
       "67.886373    7\n",
       "17.252986    6\n",
       "Name: count, dtype: int64"
      ]
     },
     "execution_count": 49,
     "metadata": {},
     "output_type": "execute_result"
    }
   ],
   "source": [
    "df = df[df['f5'] != 0]\n",
    "df['f5'].value_counts().head()"
   ]
  },
  {
   "cell_type": "code",
   "execution_count": 51,
   "id": "ddfa88eb-f13f-47eb-a2af-996148fb1c08",
   "metadata": {},
   "outputs": [],
   "source": [
    "df['views'] = df['views'].fillna(df['views'].min())"
   ]
  },
  {
   "cell_type": "code",
   "execution_count": 52,
   "id": "03f3d8bd-4455-4834-be53-b9ac98848ab7",
   "metadata": {},
   "outputs": [
    {
     "data": {
      "text/html": [
       "<div>\n",
       "<style scoped>\n",
       "    .dataframe tbody tr th:only-of-type {\n",
       "        vertical-align: middle;\n",
       "    }\n",
       "\n",
       "    .dataframe tbody tr th {\n",
       "        vertical-align: top;\n",
       "    }\n",
       "\n",
       "    .dataframe thead th {\n",
       "        text-align: right;\n",
       "    }\n",
       "</style>\n",
       "<table border=\"1\" class=\"dataframe\">\n",
       "  <thead>\n",
       "    <tr style=\"text-align: right;\">\n",
       "      <th></th>\n",
       "      <th>id</th>\n",
       "      <th>age</th>\n",
       "      <th>city</th>\n",
       "      <th>f1</th>\n",
       "      <th>f2</th>\n",
       "      <th>f3</th>\n",
       "      <th>f4</th>\n",
       "      <th>f5</th>\n",
       "      <th>subscribed</th>\n",
       "      <th>views</th>\n",
       "    </tr>\n",
       "  </thead>\n",
       "  <tbody>\n",
       "    <tr>\n",
       "      <th>0</th>\n",
       "      <td>id01</td>\n",
       "      <td>2.0</td>\n",
       "      <td>서울</td>\n",
       "      <td>NaN</td>\n",
       "      <td>0</td>\n",
       "      <td>gold</td>\n",
       "      <td>ENFJ</td>\n",
       "      <td>91.297791</td>\n",
       "      <td>2024-07-16</td>\n",
       "      <td>6820.0</td>\n",
       "    </tr>\n",
       "    <tr>\n",
       "      <th>1</th>\n",
       "      <td>id02</td>\n",
       "      <td>9.0</td>\n",
       "      <td>서울</td>\n",
       "      <td>70.0</td>\n",
       "      <td>1</td>\n",
       "      <td>NaN</td>\n",
       "      <td>ENFJ</td>\n",
       "      <td>60.339826</td>\n",
       "      <td>2024-05-12</td>\n",
       "      <td>2534.0</td>\n",
       "    </tr>\n",
       "    <tr>\n",
       "      <th>2</th>\n",
       "      <td>id03</td>\n",
       "      <td>27.0</td>\n",
       "      <td>서울</td>\n",
       "      <td>61.0</td>\n",
       "      <td>1</td>\n",
       "      <td>gold</td>\n",
       "      <td>ISTJ</td>\n",
       "      <td>17.252986</td>\n",
       "      <td>2024-03-16</td>\n",
       "      <td>7312.0</td>\n",
       "    </tr>\n",
       "    <tr>\n",
       "      <th>3</th>\n",
       "      <td>id04</td>\n",
       "      <td>75.0</td>\n",
       "      <td>서울</td>\n",
       "      <td>NaN</td>\n",
       "      <td>2</td>\n",
       "      <td>NaN</td>\n",
       "      <td>INFP</td>\n",
       "      <td>52.667078</td>\n",
       "      <td>2024-07-21</td>\n",
       "      <td>493.0</td>\n",
       "    </tr>\n",
       "    <tr>\n",
       "      <th>4</th>\n",
       "      <td>id05</td>\n",
       "      <td>24.0</td>\n",
       "      <td>서울</td>\n",
       "      <td>85.0</td>\n",
       "      <td>2</td>\n",
       "      <td>NaN</td>\n",
       "      <td>ISFJ</td>\n",
       "      <td>29.269869</td>\n",
       "      <td>2024-03-07</td>\n",
       "      <td>1338.0</td>\n",
       "    </tr>\n",
       "  </tbody>\n",
       "</table>\n",
       "</div>"
      ],
      "text/plain": [
       "     id   age city    f1  f2    f3    f4         f5  subscribed   views\n",
       "0  id01   2.0   서울   NaN   0  gold  ENFJ  91.297791  2024-07-16  6820.0\n",
       "1  id02   9.0   서울  70.0   1   NaN  ENFJ  60.339826  2024-05-12  2534.0\n",
       "2  id03  27.0   서울  61.0   1  gold  ISTJ  17.252986  2024-03-16  7312.0\n",
       "3  id04  75.0   서울   NaN   2   NaN  INFP  52.667078  2024-07-21   493.0\n",
       "4  id05  24.0   서울  85.0   2   NaN  ISFJ  29.269869  2024-03-07  1338.0"
      ]
     },
     "execution_count": 52,
     "metadata": {},
     "output_type": "execute_result"
    }
   ],
   "source": [
    "df.head()"
   ]
  },
  {
   "cell_type": "code",
   "execution_count": 53,
   "id": "61771f22-0f27-4e40-a32f-813f787a212c",
   "metadata": {},
   "outputs": [
    {
     "name": "stdout",
     "output_type": "stream",
     "text": [
      "5924\n"
     ]
    }
   ],
   "source": [
    "print(int(df['views'].median()))"
   ]
  },
  {
   "cell_type": "markdown",
   "id": "c46236d2-16bc-4205-92af-c5e761bf25c2",
   "metadata": {},
   "source": [
    "#### 02 Category, Index, String Slicing"
   ]
  },
  {
   "cell_type": "code",
   "execution_count": null,
   "id": "38376cc3-638a-4ae3-bd0a-74d1c18f3577",
   "metadata": {},
   "outputs": [],
   "source": [
    "import pandas as pd\n",
    "df = pd.read_csv(\"type1_data1.csv\")"
   ]
  },
  {
   "cell_type": "code",
   "execution_count": 3,
   "id": "35727bc6-cbf0-449c-9587-d91518005663",
   "metadata": {},
   "outputs": [
    {
     "data": {
      "text/html": [
       "<div>\n",
       "<style scoped>\n",
       "    .dataframe tbody tr th:only-of-type {\n",
       "        vertical-align: middle;\n",
       "    }\n",
       "\n",
       "    .dataframe tbody tr th {\n",
       "        vertical-align: top;\n",
       "    }\n",
       "\n",
       "    .dataframe thead th {\n",
       "        text-align: right;\n",
       "    }\n",
       "</style>\n",
       "<table border=\"1\" class=\"dataframe\">\n",
       "  <thead>\n",
       "    <tr style=\"text-align: right;\">\n",
       "      <th></th>\n",
       "      <th>id</th>\n",
       "      <th>age</th>\n",
       "      <th>city</th>\n",
       "      <th>f1</th>\n",
       "      <th>f2</th>\n",
       "      <th>f3</th>\n",
       "      <th>f4</th>\n",
       "      <th>f5</th>\n",
       "      <th>subscribed</th>\n",
       "      <th>views</th>\n",
       "    </tr>\n",
       "  </thead>\n",
       "  <tbody>\n",
       "    <tr>\n",
       "      <th>0</th>\n",
       "      <td>id01</td>\n",
       "      <td>2.0</td>\n",
       "      <td>서울</td>\n",
       "      <td>NaN</td>\n",
       "      <td>0</td>\n",
       "      <td>gold</td>\n",
       "      <td>ENFJ</td>\n",
       "      <td>91.297791</td>\n",
       "      <td>2024-07-16</td>\n",
       "      <td>6820.0</td>\n",
       "    </tr>\n",
       "    <tr>\n",
       "      <th>1</th>\n",
       "      <td>id02</td>\n",
       "      <td>9.0</td>\n",
       "      <td>서울</td>\n",
       "      <td>70.0</td>\n",
       "      <td>1</td>\n",
       "      <td>NaN</td>\n",
       "      <td>ENFJ</td>\n",
       "      <td>60.339826</td>\n",
       "      <td>2024-05-12</td>\n",
       "      <td>2534.0</td>\n",
       "    </tr>\n",
       "    <tr>\n",
       "      <th>2</th>\n",
       "      <td>id03</td>\n",
       "      <td>27.0</td>\n",
       "      <td>서울</td>\n",
       "      <td>61.0</td>\n",
       "      <td>1</td>\n",
       "      <td>gold</td>\n",
       "      <td>ISTJ</td>\n",
       "      <td>17.252986</td>\n",
       "      <td>2024-03-16</td>\n",
       "      <td>7312.0</td>\n",
       "    </tr>\n",
       "    <tr>\n",
       "      <th>3</th>\n",
       "      <td>id04</td>\n",
       "      <td>75.0</td>\n",
       "      <td>서울</td>\n",
       "      <td>NaN</td>\n",
       "      <td>2</td>\n",
       "      <td>NaN</td>\n",
       "      <td>INFP</td>\n",
       "      <td>52.667078</td>\n",
       "      <td>2024-07-21</td>\n",
       "      <td>493.0</td>\n",
       "    </tr>\n",
       "    <tr>\n",
       "      <th>4</th>\n",
       "      <td>id05</td>\n",
       "      <td>24.0</td>\n",
       "      <td>서울</td>\n",
       "      <td>85.0</td>\n",
       "      <td>2</td>\n",
       "      <td>NaN</td>\n",
       "      <td>ISFJ</td>\n",
       "      <td>29.269869</td>\n",
       "      <td>2024-03-07</td>\n",
       "      <td>1338.0</td>\n",
       "    </tr>\n",
       "  </tbody>\n",
       "</table>\n",
       "</div>"
      ],
      "text/plain": [
       "     id   age city    f1  f2    f3    f4         f5  subscribed   views\n",
       "0  id01   2.0   서울   NaN   0  gold  ENFJ  91.297791  2024-07-16  6820.0\n",
       "1  id02   9.0   서울  70.0   1   NaN  ENFJ  60.339826  2024-05-12  2534.0\n",
       "2  id03  27.0   서울  61.0   1  gold  ISTJ  17.252986  2024-03-16  7312.0\n",
       "3  id04  75.0   서울   NaN   2   NaN  INFP  52.667078  2024-07-21   493.0\n",
       "4  id05  24.0   서울  85.0   2   NaN  ISFJ  29.269869  2024-03-07  1338.0"
      ]
     },
     "execution_count": 3,
     "metadata": {},
     "output_type": "execute_result"
    }
   ],
   "source": [
    "df.head()"
   ]
  },
  {
   "cell_type": "code",
   "execution_count": 4,
   "id": "cb965ac1-0388-4993-b896-eba438805cb6",
   "metadata": {},
   "outputs": [
    {
     "data": {
      "text/plain": [
       "subscribed\n",
       "2025-02-17    16\n",
       "2024-06-21     3\n",
       "2024-04-03     2\n",
       "2024-07-29     2\n",
       "2024-05-28     2\n",
       "              ..\n",
       "2024-07-08     1\n",
       "2024-07-20     1\n",
       "2024-06-10     1\n",
       "2024-02-01     1\n",
       "2024-05-20     1\n",
       "Name: count, Length: 96, dtype: int64"
      ]
     },
     "execution_count": 4,
     "metadata": {},
     "output_type": "execute_result"
    }
   ],
   "source": [
    "df['subscribed'].value_counts()"
   ]
  },
  {
   "cell_type": "code",
   "execution_count": 19,
   "id": "d5f3f7e1-cbd4-485d-97bc-dafae5004048",
   "metadata": {},
   "outputs": [
    {
     "data": {
      "text/plain": [
       "17"
      ]
     },
     "execution_count": 19,
     "metadata": {},
     "output_type": "execute_result"
    }
   ],
   "source": [
    "int(df['subscribed'].value_counts().index[0][-2:])"
   ]
  },
  {
   "cell_type": "markdown",
   "id": "453016ab-a45d-4567-91cd-d5e870266f59",
   "metadata": {},
   "source": [
    "#### 03 Derived Variable, Sort, Indexing"
   ]
  },
  {
   "cell_type": "code",
   "execution_count": 123,
   "id": "3d96d807-0827-4eff-b2bd-686d8a35e37e",
   "metadata": {},
   "outputs": [],
   "source": [
    "import pandas as pd\n",
    "df = pd.read_csv(\"type1_data1.csv\")"
   ]
  },
  {
   "cell_type": "code",
   "execution_count": 124,
   "id": "76cf76e5-c3a7-46ad-9c60-f4921bfe8e88",
   "metadata": {},
   "outputs": [],
   "source": [
    "df = df.dropna()"
   ]
  },
  {
   "cell_type": "code",
   "execution_count": 125,
   "id": "8e25dcb8-da78-4eb4-acf5-ffa21054de03",
   "metadata": {},
   "outputs": [],
   "source": [
    "df['new'] = df['views'] / df['f1']"
   ]
  },
  {
   "cell_type": "code",
   "execution_count": 126,
   "id": "d8427efe-c5db-4a90-8e26-e7df237b2adb",
   "metadata": {},
   "outputs": [],
   "source": [
    "df = df.sort_values('new', ascending=False)"
   ]
  },
  {
   "cell_type": "code",
   "execution_count": 127,
   "id": "ce80f509-fd1b-4d22-9088-d13b1963c50a",
   "metadata": {},
   "outputs": [
    {
     "data": {
      "text/plain": [
       "22"
      ]
     },
     "execution_count": 127,
     "metadata": {},
     "output_type": "execute_result"
    }
   ],
   "source": [
    "int(df.iloc[0,1])"
   ]
  },
  {
   "cell_type": "markdown",
   "id": "3cb4a0b3-5e68-4534-bd6f-d5e431fdf062",
   "metadata": {},
   "source": [
    "#### 04 Changing value, Sort, Sum"
   ]
  },
  {
   "cell_type": "code",
   "execution_count": 128,
   "id": "d6f92b29-2d7a-4f00-bf3a-a93bb6461b31",
   "metadata": {},
   "outputs": [],
   "source": [
    "import pandas as pd\n",
    "df = pd.read_csv(\"type1_data1.csv\")"
   ]
  },
  {
   "cell_type": "code",
   "execution_count": 129,
   "id": "466df2af-5108-4416-a837-5b3fcaee5cb6",
   "metadata": {},
   "outputs": [],
   "source": [
    "df['views'] = df['views'].fillna(0)"
   ]
  },
  {
   "cell_type": "code",
   "execution_count": 130,
   "id": "e74eb570-375d-428b-ac88-0c462735ecb3",
   "metadata": {
    "scrolled": true
   },
   "outputs": [],
   "source": [
    "df = df.sort_values('views', ascending=False)"
   ]
  },
  {
   "cell_type": "code",
   "execution_count": 141,
   "id": "0f19a883-8cf4-409d-9a48-74fe9bf8fd08",
   "metadata": {},
   "outputs": [
    {
     "data": {
      "text/plain": [
       "5      9877.0\n",
       "56     9877.0\n",
       "83     9877.0\n",
       "32     9877.0\n",
       "100    9877.0\n",
       "10     9877.0\n",
       "104    9877.0\n",
       "114    9877.0\n",
       "9      9877.0\n",
       "113    9877.0\n",
       "115    9747.0\n",
       "49     9737.0\n",
       "36     9713.0\n",
       "46     9711.0\n",
       "21     9690.0\n",
       "92     9625.0\n",
       "16     9472.0\n",
       "17     9441.0\n",
       "91     8988.0\n",
       "25     8954.0\n",
       "Name: views, dtype: float64"
      ]
     },
     "execution_count": 141,
     "metadata": {},
     "output_type": "execute_result"
    }
   ],
   "source": [
    "df['views'].head(20)"
   ]
  },
  {
   "cell_type": "code",
   "execution_count": 138,
   "id": "00969e66-5f4f-4a04-be73-7bd145194768",
   "metadata": {},
   "outputs": [],
   "source": [
    "view_min = df.iloc[:10]['views'].min()\n",
    "df.iloc[:10, -1] = view_min"
   ]
  },
  {
   "cell_type": "code",
   "execution_count": 139,
   "id": "2953d3aa-6f5f-4a7a-925a-d2935fb6408e",
   "metadata": {},
   "outputs": [
    {
     "data": {
      "text/html": [
       "<div>\n",
       "<style scoped>\n",
       "    .dataframe tbody tr th:only-of-type {\n",
       "        vertical-align: middle;\n",
       "    }\n",
       "\n",
       "    .dataframe tbody tr th {\n",
       "        vertical-align: top;\n",
       "    }\n",
       "\n",
       "    .dataframe thead th {\n",
       "        text-align: right;\n",
       "    }\n",
       "</style>\n",
       "<table border=\"1\" class=\"dataframe\">\n",
       "  <thead>\n",
       "    <tr style=\"text-align: right;\">\n",
       "      <th></th>\n",
       "      <th>id</th>\n",
       "      <th>age</th>\n",
       "      <th>city</th>\n",
       "      <th>f1</th>\n",
       "      <th>f2</th>\n",
       "      <th>f3</th>\n",
       "      <th>f4</th>\n",
       "      <th>f5</th>\n",
       "      <th>subscribed</th>\n",
       "      <th>views</th>\n",
       "    </tr>\n",
       "  </thead>\n",
       "  <tbody>\n",
       "    <tr>\n",
       "      <th>5</th>\n",
       "      <td>id06</td>\n",
       "      <td>22.0</td>\n",
       "      <td>서울</td>\n",
       "      <td>57.0</td>\n",
       "      <td>0</td>\n",
       "      <td>vip</td>\n",
       "      <td>INTP</td>\n",
       "      <td>20.129444</td>\n",
       "      <td>2024-09-12</td>\n",
       "      <td>9877.0</td>\n",
       "    </tr>\n",
       "    <tr>\n",
       "      <th>56</th>\n",
       "      <td>id56</td>\n",
       "      <td>59.0</td>\n",
       "      <td>대구</td>\n",
       "      <td>NaN</td>\n",
       "      <td>1</td>\n",
       "      <td>vip</td>\n",
       "      <td>ESTJ</td>\n",
       "      <td>73.586397</td>\n",
       "      <td>2024-04-05</td>\n",
       "      <td>9877.0</td>\n",
       "    </tr>\n",
       "    <tr>\n",
       "      <th>83</th>\n",
       "      <td>id83</td>\n",
       "      <td>73.0</td>\n",
       "      <td>경기</td>\n",
       "      <td>50.0</td>\n",
       "      <td>1</td>\n",
       "      <td>vip</td>\n",
       "      <td>ENTP</td>\n",
       "      <td>80.138280</td>\n",
       "      <td>2024-09-26</td>\n",
       "      <td>9877.0</td>\n",
       "    </tr>\n",
       "    <tr>\n",
       "      <th>32</th>\n",
       "      <td>id32</td>\n",
       "      <td>25.0</td>\n",
       "      <td>부산</td>\n",
       "      <td>64.0</td>\n",
       "      <td>0</td>\n",
       "      <td>vip</td>\n",
       "      <td>ISFJ</td>\n",
       "      <td>13.049921</td>\n",
       "      <td>2024-05-24</td>\n",
       "      <td>9877.0</td>\n",
       "    </tr>\n",
       "    <tr>\n",
       "      <th>100</th>\n",
       "      <td>id100</td>\n",
       "      <td>47.0</td>\n",
       "      <td>경기</td>\n",
       "      <td>53.0</td>\n",
       "      <td>0</td>\n",
       "      <td>vip</td>\n",
       "      <td>ESFP</td>\n",
       "      <td>33.308999</td>\n",
       "      <td>2024-02-21</td>\n",
       "      <td>9877.0</td>\n",
       "    </tr>\n",
       "  </tbody>\n",
       "</table>\n",
       "</div>"
      ],
      "text/plain": [
       "        id   age city    f1  f2   f3    f4         f5  subscribed   views\n",
       "5     id06  22.0   서울  57.0   0  vip  INTP  20.129444  2024-09-12  9877.0\n",
       "56    id56  59.0   대구   NaN   1  vip  ESTJ  73.586397  2024-04-05  9877.0\n",
       "83    id83  73.0   경기  50.0   1  vip  ENTP  80.138280  2024-09-26  9877.0\n",
       "32    id32  25.0   부산  64.0   0  vip  ISFJ  13.049921  2024-05-24  9877.0\n",
       "100  id100  47.0   경기  53.0   0  vip  ESFP  33.308999  2024-02-21  9877.0"
      ]
     },
     "execution_count": 139,
     "metadata": {},
     "output_type": "execute_result"
    }
   ],
   "source": [
    "df.head()"
   ]
  },
  {
   "cell_type": "code",
   "execution_count": 140,
   "id": "4bd1f416-d9a3-45b2-86f7-fd856a82a94f",
   "metadata": {},
   "outputs": [
    {
     "data": {
      "text/plain": [
       "652812"
      ]
     },
     "execution_count": 140,
     "metadata": {},
     "output_type": "execute_result"
    }
   ],
   "source": [
    "int(df['views'].sum())"
   ]
  },
  {
   "cell_type": "markdown",
   "id": "2a0d3368-ea62-467e-870c-240b7cb23a92",
   "metadata": {},
   "source": [
    "#### 05 String Slicing, Derived Variable, Mean"
   ]
  }
 ],
 "metadata": {
  "kernelspec": {
   "display_name": "Python 3 (ipykernel)",
   "language": "python",
   "name": "python3"
  },
  "language_info": {
   "codemirror_mode": {
    "name": "ipython",
    "version": 3
   },
   "file_extension": ".py",
   "mimetype": "text/x-python",
   "name": "python",
   "nbconvert_exporter": "python",
   "pygments_lexer": "ipython3",
   "version": "3.12.4"
  }
 },
 "nbformat": 4,
 "nbformat_minor": 5
}
