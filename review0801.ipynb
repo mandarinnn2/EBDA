{
 "cells": [
  {
   "cell_type": "markdown",
   "metadata": {
    "id": "i49zMTluEvHo"
   },
   "source": [
    "[구글 코랩(Colab)에서 실행하기](https://colab.research.google.com/github/lovedlim/bigdata_analyst_cert/blob/main/part4/ch8/p8_type1.ipynb)"
   ]
  },
  {
   "cell_type": "markdown",
   "metadata": {
    "id": "j9jYUsDdNwKF"
   },
   "source": [
    "## 작업형1"
   ]
  },
  {
   "cell_type": "markdown",
   "metadata": {
    "id": "YAyh1xITWurF"
   },
   "source": [
    "### 문제1"
   ]
  },
  {
   "cell_type": "code",
   "execution_count": 59,
   "metadata": {
    "colab": {
     "base_uri": "https://localhost:8080/"
    },
    "executionInfo": {
     "elapsed": 1697,
     "status": "ok",
     "timestamp": 1722875838970,
     "user": {
      "displayName": "Tae Heon Kim",
      "userId": "07653788752262629837"
     },
     "user_tz": -540
    },
    "id": "cKnyz8hjYNp0",
    "outputId": "f9445be8-e018-4656-9c7a-8c1573420b7c"
   },
   "outputs": [
    {
     "name": "stdout",
     "output_type": "stream",
     "text": [
      "Europe\n"
     ]
    },
    {
     "data": {
      "text/plain": [
       "313"
      ]
     },
     "execution_count": 59,
     "metadata": {},
     "output_type": "execute_result"
    }
   ],
   "source": [
    "import pandas as pd\n",
    "df = pd.read_csv(\"https://raw.githubusercontent.com/lovedlim/bigdata_analyst_cert/main/part4/ch8/drinks.csv\")\n",
    "\n",
    "# 1) 대륙별 맥주 소비량의 평균\n",
    "continent = df.groupby('continent')['beer_servings'].mean()\n",
    "max_continent = continent.idxmax()\n",
    "print(max_continent) # Europe\n",
    "\n",
    "# 2) 국가별 맥주 소비량\n",
    "country = df['continent'] == max_continent\n",
    "df = df[country]\n",
    "df = df.sort_values('beer_servings', ascending=False)\n",
    "df.iloc[4]['beer_servings'] # 313"
   ]
  },
  {
   "cell_type": "markdown",
   "metadata": {
    "id": "HPyFlnMZWwFs"
   },
   "source": [
    "### 문제2"
   ]
  },
  {
   "cell_type": "code",
   "execution_count": 88,
   "metadata": {
    "colab": {
     "base_uri": "https://localhost:8080/"
    },
    "executionInfo": {
     "elapsed": 372,
     "status": "ok",
     "timestamp": 1720249582333,
     "user": {
      "displayName": "Tae Heon Kim",
      "userId": "07653788752262629837"
     },
     "user_tz": -540
    },
    "id": "EnVLX3BqKyIZ",
    "outputId": "17395b35-cf31-4980-bfc0-53a9d02a04a7"
   },
   "outputs": [
    {
     "name": "stdout",
     "output_type": "stream",
     "text": [
      "203\n",
      "238\n",
      "441\n"
     ]
    }
   ],
   "source": [
    "# 방법1\n",
    "import pandas as pd\n",
    "# df = pd.read_csv(\"tourist.csv\")\n",
    "df = pd.read_csv(\"https://raw.githubusercontent.com/lovedlim/bigdata_analyst_cert/main/part4/ch8/tourist.csv\")\n",
    "\n",
    "# 1) 방문객 합계 및 관관객 비율 계산\n",
    "df['방문객합계'] = df['관광'] + df['공무'] + df['사업'] + df['기타']\n",
    "df['관광객비율'] = df['관광'] / df['방문객합계']\n",
    "df = df.sort_values('관광객비율', ascending=False)\n",
    "a = df.iloc[1]['사업']\n",
    "print(a) # 203\n",
    "\n",
    "# 2) 조건에 맞는 값 찾기\n",
    "df = df.sort_values('관광', ascending=False)\n",
    "b = df.iloc[1]['공무']\n",
    "print(b) # 238\n",
    "print(a+b) # 441"
   ]
  },
  {
   "cell_type": "code",
   "execution_count": null,
   "metadata": {
    "colab": {
     "base_uri": "https://localhost:8080/"
    },
    "executionInfo": {
     "elapsed": 429,
     "status": "ok",
     "timestamp": 1720249590584,
     "user": {
      "displayName": "Tae Heon Kim",
      "userId": "07653788752262629837"
     },
     "user_tz": -540
    },
    "id": "8Y0L2dJXYllX",
    "outputId": "440cc59b-59de-44a1-ad0c-37aae19814ee"
   },
   "outputs": [
    {
     "name": "stdout",
     "output_type": "stream",
     "text": [
      "441\n"
     ]
    }
   ],
   "source": [
    "# 방법2\n",
    "import pandas as pd\n",
    "# df = pd.read_csv(\"tourist.csv\")\n",
    "df = pd.read_csv(\"https://raw.githubusercontent.com/lovedlim/bigdata_analyst_cert/main/part4/ch8/tourist.csv\")\n",
    "\n",
    "# 1) 방문객 합계 및 관관객 비율 계산\n",
    "df['방문객합계'] = df['관광'] + df['공무'] + df['사업'] + df['기타']\n",
    "df['관광객비율'] = df['관광'] / df['방문객합계']\n",
    "\n",
    "# 2) 조건에 맞는 값 찾기\n",
    "a = df.nlargest(2, '관광객비율').iloc[1]['사업']\n",
    "b = df.nlargest(2, '관광').iloc[1]['공무']\n",
    "\n",
    "print(a+b)"
   ]
  },
  {
   "cell_type": "markdown",
   "metadata": {
    "id": "GE7Ggj0KZMOx"
   },
   "source": [
    "### 문제3"
   ]
  },
  {
   "cell_type": "code",
   "execution_count": 103,
   "metadata": {
    "colab": {
     "base_uri": "https://localhost:8080/"
    },
    "executionInfo": {
     "elapsed": 3,
     "status": "ok",
     "timestamp": 1720249909533,
     "user": {
      "displayName": "Tae Heon Kim",
      "userId": "07653788752262629837"
     },
     "user_tz": -540
    },
    "id": "YazPGRcxgrxp",
    "outputId": "496dab78-83ab-4ce6-b393-00af8aa8bb57"
   },
   "outputs": [
    {
     "name": "stdout",
     "output_type": "stream",
     "text": [
      "0.2856516497116944 0.3030617020578397\n",
      "-0.017\n"
     ]
    }
   ],
   "source": [
    "# 방법1\n",
    "import pandas as pd\n",
    "from sklearn.preprocessing import MinMaxScaler\n",
    "\n",
    "# df = pd.read_csv(\"chem.csv\")\n",
    "df = pd.read_csv(\"https://raw.githubusercontent.com/lovedlim/bigdata_analyst_cert/main/part4/ch8/chem.csv\")\n",
    "\n",
    "# 1) Min-Max 스케일링 (데이터프레임으로 만들기)\n",
    "scaler = MinMaxScaler()\n",
    "df['co_scaled'] = scaler.fit_transform(df[['co']])\n",
    "df['nmhc_scaled'] = scaler.fit_transform(df[['nmhc']])\n",
    "\n",
    "# 2) 표준편차 계산 (판다스 표준편차)\n",
    "co_std = df['co_scaled'].std()\n",
    "nmhc_std = df['nmhc_scaled'].std()\n",
    "print(co_std, nmhc_std)\n",
    "\n",
    "# 3) 표준편차 차이 계산 및 반올림\n",
    "print(round(co_std - nmhc_std, 3))"
   ]
  },
  {
   "cell_type": "code",
   "execution_count": null,
   "metadata": {
    "colab": {
     "base_uri": "https://localhost:8080/"
    },
    "executionInfo": {
     "elapsed": 437,
     "status": "ok",
     "timestamp": 1720249982457,
     "user": {
      "displayName": "Tae Heon Kim",
      "userId": "07653788752262629837"
     },
     "user_tz": -540
    },
    "id": "ctWqLY_1aKn7",
    "outputId": "4091cdb2-30b9-4272-bf06-c80b0a3de6f3"
   },
   "outputs": [
    {
     "name": "stdout",
     "output_type": "stream",
     "text": [
      "0.2842198028519168 0.3015425862157\n",
      "-0.017\n"
     ]
    }
   ],
   "source": [
    "# 방법2\n",
    "import pandas as pd\n",
    "from sklearn.preprocessing import MinMaxScaler\n",
    "\n",
    "# df = pd.read_csv(\"chem.csv\")\n",
    "df = pd.read_csv(\"https://raw.githubusercontent.com/lovedlim/bigdata_analyst_cert/main/part4/ch8/chem.csv\")\n",
    "\n",
    "# 1) Min-Max 스케일링 (transform의 결과는 넘파이)\n",
    "scaler = MinMaxScaler()\n",
    "co_scaled = scaler.fit_transform(df[['co']])\n",
    "nmhc_scaled = scaler.fit_transform(df[['nmhc']])\n",
    "\n",
    "# 2) 표준편차 계산 (넘파이 표준편차)\n",
    "co_std = co_scaled.std()\n",
    "nmhc_std = nmhc_scaled.std()\n",
    "print(co_std, nmhc_std)\n",
    "\n",
    "# 3) 표준편차 차이 계산 및 반올림\n",
    "std_diff = round(co_std - nmhc_std, 3)\n",
    "print(std_diff)"
   ]
  }
 ],
 "metadata": {
  "colab": {
   "authorship_tag": "ABX9TyN1U0z3LW6NfwEWG86wbE4e",
   "mount_file_id": "1iHXiVOq_xtN9hptWv34tb6d6jd_TcLNT",
   "provenance": []
  },
  "kernelspec": {
   "display_name": "Python 3 (ipykernel)",
   "language": "python",
   "name": "python3"
  },
  "language_info": {
   "codemirror_mode": {
    "name": "ipython",
    "version": 3
   },
   "file_extension": ".py",
   "mimetype": "text/x-python",
   "name": "python",
   "nbconvert_exporter": "python",
   "pygments_lexer": "ipython3",
   "version": "3.12.4"
  }
 },
 "nbformat": 4,
 "nbformat_minor": 4
}
