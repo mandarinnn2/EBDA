{
 "cells": [
  {
   "cell_type": "markdown",
   "metadata": {
    "id": "QYnF_RFLE3X5"
   },
   "source": [
    "[구글 코랩(Colab)에서 실행하기](https://colab.research.google.com/github/lovedlim/bigdata_analyst_cert/blob/main/part4/ch8/p8_type2.ipynb)"
   ]
  },
  {
   "cell_type": "code",
   "execution_count": 46,
   "metadata": {},
   "outputs": [
    {
     "name": "stdout",
     "output_type": "stream",
     "text": [
      "Collecting lightgbm\n",
      "  Downloading lightgbm-4.5.0-py3-none-win_amd64.whl.metadata (17 kB)\n",
      "Requirement already satisfied: numpy>=1.17.0 in c:\\users\\pebblous\\anaconda3\\lib\\site-packages (from lightgbm) (1.26.4)\n",
      "Requirement already satisfied: scipy in c:\\users\\pebblous\\anaconda3\\lib\\site-packages (from lightgbm) (1.13.1)\n",
      "Downloading lightgbm-4.5.0-py3-none-win_amd64.whl (1.4 MB)\n",
      "   ---------------------------------------- 0.0/1.4 MB ? eta -:--:--\n",
      "   - -------------------------------------- 0.0/1.4 MB 2.0 MB/s eta 0:00:01\n",
      "   --------- ------------------------------ 0.4/1.4 MB 5.6 MB/s eta 0:00:01\n",
      "   ---------------------------------------- 1.4/1.4 MB 13.2 MB/s eta 0:00:00\n",
      "Installing collected packages: lightgbm\n",
      "Successfully installed lightgbm-4.5.0\n"
     ]
    }
   ],
   "source": [
    "!pip install lightgbm"
   ]
  },
  {
   "cell_type": "code",
   "execution_count": 53,
   "metadata": {
    "colab": {
     "base_uri": "https://localhost:8080/"
    },
    "executionInfo": {
     "elapsed": 1254,
     "status": "ok",
     "timestamp": 1722876159202,
     "user": {
      "displayName": "Tae Heon Kim",
      "userId": "07653788752262629837"
     },
     "user_tz": -540
    },
    "id": "U_YZY2gvjyvc",
    "outputId": "cb66c07b-267e-450d-e0cb-a1a29e0eda4d"
   },
   "outputs": [
    {
     "name": "stdout",
     "output_type": "stream",
     "text": [
      "(4116, 19)\n",
      "(1764, 18)\n",
      "=========================================\n",
      "<class 'pandas.core.frame.DataFrame'>\n",
      "RangeIndex: 4116 entries, 0 to 4115\n",
      "Data columns (total 19 columns):\n",
      " #   Column            Non-Null Count  Dtype  \n",
      "---  ------            --------------  -----  \n",
      " 0   customerID        4116 non-null   object \n",
      " 1   gender            4116 non-null   object \n",
      " 2   SeniorCitizen     4116 non-null   int64  \n",
      " 3   Partner           4116 non-null   object \n",
      " 4   Dependents        4116 non-null   object \n",
      " 5   tenure            4116 non-null   int64  \n",
      " 6   PhoneService      4116 non-null   object \n",
      " 7   MultipleLines     4116 non-null   object \n",
      " 8   InternetService   4116 non-null   object \n",
      " 9   OnlineSecurity    4116 non-null   object \n",
      " 10  OnlineBackup      4116 non-null   object \n",
      " 11  DeviceProtection  4116 non-null   object \n",
      " 12  TechSupport       4116 non-null   object \n",
      " 13  StreamingTV       4116 non-null   object \n",
      " 14  StreamingMovies   4116 non-null   object \n",
      " 15  Contract          4116 non-null   object \n",
      " 16  PaperlessBilling  4116 non-null   object \n",
      " 17  PaymentMethod     4116 non-null   object \n",
      " 18  TotalCharges      4116 non-null   float64\n",
      "dtypes: float64(1), int64(2), object(16)\n",
      "memory usage: 611.1+ KB\n",
      "None\n",
      "<class 'pandas.core.frame.DataFrame'>\n",
      "RangeIndex: 1764 entries, 0 to 1763\n",
      "Data columns (total 18 columns):\n",
      " #   Column            Non-Null Count  Dtype \n",
      "---  ------            --------------  ----- \n",
      " 0   customerID        1764 non-null   object\n",
      " 1   gender            1764 non-null   object\n",
      " 2   SeniorCitizen     1764 non-null   int64 \n",
      " 3   Partner           1764 non-null   object\n",
      " 4   Dependents        1764 non-null   object\n",
      " 5   tenure            1764 non-null   int64 \n",
      " 6   PhoneService      1764 non-null   object\n",
      " 7   MultipleLines     1764 non-null   object\n",
      " 8   InternetService   1764 non-null   object\n",
      " 9   OnlineSecurity    1764 non-null   object\n",
      " 10  OnlineBackup      1764 non-null   object\n",
      " 11  DeviceProtection  1764 non-null   object\n",
      " 12  TechSupport       1764 non-null   object\n",
      " 13  StreamingTV       1764 non-null   object\n",
      " 14  StreamingMovies   1764 non-null   object\n",
      " 15  Contract          1764 non-null   object\n",
      " 16  PaperlessBilling  1764 non-null   object\n",
      " 17  PaymentMethod     1764 non-null   object\n",
      "dtypes: int64(2), object(16)\n",
      "memory usage: 248.2+ KB\n",
      "None\n",
      "=========================================\n",
      "       SeniorCitizen       tenure  TotalCharges\n",
      "count    4116.000000  4116.000000   4116.000000\n",
      "mean        0.506560    36.551263   2566.580782\n",
      "std         0.500018    20.939386   1911.356766\n",
      "min         0.000000     1.000000     20.030000\n",
      "25%         0.000000    18.000000   1020.922500\n",
      "50%         1.000000    37.000000   2144.285000\n",
      "75%         1.000000    55.000000   3765.670000\n",
      "max         1.000000    72.000000   8589.600000\n",
      "       SeniorCitizen       tenure\n",
      "count    1764.000000  1764.000000\n",
      "mean        0.486961    36.544218\n",
      "std         0.499972    20.846106\n",
      "min         0.000000     1.000000\n",
      "25%         0.000000    18.000000\n",
      "50%         0.000000    36.000000\n",
      "75%         1.000000    55.000000\n",
      "max         1.000000    72.000000\n",
      "=========================================\n",
      "0\n",
      "0\n",
      "=========================================\n",
      "4116\n",
      "1764\n"
     ]
    }
   ],
   "source": [
    "# 문제정의\n",
    "# 평가: MAE\n",
    "# target: TotalCharges\n",
    "# 최종파일: result.csv(컬럼 1개 pred)\n",
    "\n",
    "# 라이브러리 및 데이터 불러오기\n",
    "import pandas as pd\n",
    "train = pd.read_csv(\"https://raw.githubusercontent.com/lovedlim/bigdata_analyst_cert/main/part4/ch8/churn_train.csv\")\n",
    "test = pd.read_csv(\"https://raw.githubusercontent.com/lovedlim/bigdata_analyst_cert/main/part4/ch8/churn_test.csv\")\n",
    "\n",
    "# 탐색적 데이터 분석(EDA)\n",
    "print(train.shape)\n",
    "print(test.shape)\n",
    "print(\"=========================================\")\n",
    "\n",
    "print(train.info())\n",
    "print(test.info())\n",
    "print(\"=========================================\")\n",
    "\n",
    "print(train.describe())\n",
    "print(test.describe())\n",
    "print(\"=========================================\")\n",
    "\n",
    "print(train.isnull().sum().sum())\n",
    "print(test.isnull().sum().sum())\n",
    "print(\"=========================================\")\n",
    "\n",
    "print(train['customerID'].nunique())\n",
    "print(test['customerID'].nunique())"
   ]
  },
  {
   "cell_type": "code",
   "execution_count": 54,
   "metadata": {
    "colab": {
     "base_uri": "https://localhost:8080/"
    },
    "executionInfo": {
     "elapsed": 9640,
     "status": "ok",
     "timestamp": 1722876170198,
     "user": {
      "displayName": "Tae Heon Kim",
      "userId": "07653788752262629837"
     },
     "user_tz": -540
    },
    "id": "-VHVlEn7eZ6j",
    "outputId": "003fa2d7-b489-4a10-9556-90e68a018446"
   },
   "outputs": [
    {
     "name": "stdout",
     "output_type": "stream",
     "text": [
      "Index(['gender', 'Partner', 'Dependents', 'PhoneService', 'MultipleLines',\n",
      "       'InternetService', 'OnlineSecurity', 'OnlineBackup', 'DeviceProtection',\n",
      "       'TechSupport', 'StreamingTV', 'StreamingMovies', 'Contract',\n",
      "       'PaperlessBilling', 'PaymentMethod'],\n",
      "      dtype='object')\n",
      "928.6802749150485\n",
      "938.2570752478721\n"
     ]
    }
   ],
   "source": [
    "# 데이터 전처리\n",
    "train = train.drop('customerID', axis=1)\n",
    "test = test.drop('customerID', axis=1)\n",
    "target = train.pop('TotalCharges')\n",
    "\n",
    "# 레이블 인코딩\n",
    "from sklearn.preprocessing import LabelEncoder\n",
    "cols = train.select_dtypes(include='O').columns\n",
    "print(cols)\n",
    "\n",
    "for col in cols:\n",
    "    le = LabelEncoder()\n",
    "    train[col] = le.fit_transform(train[col])\n",
    "    test[col] = le.fit_transform(test[col])\n",
    "    \n",
    "# 검증데이터 분리\n",
    "from sklearn.model_selection import train_test_split\n",
    "x_train, x_test, y_train, y_test = train_test_split(train, target, test_size=0.1, random_state= 0)\n",
    "\n",
    "# 랜덤포레스트\n",
    "from sklearn.ensemble import RandomForestRegressor\n",
    "rf = RandomForestRegressor(random_state=0)\n",
    "rf.fit(x_train, y_train)\n",
    "y_pred = rf.predict(x_test)\n",
    "\n",
    "# MAE\n",
    "from sklearn.metrics import mean_absolute_error\n",
    "print(mean_absolute_error(y_test, y_pred))\n",
    "\n",
    "# LightGBM\n",
    "import lightgbm as lgb\n",
    "lgb = lgb.LGBMRegressor(random_state=0, verbose=-1)\n",
    "lgb.fit(x_train, y_train)\n",
    "y_pred = lgb.predict(x_test)\n",
    "print(mean_absolute_error(y_test, y_pred))\n",
    "\n",
    "# 최종 제출 파일\n",
    "y_pred = rf.predict(x_test)\n",
    "\n",
    "result = pd.DataFrame({\n",
    "    'pred':y_pred\n",
    "})\n",
    "result.to_csv('result.csv', index=False)"
   ]
  },
  {
   "cell_type": "code",
   "execution_count": 58,
   "metadata": {
    "colab": {
     "base_uri": "https://localhost:8080/"
    },
    "executionInfo": {
     "elapsed": 6,
     "status": "ok",
     "timestamp": 1722876170199,
     "user": {
      "displayName": "Tae Heon Kim",
      "userId": "07653788752262629837"
     },
     "user_tz": -540
    },
    "id": "gR0wVy3tkIRU",
    "outputId": "65d774a0-7227-4f22-eca9-d1f7f0a6bb77"
   },
   "outputs": [
    {
     "name": "stdout",
     "output_type": "stream",
     "text": [
      "(412, 1)\n",
      "           pred\n",
      "0    3493.36570\n",
      "1    3484.46130\n",
      "2    4089.08590\n",
      "3    3853.32650\n",
      "4    3620.95690\n",
      "..          ...\n",
      "407   586.19660\n",
      "408  2562.65965\n",
      "409  4797.74050\n",
      "410  2253.92040\n",
      "411  3301.83460\n",
      "\n",
      "[412 rows x 1 columns]\n"
     ]
    }
   ],
   "source": [
    "# 1. pred 행의 수\n",
    "print(result.shape)\n",
    "\n",
    "# 2. 생성한 csv 확인\n",
    "print(result)"
   ]
  }
 ],
 "metadata": {
  "colab": {
   "authorship_tag": "ABX9TyP+iM3+CLs5xtO4gKriPWUA",
   "provenance": []
  },
  "kernelspec": {
   "display_name": "Python 3 (ipykernel)",
   "language": "python",
   "name": "python3"
  },
  "language_info": {
   "codemirror_mode": {
    "name": "ipython",
    "version": 3
   },
   "file_extension": ".py",
   "mimetype": "text/x-python",
   "name": "python",
   "nbconvert_exporter": "python",
   "pygments_lexer": "ipython3",
   "version": "3.12.4"
  }
 },
 "nbformat": 4,
 "nbformat_minor": 4
}
