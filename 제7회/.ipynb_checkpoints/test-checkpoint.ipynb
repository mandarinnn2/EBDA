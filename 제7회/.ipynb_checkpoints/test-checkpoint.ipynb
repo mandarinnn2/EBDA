{
 "cells": [
  {
   "cell_type": "markdown",
   "id": "efffcb6a-6280-4444-92df-3c5fc8dcf901",
   "metadata": {
    "id": "ImS-bayEojdA"
   },
   "source": [
    "## 작업형1"
   ]
  },
  {
   "cell_type": "markdown",
   "id": "fa091fa5-5b6b-4595-b10f-1f47e6100fec",
   "metadata": {
    "id": "JO-2zLFZsse1"
   },
   "source": [
    "### 문제1"
   ]
  },
  {
   "cell_type": "code",
   "execution_count": 2,
   "id": "2ef7fecc-36c5-46c2-bd1f-24b108c188f3",
   "metadata": {
    "colab": {
     "base_uri": "https://localhost:8080/"
    },
    "executionInfo": {
     "elapsed": 308,
     "status": "ok",
     "timestamp": 1713104075940,
     "user": {
      "displayName": "Tae Heon Kim",
      "userId": "07653788752262629837"
     },
     "user_tz": -540
    },
    "id": "QfWBB-yjCuX8",
    "outputId": "fcef071e-5a6b-4ff3-d92c-00c98c0f4fa1"
   },
   "outputs": [],
   "source": [
    "import pandas as pd\n",
    "df = pd.read_csv(\"https://raw.githubusercontent.com/lovedlim/bigdata_analyst_cert/main/part4/ch7/student_assessment.csv\")"
   ]
  },
  {
   "cell_type": "code",
   "execution_count": 3,
   "id": "7874d456-107a-4f89-a30e-1fb4e8bc3197",
   "metadata": {},
   "outputs": [
    {
     "data": {
      "text/html": [
       "<div>\n",
       "<style scoped>\n",
       "    .dataframe tbody tr th:only-of-type {\n",
       "        vertical-align: middle;\n",
       "    }\n",
       "\n",
       "    .dataframe tbody tr th {\n",
       "        vertical-align: top;\n",
       "    }\n",
       "\n",
       "    .dataframe thead th {\n",
       "        text-align: right;\n",
       "    }\n",
       "</style>\n",
       "<table border=\"1\" class=\"dataframe\">\n",
       "  <thead>\n",
       "    <tr style=\"text-align: right;\">\n",
       "      <th></th>\n",
       "      <th>id_assessment</th>\n",
       "      <th>student_id</th>\n",
       "      <th>study_period_days</th>\n",
       "      <th>score</th>\n",
       "    </tr>\n",
       "  </thead>\n",
       "  <tbody>\n",
       "    <tr>\n",
       "      <th>0</th>\n",
       "      <td>103</td>\n",
       "      <td>0</td>\n",
       "      <td>22</td>\n",
       "      <td>87.0</td>\n",
       "    </tr>\n",
       "    <tr>\n",
       "      <th>1</th>\n",
       "      <td>93</td>\n",
       "      <td>1</td>\n",
       "      <td>70</td>\n",
       "      <td>92.0</td>\n",
       "    </tr>\n",
       "    <tr>\n",
       "      <th>2</th>\n",
       "      <td>15</td>\n",
       "      <td>2</td>\n",
       "      <td>22</td>\n",
       "      <td>2.0</td>\n",
       "    </tr>\n",
       "    <tr>\n",
       "      <th>3</th>\n",
       "      <td>107</td>\n",
       "      <td>3</td>\n",
       "      <td>22</td>\n",
       "      <td>51.0</td>\n",
       "    </tr>\n",
       "    <tr>\n",
       "      <th>4</th>\n",
       "      <td>72</td>\n",
       "      <td>4</td>\n",
       "      <td>22</td>\n",
       "      <td>73.0</td>\n",
       "    </tr>\n",
       "  </tbody>\n",
       "</table>\n",
       "</div>"
      ],
      "text/plain": [
       "   id_assessment  student_id  study_period_days  score\n",
       "0            103           0                 22   87.0\n",
       "1             93           1                 70   92.0\n",
       "2             15           2                 22    2.0\n",
       "3            107           3                 22   51.0\n",
       "4             72           4                 22   73.0"
      ]
     },
     "execution_count": 3,
     "metadata": {},
     "output_type": "execute_result"
    }
   ],
   "source": [
    "df.head()"
   ]
  },
  {
   "cell_type": "code",
   "execution_count": 8,
   "id": "9ac83a86-a5e1-4885-bf8b-0609042fefcf",
   "metadata": {},
   "outputs": [
    {
     "name": "stdout",
     "output_type": "stream",
     "text": [
      "12\n",
      "2.183\n"
     ]
    }
   ],
   "source": [
    "df = df.dropna()\n",
    "sub = df['id_assessment'].value_counts().idxmax()\n",
    "print(sub)\n",
    "df = df[df['id_assessment'] == sub]\n",
    "\n",
    "from sklearn.preprocessing import StandardScaler\n",
    "sc = StandardScaler()\n",
    "df['sc_score'] = sc.fit_transform(df[['score']])\n",
    "print(round(df['sc_score'].max(), 3))"
   ]
  },
  {
   "cell_type": "markdown",
   "id": "68ea229a-4dbf-4f0e-af5d-e6c458c2e092",
   "metadata": {
    "id": "sHC4blpRswAJ"
   },
   "source": [
    "### 문제2"
   ]
  },
  {
   "cell_type": "code",
   "execution_count": 1,
   "id": "d85a8bd1-d175-48ca-aa7e-7bafd4b57590",
   "metadata": {
    "colab": {
     "base_uri": "https://localhost:8080/"
    },
    "executionInfo": {
     "elapsed": 316,
     "status": "ok",
     "timestamp": 1713104076541,
     "user": {
      "displayName": "Tae Heon Kim",
      "userId": "07653788752262629837"
     },
     "user_tz": -540
    },
    "id": "usqyPcI4J0eL",
    "outputId": "f64aefee-35d8-40e0-8dc4-3b3e144cc73a"
   },
   "outputs": [],
   "source": [
    "import pandas as pd\n",
    "df = pd.read_csv(\"https://raw.githubusercontent.com/lovedlim/bigdata_analyst_cert/main/part4/ch7/stock_market.csv\")"
   ]
  },
  {
   "cell_type": "code",
   "execution_count": 2,
   "id": "7b4bdbb2-8a55-4714-b00b-542579aeaa48",
   "metadata": {
    "scrolled": true
   },
   "outputs": [
    {
     "data": {
      "text/html": [
       "<div>\n",
       "<style scoped>\n",
       "    .dataframe tbody tr th:only-of-type {\n",
       "        vertical-align: middle;\n",
       "    }\n",
       "\n",
       "    .dataframe tbody tr th {\n",
       "        vertical-align: top;\n",
       "    }\n",
       "\n",
       "    .dataframe thead th {\n",
       "        text-align: right;\n",
       "    }\n",
       "</style>\n",
       "<table border=\"1\" class=\"dataframe\">\n",
       "  <thead>\n",
       "    <tr style=\"text-align: right;\">\n",
       "      <th></th>\n",
       "      <th>DE1</th>\n",
       "      <th>DE2</th>\n",
       "      <th>DE3</th>\n",
       "      <th>DE4</th>\n",
       "      <th>DE5</th>\n",
       "      <th>DE6</th>\n",
       "      <th>DE7</th>\n",
       "      <th>DE8</th>\n",
       "      <th>DE9</th>\n",
       "      <th>DE10</th>\n",
       "      <th>...</th>\n",
       "      <th>DE71</th>\n",
       "      <th>DE72</th>\n",
       "      <th>DE73</th>\n",
       "      <th>DE74</th>\n",
       "      <th>DE75</th>\n",
       "      <th>DE76</th>\n",
       "      <th>DE77</th>\n",
       "      <th>open</th>\n",
       "      <th>close</th>\n",
       "      <th>volume</th>\n",
       "    </tr>\n",
       "  </thead>\n",
       "  <tbody>\n",
       "    <tr>\n",
       "      <th>0</th>\n",
       "      <td>1.764052</td>\n",
       "      <td>0.400157</td>\n",
       "      <td>0.978738</td>\n",
       "      <td>2.240893</td>\n",
       "      <td>1.867558</td>\n",
       "      <td>-0.977278</td>\n",
       "      <td>0.950088</td>\n",
       "      <td>-0.151357</td>\n",
       "      <td>-0.103219</td>\n",
       "      <td>0.410599</td>\n",
       "      <td>...</td>\n",
       "      <td>0.729091</td>\n",
       "      <td>0.128983</td>\n",
       "      <td>1.139401</td>\n",
       "      <td>-1.234826</td>\n",
       "      <td>0.402342</td>\n",
       "      <td>-0.684810</td>\n",
       "      <td>-0.870797</td>\n",
       "      <td>129.549102</td>\n",
       "      <td>126.502056</td>\n",
       "      <td>981466.0</td>\n",
       "    </tr>\n",
       "    <tr>\n",
       "      <th>1</th>\n",
       "      <td>-0.578850</td>\n",
       "      <td>-0.311553</td>\n",
       "      <td>0.056165</td>\n",
       "      <td>-1.165150</td>\n",
       "      <td>0.900826</td>\n",
       "      <td>0.465662</td>\n",
       "      <td>-1.536244</td>\n",
       "      <td>1.488252</td>\n",
       "      <td>1.895889</td>\n",
       "      <td>1.178780</td>\n",
       "      <td>...</td>\n",
       "      <td>1.117016</td>\n",
       "      <td>-1.315907</td>\n",
       "      <td>-0.461585</td>\n",
       "      <td>-0.068242</td>\n",
       "      <td>1.713343</td>\n",
       "      <td>-0.744755</td>\n",
       "      <td>-0.826439</td>\n",
       "      <td>126.502056</td>\n",
       "      <td>128.041811</td>\n",
       "      <td>473416.0</td>\n",
       "    </tr>\n",
       "    <tr>\n",
       "      <th>2</th>\n",
       "      <td>-0.098453</td>\n",
       "      <td>-0.663478</td>\n",
       "      <td>1.126636</td>\n",
       "      <td>-1.079932</td>\n",
       "      <td>-1.147469</td>\n",
       "      <td>-0.437820</td>\n",
       "      <td>-0.498032</td>\n",
       "      <td>1.929532</td>\n",
       "      <td>0.949421</td>\n",
       "      <td>0.087551</td>\n",
       "      <td>...</td>\n",
       "      <td>-1.540797</td>\n",
       "      <td>0.063262</td>\n",
       "      <td>0.156507</td>\n",
       "      <td>0.232181</td>\n",
       "      <td>-0.597316</td>\n",
       "      <td>-0.237922</td>\n",
       "      <td>-1.424061</td>\n",
       "      <td>128.041811</td>\n",
       "      <td>128.957651</td>\n",
       "      <td>46597.0</td>\n",
       "    </tr>\n",
       "    <tr>\n",
       "      <th>3</th>\n",
       "      <td>-0.493320</td>\n",
       "      <td>-0.542861</td>\n",
       "      <td>0.416050</td>\n",
       "      <td>-1.156182</td>\n",
       "      <td>0.781198</td>\n",
       "      <td>1.494485</td>\n",
       "      <td>-2.069985</td>\n",
       "      <td>0.426259</td>\n",
       "      <td>0.676908</td>\n",
       "      <td>-0.637437</td>\n",
       "      <td>...</td>\n",
       "      <td>1.658131</td>\n",
       "      <td>-0.118164</td>\n",
       "      <td>-0.680178</td>\n",
       "      <td>0.666383</td>\n",
       "      <td>-0.460720</td>\n",
       "      <td>-1.334258</td>\n",
       "      <td>-1.346718</td>\n",
       "      <td>128.957651</td>\n",
       "      <td>122.965246</td>\n",
       "      <td>455747.0</td>\n",
       "    </tr>\n",
       "    <tr>\n",
       "      <th>4</th>\n",
       "      <td>0.693773</td>\n",
       "      <td>-0.159573</td>\n",
       "      <td>-0.133702</td>\n",
       "      <td>1.077744</td>\n",
       "      <td>-1.126826</td>\n",
       "      <td>-0.730678</td>\n",
       "      <td>-0.384880</td>\n",
       "      <td>0.094352</td>\n",
       "      <td>-0.042171</td>\n",
       "      <td>-0.286887</td>\n",
       "      <td>...</td>\n",
       "      <td>-0.206904</td>\n",
       "      <td>0.880179</td>\n",
       "      <td>-1.698106</td>\n",
       "      <td>0.387280</td>\n",
       "      <td>-2.255564</td>\n",
       "      <td>-1.022507</td>\n",
       "      <td>0.038631</td>\n",
       "      <td>122.965246</td>\n",
       "      <td>114.922790</td>\n",
       "      <td>242198.0</td>\n",
       "    </tr>\n",
       "  </tbody>\n",
       "</table>\n",
       "<p>5 rows × 80 columns</p>\n",
       "</div>"
      ],
      "text/plain": [
       "        DE1       DE2       DE3       DE4       DE5       DE6       DE7  \\\n",
       "0  1.764052  0.400157  0.978738  2.240893  1.867558 -0.977278  0.950088   \n",
       "1 -0.578850 -0.311553  0.056165 -1.165150  0.900826  0.465662 -1.536244   \n",
       "2 -0.098453 -0.663478  1.126636 -1.079932 -1.147469 -0.437820 -0.498032   \n",
       "3 -0.493320 -0.542861  0.416050 -1.156182  0.781198  1.494485 -2.069985   \n",
       "4  0.693773 -0.159573 -0.133702  1.077744 -1.126826 -0.730678 -0.384880   \n",
       "\n",
       "        DE8       DE9      DE10  ...      DE71      DE72      DE73      DE74  \\\n",
       "0 -0.151357 -0.103219  0.410599  ...  0.729091  0.128983  1.139401 -1.234826   \n",
       "1  1.488252  1.895889  1.178780  ...  1.117016 -1.315907 -0.461585 -0.068242   \n",
       "2  1.929532  0.949421  0.087551  ... -1.540797  0.063262  0.156507  0.232181   \n",
       "3  0.426259  0.676908 -0.637437  ...  1.658131 -0.118164 -0.680178  0.666383   \n",
       "4  0.094352 -0.042171 -0.286887  ... -0.206904  0.880179 -1.698106  0.387280   \n",
       "\n",
       "       DE75      DE76      DE77        open       close    volume  \n",
       "0  0.402342 -0.684810 -0.870797  129.549102  126.502056  981466.0  \n",
       "1  1.713343 -0.744755 -0.826439  126.502056  128.041811  473416.0  \n",
       "2 -0.597316 -0.237922 -1.424061  128.041811  128.957651   46597.0  \n",
       "3 -0.460720 -1.334258 -1.346718  128.957651  122.965246  455747.0  \n",
       "4 -2.255564 -1.022507  0.038631  122.965246  114.922790  242198.0  \n",
       "\n",
       "[5 rows x 80 columns]"
      ]
     },
     "execution_count": 2,
     "metadata": {},
     "output_type": "execute_result"
    }
   ],
   "source": [
    "df.head()"
   ]
  },
  {
   "cell_type": "code",
   "execution_count": 12,
   "id": "a5277df3-1ae1-4fcf-ba42-2a55c8958a26",
   "metadata": {},
   "outputs": [
    {
     "data": {
      "text/plain": [
       "80"
      ]
     },
     "execution_count": 12,
     "metadata": {},
     "output_type": "execute_result"
    }
   ],
   "source": [
    "len(idx)"
   ]
  },
  {
   "cell_type": "code",
   "execution_count": 22,
   "id": "5d92fc39-17af-45aa-bb6d-08ef7ac9faa9",
   "metadata": {},
   "outputs": [
    {
     "name": "stdout",
     "output_type": "stream",
     "text": [
      "DE14\n",
      "-0.0004\n"
     ]
    }
   ],
   "source": [
    "idx = df.corr()['close'].abs()\n",
    "\n",
    "idx = idx.iloc[:-3].idxmax()\n",
    "print(idx)\n",
    "print(round(df[idx].mean(), 4))"
   ]
  },
  {
   "cell_type": "markdown",
   "id": "0d3d4aa9-250f-4f97-ae58-fb655a11d11d",
   "metadata": {
    "id": "E9QDz8l-sy4D"
   },
   "source": [
    "### 문제3"
   ]
  },
  {
   "cell_type": "code",
   "execution_count": 33,
   "id": "5ae1c50c-8d98-44ab-a10a-9043b5d7414a",
   "metadata": {
    "colab": {
     "base_uri": "https://localhost:8080/"
    },
    "executionInfo": {
     "elapsed": 3,
     "status": "ok",
     "timestamp": 1713104076542,
     "user": {
      "displayName": "Tae Heon Kim",
      "userId": "07653788752262629837"
     },
     "user_tz": -540
    },
    "id": "LipHWwikUBL-",
    "outputId": "7887d4ce-375f-46de-8a51-978d5ff6af97",
    "scrolled": true
   },
   "outputs": [],
   "source": [
    "import pandas as pd\n",
    "df = pd.read_csv(\"https://raw.githubusercontent.com/lovedlim/bigdata_analyst_cert/main/part4/ch7/air_quality.csv\")"
   ]
  },
  {
   "cell_type": "code",
   "execution_count": 34,
   "id": "6beb2ecf-f2ce-4733-a5cf-030b34f41ba7",
   "metadata": {},
   "outputs": [
    {
     "data": {
      "text/html": [
       "<div>\n",
       "<style scoped>\n",
       "    .dataframe tbody tr th:only-of-type {\n",
       "        vertical-align: middle;\n",
       "    }\n",
       "\n",
       "    .dataframe tbody tr th {\n",
       "        vertical-align: top;\n",
       "    }\n",
       "\n",
       "    .dataframe thead th {\n",
       "        text-align: right;\n",
       "    }\n",
       "</style>\n",
       "<table border=\"1\" class=\"dataframe\">\n",
       "  <thead>\n",
       "    <tr style=\"text-align: right;\">\n",
       "      <th></th>\n",
       "      <th>Date</th>\n",
       "      <th>CO</th>\n",
       "      <th>CO2</th>\n",
       "      <th>O2</th>\n",
       "    </tr>\n",
       "  </thead>\n",
       "  <tbody>\n",
       "    <tr>\n",
       "      <th>0</th>\n",
       "      <td>2024-01-01 00:00:00</td>\n",
       "      <td>0.549671</td>\n",
       "      <td>383.037632</td>\n",
       "      <td>21.248286</td>\n",
       "    </tr>\n",
       "    <tr>\n",
       "      <th>1</th>\n",
       "      <td>2024-01-01 01:00:00</td>\n",
       "      <td>0.486174</td>\n",
       "      <td>392.362513</td>\n",
       "      <td>21.183324</td>\n",
       "    </tr>\n",
       "    <tr>\n",
       "      <th>2</th>\n",
       "      <td>2024-01-01 02:00:00</td>\n",
       "      <td>0.564769</td>\n",
       "      <td>385.065473</td>\n",
       "      <td>19.963480</td>\n",
       "    </tr>\n",
       "    <tr>\n",
       "      <th>3</th>\n",
       "      <td>2024-01-01 03:00:00</td>\n",
       "      <td>0.652303</td>\n",
       "      <td>402.760451</td>\n",
       "      <td>21.479584</td>\n",
       "    </tr>\n",
       "    <tr>\n",
       "      <th>4</th>\n",
       "      <td>2024-01-01 04:00:00</td>\n",
       "      <td>0.476585</td>\n",
       "      <td>429.929463</td>\n",
       "      <td>19.409917</td>\n",
       "    </tr>\n",
       "  </tbody>\n",
       "</table>\n",
       "</div>"
      ],
      "text/plain": [
       "                  Date        CO         CO2         O2\n",
       "0  2024-01-01 00:00:00  0.549671  383.037632  21.248286\n",
       "1  2024-01-01 01:00:00  0.486174  392.362513  21.183324\n",
       "2  2024-01-01 02:00:00  0.564769  385.065473  19.963480\n",
       "3  2024-01-01 03:00:00  0.652303  402.760451  21.479584\n",
       "4  2024-01-01 04:00:00  0.476585  429.929463  19.409917"
      ]
     },
     "execution_count": 34,
     "metadata": {},
     "output_type": "execute_result"
    }
   ],
   "source": [
    "df.head()"
   ]
  },
  {
   "cell_type": "code",
   "execution_count": 35,
   "id": "1a064fce-8e02-4abe-8408-d7ce8d6e2234",
   "metadata": {},
   "outputs": [
    {
     "name": "stdout",
     "output_type": "stream",
     "text": [
      "304\n"
     ]
    }
   ],
   "source": [
    "Q1 = df['CO2'].quantile(0.25)\n",
    "Q3 = df['CO2'].quantile(0.75)\n",
    "\n",
    "IQR = Q3 - Q1\n",
    "\n",
    "lower = Q1 - IQR * 1.5\n",
    "upper = Q3 + IQR * 1.5\n",
    "\n",
    "df = df[(df['CO2'] < lower) | (df['CO2'] > upper)]\n",
    "print(len(df))"
   ]
  },
  {
   "cell_type": "markdown",
   "id": "4f049712-2781-4642-81ca-8c754787dc67",
   "metadata": {},
   "source": [
    "# 작업형 2"
   ]
  },
  {
   "cell_type": "markdown",
   "id": "37d36fcb-e4f8-400e-be4b-ce58d6b1efc9",
   "metadata": {
    "id": "qgSesVv_1qP_"
   },
   "source": [
    "# 2. 라이브러리 및 데이터 불러오기"
   ]
  },
  {
   "cell_type": "code",
   "execution_count": 84,
   "id": "5050c737-fd7e-4b14-be97-e751e734f426",
   "metadata": {
    "executionInfo": {
     "elapsed": 1638,
     "status": "ok",
     "timestamp": 1722875066500,
     "user": {
      "displayName": "Tae Heon Kim",
      "userId": "07653788752262629837"
     },
     "user_tz": -540
    },
    "id": "30wq46-FfSt_"
   },
   "outputs": [],
   "source": [
    "# 데이터 불러오기\n",
    "import pandas as pd\n",
    "train = pd.read_csv(\"https://raw.githubusercontent.com/lovedlim/bigdata_analyst_cert/main/part4/ch7/mart_train.csv\")\n",
    "test = pd.read_csv(\"https://raw.githubusercontent.com/lovedlim/bigdata_analyst_cert/main/part4/ch7/mart_test.csv\")"
   ]
  },
  {
   "cell_type": "code",
   "execution_count": 85,
   "id": "2b985abb-eb1e-43f7-995b-038b4f792432",
   "metadata": {},
   "outputs": [
    {
     "name": "stdout",
     "output_type": "stream",
     "text": [
      "============데이터 크기==================\n",
      "(700, 10)\n",
      "(300, 9)\n",
      "\n",
      "============데이터 정보==================\n",
      "<class 'pandas.core.frame.DataFrame'>\n",
      "RangeIndex: 700 entries, 0 to 699\n",
      "Data columns (total 10 columns):\n",
      " #   Column          Non-Null Count  Dtype  \n",
      "---  ------          --------------  -----  \n",
      " 0   branch          700 non-null    object \n",
      " 1   city            700 non-null    object \n",
      " 2   customer_type   700 non-null    object \n",
      " 3   gender          700 non-null    object \n",
      " 4   product_line    700 non-null    object \n",
      " 5   total           700 non-null    float64\n",
      " 6   payment_method  700 non-null    object \n",
      " 7   rating          700 non-null    float64\n",
      " 8   time_of_day     700 non-null    object \n",
      " 9   day_name        700 non-null    object \n",
      "dtypes: float64(2), object(8)\n",
      "memory usage: 54.8+ KB\n",
      "None\n",
      "<class 'pandas.core.frame.DataFrame'>\n",
      "RangeIndex: 300 entries, 0 to 299\n",
      "Data columns (total 9 columns):\n",
      " #   Column          Non-Null Count  Dtype  \n",
      "---  ------          --------------  -----  \n",
      " 0   branch          300 non-null    object \n",
      " 1   city            300 non-null    object \n",
      " 2   customer_type   300 non-null    object \n",
      " 3   gender          300 non-null    object \n",
      " 4   product_line    300 non-null    object \n",
      " 5   payment_method  300 non-null    object \n",
      " 6   rating          300 non-null    float64\n",
      " 7   time_of_day     300 non-null    object \n",
      " 8   day_name        300 non-null    object \n",
      "dtypes: float64(1), object(8)\n",
      "memory usage: 21.2+ KB\n",
      "None\n",
      "\n",
      "============데이터 묘사==================\n",
      "              total      rating\n",
      "count  7.000000e+02  700.000000\n",
      "mean   4.850780e+05    7.003429\n",
      "std    3.643907e+05    1.713078\n",
      "min    1.904175e+04    4.000000\n",
      "25%    2.001195e+05    5.500000\n",
      "50%    3.818745e+05    7.000000\n",
      "75%    7.061276e+05    8.425000\n",
      "max    1.563975e+06   10.000000\n",
      "           rating\n",
      "count  300.000000\n",
      "mean     6.901000\n",
      "std      1.732099\n",
      "min      4.000000\n",
      "25%      5.500000\n",
      "50%      6.800000\n",
      "75%      8.500000\n",
      "max     10.000000\n",
      "\n",
      "============데이터 결측치==================\n",
      "0\n",
      "0\n",
      "\n"
     ]
    }
   ],
   "source": [
    "print(\"============데이터 크기==================\")\n",
    "print(train.shape)\n",
    "print(test.shape)\n",
    "print()\n",
    "\n",
    "print(\"============데이터 정보==================\")\n",
    "print(train.info())\n",
    "print(test.info())\n",
    "print()\n",
    "\n",
    "print(\"============데이터 묘사==================\")\n",
    "print(train.describe())\n",
    "print(test.describe())\n",
    "print()\n",
    "\n",
    "print(\"============데이터 결측치==================\")\n",
    "print(train.isnull().sum().sum())\n",
    "print(test.isnull().sum().sum())\n",
    "print()"
   ]
  },
  {
   "cell_type": "code",
   "execution_count": 86,
   "id": "490cfe2b-9253-4de4-97b0-42c0989751fa",
   "metadata": {},
   "outputs": [
    {
     "data": {
      "text/html": [
       "<div>\n",
       "<style scoped>\n",
       "    .dataframe tbody tr th:only-of-type {\n",
       "        vertical-align: middle;\n",
       "    }\n",
       "\n",
       "    .dataframe tbody tr th {\n",
       "        vertical-align: top;\n",
       "    }\n",
       "\n",
       "    .dataframe thead th {\n",
       "        text-align: right;\n",
       "    }\n",
       "</style>\n",
       "<table border=\"1\" class=\"dataframe\">\n",
       "  <thead>\n",
       "    <tr style=\"text-align: right;\">\n",
       "      <th></th>\n",
       "      <th>branch</th>\n",
       "      <th>city</th>\n",
       "      <th>customer_type</th>\n",
       "      <th>gender</th>\n",
       "      <th>product_line</th>\n",
       "      <th>total</th>\n",
       "      <th>payment_method</th>\n",
       "      <th>rating</th>\n",
       "      <th>time_of_day</th>\n",
       "      <th>day_name</th>\n",
       "    </tr>\n",
       "  </thead>\n",
       "  <tbody>\n",
       "    <tr>\n",
       "      <th>0</th>\n",
       "      <td>A</td>\n",
       "      <td>Yangon</td>\n",
       "      <td>Member</td>\n",
       "      <td>Female</td>\n",
       "      <td>Health and beauty</td>\n",
       "      <td>823457.25</td>\n",
       "      <td>Ewallet</td>\n",
       "      <td>9.1</td>\n",
       "      <td>afternoon</td>\n",
       "      <td>Saturday</td>\n",
       "    </tr>\n",
       "    <tr>\n",
       "      <th>1</th>\n",
       "      <td>C</td>\n",
       "      <td>Naypyitaw</td>\n",
       "      <td>Normal</td>\n",
       "      <td>Female</td>\n",
       "      <td>Electronic accessories</td>\n",
       "      <td>120330.00</td>\n",
       "      <td>Cash</td>\n",
       "      <td>9.6</td>\n",
       "      <td>morning</td>\n",
       "      <td>Friday</td>\n",
       "    </tr>\n",
       "    <tr>\n",
       "      <th>2</th>\n",
       "      <td>A</td>\n",
       "      <td>Yangon</td>\n",
       "      <td>Normal</td>\n",
       "      <td>Male</td>\n",
       "      <td>Home and lifestyle</td>\n",
       "      <td>510788.25</td>\n",
       "      <td>Credit card</td>\n",
       "      <td>7.4</td>\n",
       "      <td>afternoon</td>\n",
       "      <td>Sunday</td>\n",
       "    </tr>\n",
       "    <tr>\n",
       "      <th>3</th>\n",
       "      <td>A</td>\n",
       "      <td>Yangon</td>\n",
       "      <td>Member</td>\n",
       "      <td>Male</td>\n",
       "      <td>Health and beauty</td>\n",
       "      <td>733572.00</td>\n",
       "      <td>Ewallet</td>\n",
       "      <td>8.4</td>\n",
       "      <td>evening</td>\n",
       "      <td>Sunday</td>\n",
       "    </tr>\n",
       "    <tr>\n",
       "      <th>4</th>\n",
       "      <td>A</td>\n",
       "      <td>Yangon</td>\n",
       "      <td>Normal</td>\n",
       "      <td>Male</td>\n",
       "      <td>Sports and travel</td>\n",
       "      <td>951567.75</td>\n",
       "      <td>Ewallet</td>\n",
       "      <td>5.3</td>\n",
       "      <td>morning</td>\n",
       "      <td>Friday</td>\n",
       "    </tr>\n",
       "  </tbody>\n",
       "</table>\n",
       "</div>"
      ],
      "text/plain": [
       "  branch       city customer_type  gender            product_line      total  \\\n",
       "0      A     Yangon        Member  Female       Health and beauty  823457.25   \n",
       "1      C  Naypyitaw        Normal  Female  Electronic accessories  120330.00   \n",
       "2      A     Yangon        Normal    Male      Home and lifestyle  510788.25   \n",
       "3      A     Yangon        Member    Male       Health and beauty  733572.00   \n",
       "4      A     Yangon        Normal    Male       Sports and travel  951567.75   \n",
       "\n",
       "  payment_method  rating time_of_day  day_name  \n",
       "0        Ewallet     9.1   afternoon  Saturday  \n",
       "1           Cash     9.6     morning    Friday  \n",
       "2    Credit card     7.4   afternoon    Sunday  \n",
       "3        Ewallet     8.4     evening    Sunday  \n",
       "4        Ewallet     5.3     morning    Friday  "
      ]
     },
     "execution_count": 86,
     "metadata": {},
     "output_type": "execute_result"
    }
   ],
   "source": [
    "train.head()"
   ]
  },
  {
   "cell_type": "code",
   "execution_count": 87,
   "id": "8c03bdcc-0a5b-4f96-8c55-3c25fe009d90",
   "metadata": {},
   "outputs": [
    {
     "name": "stdout",
     "output_type": "stream",
     "text": [
      "371070.13447345496\n",
      "395945.4750788139\n",
      "423502.19189255615\n",
      "445824.1295209891\n"
     ]
    }
   ],
   "source": [
    "from sklearn.preprocessing import LabelEncoder\n",
    "\n",
    "cols = train.select_dtypes(include='O').columns\n",
    "\n",
    "for col in cols:\n",
    "    le = LabelEncoder()\n",
    "    train[col] = le.fit_transform(train[col]) \n",
    "    test[col] = le.transform(test[col])\n",
    "\n",
    "from sklearn.model_selection import train_test_split\n",
    "\n",
    "target = train.pop('total')\n",
    "\n",
    "x_train, x_test, y_train, y_test = train_test_split(train, target, random_state=0, test_size=0.2)\n",
    "\n",
    "from sklearn.metrics import mean_squared_error\n",
    "def rmse(y_pred, y_test):\n",
    "    return mean_squared_error(y_pred, y_test) ** 0.5\n",
    "    \n",
    "from sklearn.linear_model import LinearRegression\n",
    "LR = LinearRegression()\n",
    "LR.fit(x_train, y_train)\n",
    "y_pred = LR.predict(x_test)\n",
    "\n",
    "print(rmse(y_pred, y_test))\n",
    "\n",
    "from sklearn.ensemble import RandomForestRegressor\n",
    "RF = RandomForestRegressor(random_state=0)\n",
    "RF.fit(x_train, y_train)\n",
    "y_pred = RF.predict(x_test)\n",
    "print(rmse(y_pred, y_test))\n",
    "\n",
    "import lightgbm as lgb\n",
    "lg = lgb.LGBMRegressor(random_state=0, verbose=-1)\n",
    "lg.fit(x_train, y_train)\n",
    "y_pred = lg.predict(x_test)\n",
    "print(rmse(y_pred, y_test))\n",
    "\n",
    "import xgboost as xgb\n",
    "xg = xgb.XGBRegressor(random_state= 0)\n",
    "xg.fit(x_train, y_train)\n",
    "y_pred = xg.predict(x_test)\n",
    "print(rmse(y_pred, y_test))"
   ]
  },
  {
   "cell_type": "code",
   "execution_count": 89,
   "id": "3ef6fed0-68e5-42bc-b296-3bb3a3796158",
   "metadata": {},
   "outputs": [],
   "source": [
    "re_pred = LR.predict(test)\n",
    "\n",
    "result = pd.DataFrame({\n",
    "    'pred':re_pred\n",
    "})\n",
    "\n",
    "result.to_csv(\"result.csv\", index=False)"
   ]
  },
  {
   "cell_type": "code",
   "execution_count": 90,
   "id": "067b8a24-67b6-41e1-9eda-c8c261cdd977",
   "metadata": {},
   "outputs": [
    {
     "data": {
      "text/plain": [
       "(300, 1)"
      ]
     },
     "execution_count": 90,
     "metadata": {},
     "output_type": "execute_result"
    }
   ],
   "source": [
    "result.shape"
   ]
  },
  {
   "cell_type": "markdown",
   "id": "e271140a-d840-4c25-bd76-e6d6a7181cf5",
   "metadata": {
    "id": "H3N9Ou_Oo2mV"
   },
   "source": [
    "# 작업형3"
   ]
  },
  {
   "cell_type": "markdown",
   "id": "9524e57d-0051-454f-973c-e4f9a88733ca",
   "metadata": {
    "id": "paHiKoCrtKnv"
   },
   "source": [
    "### 문제1-1"
   ]
  },
  {
   "cell_type": "code",
   "execution_count": 131,
   "id": "d6cc2d37-3196-4213-8c8e-7aaa2782aa0d",
   "metadata": {
    "colab": {
     "base_uri": "https://localhost:8080/"
    },
    "executionInfo": {
     "elapsed": 1547,
     "status": "ok",
     "timestamp": 1722875167048,
     "user": {
      "displayName": "Tae Heon Kim",
      "userId": "07653788752262629837"
     },
     "user_tz": -540
    },
    "id": "H38dKQCTrB_5",
    "outputId": "119e5cd1-b811-412a-eb8d-dc6e0c89c6c9"
   },
   "outputs": [],
   "source": [
    "import pandas as pd\n",
    "df = pd.read_csv(\"https://raw.githubusercontent.com/lovedlim/bigdata_analyst_cert/main/part4/ch7/clam.csv\")"
   ]
  },
  {
   "cell_type": "code",
   "execution_count": 132,
   "id": "9a5b1084-b2ad-4361-a79e-eb0ace43cc81",
   "metadata": {},
   "outputs": [
    {
     "data": {
      "text/html": [
       "<div>\n",
       "<style scoped>\n",
       "    .dataframe tbody tr th:only-of-type {\n",
       "        vertical-align: middle;\n",
       "    }\n",
       "\n",
       "    .dataframe tbody tr th {\n",
       "        vertical-align: top;\n",
       "    }\n",
       "\n",
       "    .dataframe thead th {\n",
       "        text-align: right;\n",
       "    }\n",
       "</style>\n",
       "<table border=\"1\" class=\"dataframe\">\n",
       "  <thead>\n",
       "    <tr style=\"text-align: right;\">\n",
       "      <th></th>\n",
       "      <th>age</th>\n",
       "      <th>length</th>\n",
       "      <th>diameter</th>\n",
       "      <th>height</th>\n",
       "      <th>weight</th>\n",
       "      <th>gender</th>\n",
       "    </tr>\n",
       "  </thead>\n",
       "  <tbody>\n",
       "    <tr>\n",
       "      <th>0</th>\n",
       "      <td>6</td>\n",
       "      <td>0.474627</td>\n",
       "      <td>0.211352</td>\n",
       "      <td>0.178189</td>\n",
       "      <td>78.971766</td>\n",
       "      <td>1</td>\n",
       "    </tr>\n",
       "    <tr>\n",
       "      <th>1</th>\n",
       "      <td>1</td>\n",
       "      <td>0.465847</td>\n",
       "      <td>0.339388</td>\n",
       "      <td>0.170522</td>\n",
       "      <td>98.781960</td>\n",
       "      <td>1</td>\n",
       "    </tr>\n",
       "    <tr>\n",
       "      <th>2</th>\n",
       "      <td>4</td>\n",
       "      <td>0.122807</td>\n",
       "      <td>0.238691</td>\n",
       "      <td>0.106924</td>\n",
       "      <td>88.792625</td>\n",
       "      <td>0</td>\n",
       "    </tr>\n",
       "    <tr>\n",
       "      <th>3</th>\n",
       "      <td>4</td>\n",
       "      <td>0.204579</td>\n",
       "      <td>0.360543</td>\n",
       "      <td>0.034261</td>\n",
       "      <td>1.028847</td>\n",
       "      <td>0</td>\n",
       "    </tr>\n",
       "    <tr>\n",
       "      <th>4</th>\n",
       "      <td>8</td>\n",
       "      <td>0.243458</td>\n",
       "      <td>0.358037</td>\n",
       "      <td>0.128080</td>\n",
       "      <td>6.503367</td>\n",
       "      <td>0</td>\n",
       "    </tr>\n",
       "  </tbody>\n",
       "</table>\n",
       "</div>"
      ],
      "text/plain": [
       "   age    length  diameter    height     weight  gender\n",
       "0    6  0.474627  0.211352  0.178189  78.971766       1\n",
       "1    1  0.465847  0.339388  0.170522  98.781960       1\n",
       "2    4  0.122807  0.238691  0.106924  88.792625       0\n",
       "3    4  0.204579  0.360543  0.034261   1.028847       0\n",
       "4    8  0.243458  0.358037  0.128080   6.503367       0"
      ]
     },
     "execution_count": 132,
     "metadata": {},
     "output_type": "execute_result"
    }
   ],
   "source": [
    "train.head()"
   ]
  },
  {
   "cell_type": "code",
   "execution_count": 133,
   "id": "7bf6abfc-8455-4b85-be5e-f04ecb4f42b6",
   "metadata": {},
   "outputs": [
    {
     "name": "stdout",
     "output_type": "stream",
     "text": [
      "Optimization terminated successfully.\n",
      "         Current function value: 0.689820\n",
      "         Iterations 4\n",
      "                           Logit Regression Results                           \n",
      "==============================================================================\n",
      "Dep. Variable:                 gender   No. Observations:                  211\n",
      "Model:                          Logit   Df Residuals:                      209\n",
      "Method:                           MLE   Df Model:                            1\n",
      "Date:                Fri, 08 Nov 2024   Pseudo R-squ.:                0.004009\n",
      "Time:                        13:54:08   Log-Likelihood:                -145.55\n",
      "converged:                       True   LL-Null:                       -146.14\n",
      "Covariance Type:            nonrobust   LLR p-value:                    0.2791\n",
      "==============================================================================\n",
      "                 coef    std err          z      P>|z|      [0.025      0.975]\n",
      "------------------------------------------------------------------------------\n",
      "Intercept     -0.3240      0.276     -1.174      0.241      -0.865       0.217\n",
      "weight         0.0051      0.005      1.080      0.280      -0.004       0.014\n",
      "==============================================================================\n",
      "1.0051\n"
     ]
    }
   ],
   "source": [
    "train = df[:211]\n",
    "test = df[211:]\n",
    "\n",
    "from statsmodels.formula.api import logit\n",
    "import numpy as np\n",
    "\n",
    "formula = \"gender ~  weight\"\n",
    "model = logit(formula, data=train).fit()\n",
    "\n",
    "print(model.summary())\n",
    "odds_ratio = np.exp(model.params['weight'])\n",
    "print(round(odds_ratio, 4))"
   ]
  },
  {
   "cell_type": "markdown",
   "id": "834edc02-e697-4077-8ea5-66d954319f86",
   "metadata": {
    "id": "yeKVhetBtS8N"
   },
   "source": [
    "### 문제1-2"
   ]
  },
  {
   "cell_type": "code",
   "execution_count": 134,
   "id": "2366019d-4631-4da8-b882-18ba546c21de",
   "metadata": {},
   "outputs": [
    {
     "data": {
      "text/html": [
       "<div>\n",
       "<style scoped>\n",
       "    .dataframe tbody tr th:only-of-type {\n",
       "        vertical-align: middle;\n",
       "    }\n",
       "\n",
       "    .dataframe tbody tr th {\n",
       "        vertical-align: top;\n",
       "    }\n",
       "\n",
       "    .dataframe thead th {\n",
       "        text-align: right;\n",
       "    }\n",
       "</style>\n",
       "<table border=\"1\" class=\"dataframe\">\n",
       "  <thead>\n",
       "    <tr style=\"text-align: right;\">\n",
       "      <th></th>\n",
       "      <th>age</th>\n",
       "      <th>length</th>\n",
       "      <th>diameter</th>\n",
       "      <th>height</th>\n",
       "      <th>weight</th>\n",
       "      <th>gender</th>\n",
       "    </tr>\n",
       "  </thead>\n",
       "  <tbody>\n",
       "    <tr>\n",
       "      <th>0</th>\n",
       "      <td>6</td>\n",
       "      <td>0.474627</td>\n",
       "      <td>0.211352</td>\n",
       "      <td>0.178189</td>\n",
       "      <td>78.971766</td>\n",
       "      <td>1</td>\n",
       "    </tr>\n",
       "    <tr>\n",
       "      <th>1</th>\n",
       "      <td>1</td>\n",
       "      <td>0.465847</td>\n",
       "      <td>0.339388</td>\n",
       "      <td>0.170522</td>\n",
       "      <td>98.781960</td>\n",
       "      <td>1</td>\n",
       "    </tr>\n",
       "    <tr>\n",
       "      <th>2</th>\n",
       "      <td>4</td>\n",
       "      <td>0.122807</td>\n",
       "      <td>0.238691</td>\n",
       "      <td>0.106924</td>\n",
       "      <td>88.792625</td>\n",
       "      <td>0</td>\n",
       "    </tr>\n",
       "    <tr>\n",
       "      <th>3</th>\n",
       "      <td>4</td>\n",
       "      <td>0.204579</td>\n",
       "      <td>0.360543</td>\n",
       "      <td>0.034261</td>\n",
       "      <td>1.028847</td>\n",
       "      <td>0</td>\n",
       "    </tr>\n",
       "    <tr>\n",
       "      <th>4</th>\n",
       "      <td>8</td>\n",
       "      <td>0.243458</td>\n",
       "      <td>0.358037</td>\n",
       "      <td>0.128080</td>\n",
       "      <td>6.503367</td>\n",
       "      <td>0</td>\n",
       "    </tr>\n",
       "  </tbody>\n",
       "</table>\n",
       "</div>"
      ],
      "text/plain": [
       "   age    length  diameter    height     weight  gender\n",
       "0    6  0.474627  0.211352  0.178189  78.971766       1\n",
       "1    1  0.465847  0.339388  0.170522  98.781960       1\n",
       "2    4  0.122807  0.238691  0.106924  88.792625       0\n",
       "3    4  0.204579  0.360543  0.034261   1.028847       0\n",
       "4    8  0.243458  0.358037  0.128080   6.503367       0"
      ]
     },
     "execution_count": 134,
     "metadata": {},
     "output_type": "execute_result"
    }
   ],
   "source": [
    "train.head()"
   ]
  },
  {
   "cell_type": "code",
   "execution_count": 135,
   "id": "2690ea09-2a2c-4374-9ceb-f1c0b2a7973a",
   "metadata": {},
   "outputs": [
    {
     "name": "stdout",
     "output_type": "stream",
     "text": [
      "Optimization terminated successfully.\n",
      "         Current function value: 0.682505\n",
      "         Iterations 4\n",
      "288.02\n"
     ]
    }
   ],
   "source": [
    "from statsmodels.formula.api import logit\n",
    "\n",
    "formula = \"gender ~ age + length + diameter + height + weight\"\n",
    "model = logit(formula, data =train).fit()\n",
    "\n",
    "print(round(-2*model.llf ,2))"
   ]
  },
  {
   "cell_type": "markdown",
   "id": "b07dcb57-c2ce-4e53-85f0-878dd0f9c4d8",
   "metadata": {
    "id": "x4u7dfFTtUs9"
   },
   "source": [
    "### 문제1-3"
   ]
  },
  {
   "cell_type": "code",
   "execution_count": 136,
   "id": "85d89613-ad4f-4077-8976-5736eb4f7057",
   "metadata": {},
   "outputs": [
    {
     "name": "stdout",
     "output_type": "stream",
     "text": [
      "Optimization terminated successfully.\n",
      "         Current function value: 0.689820\n",
      "         Iterations 4\n",
      "0.494\n"
     ]
    }
   ],
   "source": [
    "from sklearn.metrics import accuracy_score\n",
    "formula = \"gender ~ weight\"\n",
    "model = logit(formula, data =train).fit()\n",
    "\n",
    "target = test.pop('gender')\n",
    "pred = model.predict(test)\n",
    "pred = (pred>0.5).astype(int)\n",
    "\n",
    "acc = accuracy_score(target, pred)\n",
    "error_rate = 1 - acc\n",
    "print(round(error_rate, 3))"
   ]
  },
  {
   "cell_type": "markdown",
   "id": "d9a1269a-b94c-49d4-a32d-9cdbab8dc8ac",
   "metadata": {
    "id": "4MSQ0eB1tWsh"
   },
   "source": [
    "### 문제2-1"
   ]
  },
  {
   "cell_type": "code",
   "execution_count": 155,
   "id": "bf10da1e-db06-4a4b-a2d7-3adfeccdc7b0",
   "metadata": {
    "colab": {
     "base_uri": "https://localhost:8080/"
    },
    "executionInfo": {
     "elapsed": 635,
     "status": "ok",
     "timestamp": 1722875171177,
     "user": {
      "displayName": "Tae Heon Kim",
      "userId": "07653788752262629837"
     },
     "user_tz": -540
    },
    "id": "OlvzgzRDcNt8",
    "outputId": "424000fc-c180-4157-8975-81a9f87ce6cd"
   },
   "outputs": [],
   "source": [
    "import pandas as pd\n",
    "df = pd.read_csv(\"https://raw.githubusercontent.com/lovedlim/bigdata_analyst_cert/main/part4/ch7/system_cpu.csv\")"
   ]
  },
  {
   "cell_type": "code",
   "execution_count": 156,
   "id": "dce4d0c9-1195-4f91-8b35-224b7b10a15a",
   "metadata": {},
   "outputs": [
    {
     "data": {
      "text/html": [
       "<div>\n",
       "<style scoped>\n",
       "    .dataframe tbody tr th:only-of-type {\n",
       "        vertical-align: middle;\n",
       "    }\n",
       "\n",
       "    .dataframe tbody tr th {\n",
       "        vertical-align: top;\n",
       "    }\n",
       "\n",
       "    .dataframe thead th {\n",
       "        text-align: right;\n",
       "    }\n",
       "</style>\n",
       "<table border=\"1\" class=\"dataframe\">\n",
       "  <thead>\n",
       "    <tr style=\"text-align: right;\">\n",
       "      <th></th>\n",
       "      <th>ERP</th>\n",
       "      <th>Feature1</th>\n",
       "      <th>Feature2</th>\n",
       "      <th>Feature3</th>\n",
       "      <th>CPU</th>\n",
       "    </tr>\n",
       "  </thead>\n",
       "  <tbody>\n",
       "    <tr>\n",
       "      <th>0</th>\n",
       "      <td>30.6</td>\n",
       "      <td>235.1</td>\n",
       "      <td>44.5</td>\n",
       "      <td>44.0</td>\n",
       "      <td>112.3</td>\n",
       "    </tr>\n",
       "    <tr>\n",
       "      <th>1</th>\n",
       "      <td>40.3</td>\n",
       "      <td>36.6</td>\n",
       "      <td>46.4</td>\n",
       "      <td>36.1</td>\n",
       "      <td>58.6</td>\n",
       "    </tr>\n",
       "    <tr>\n",
       "      <th>2</th>\n",
       "      <td>57.7</td>\n",
       "      <td>52.2</td>\n",
       "      <td>66.5</td>\n",
       "      <td>2.0</td>\n",
       "      <td>55.3</td>\n",
       "    </tr>\n",
       "    <tr>\n",
       "      <th>3</th>\n",
       "      <td>128.3</td>\n",
       "      <td>196.2</td>\n",
       "      <td>59.8</td>\n",
       "      <td>57.4</td>\n",
       "      <td>103.2</td>\n",
       "    </tr>\n",
       "    <tr>\n",
       "      <th>4</th>\n",
       "      <td>80.3</td>\n",
       "      <td>75.2</td>\n",
       "      <td>59.6</td>\n",
       "      <td>58.2</td>\n",
       "      <td>104.1</td>\n",
       "    </tr>\n",
       "  </tbody>\n",
       "</table>\n",
       "</div>"
      ],
      "text/plain": [
       "     ERP  Feature1  Feature2  Feature3    CPU\n",
       "0   30.6     235.1      44.5      44.0  112.3\n",
       "1   40.3      36.6      46.4      36.1   58.6\n",
       "2   57.7      52.2      66.5       2.0   55.3\n",
       "3  128.3     196.2      59.8      57.4  103.2\n",
       "4   80.3      75.2      59.6      58.2  104.1"
      ]
     },
     "execution_count": 156,
     "metadata": {},
     "output_type": "execute_result"
    }
   ],
   "source": [
    "df.head()"
   ]
  },
  {
   "cell_type": "code",
   "execution_count": 158,
   "id": "d62dd52a-c322-42e4-9670-a3882deb613f",
   "metadata": {},
   "outputs": [
    {
     "name": "stdout",
     "output_type": "stream",
     "text": [
      "0.882\n"
     ]
    }
   ],
   "source": [
    "cor = df.corr()\n",
    "cor = cor['ERP'].sort_values(ascending=False)\n",
    "print(round(cor.iloc[1], 3))"
   ]
  },
  {
   "cell_type": "code",
   "execution_count": 160,
   "id": "fa83c828-7c05-466f-a364-f5faf6952ac6",
   "metadata": {},
   "outputs": [
    {
     "data": {
      "text/html": [
       "<table class=\"simpletable\">\n",
       "<caption>OLS Regression Results</caption>\n",
       "<tr>\n",
       "  <th>Dep. Variable:</th>           <td>ERP</td>       <th>  R-squared:         </th> <td>   0.755</td>\n",
       "</tr>\n",
       "<tr>\n",
       "  <th>Model:</th>                   <td>OLS</td>       <th>  Adj. R-squared:    </th> <td>   0.736</td>\n",
       "</tr>\n",
       "<tr>\n",
       "  <th>Method:</th>             <td>Least Squares</td>  <th>  F-statistic:       </th> <td>   39.30</td>\n",
       "</tr>\n",
       "<tr>\n",
       "  <th>Date:</th>             <td>Fri, 08 Nov 2024</td> <th>  Prob (F-statistic):</th> <td>5.36e-15</td>\n",
       "</tr>\n",
       "<tr>\n",
       "  <th>Time:</th>                 <td>14:01:57</td>     <th>  Log-Likelihood:    </th> <td> -260.40</td>\n",
       "</tr>\n",
       "<tr>\n",
       "  <th>No. Observations:</th>      <td>    56</td>      <th>  AIC:               </th> <td>   530.8</td>\n",
       "</tr>\n",
       "<tr>\n",
       "  <th>Df Residuals:</th>          <td>    51</td>      <th>  BIC:               </th> <td>   540.9</td>\n",
       "</tr>\n",
       "<tr>\n",
       "  <th>Df Model:</th>              <td>     4</td>      <th>                     </th>     <td> </td>   \n",
       "</tr>\n",
       "<tr>\n",
       "  <th>Covariance Type:</th>      <td>nonrobust</td>    <th>                     </th>     <td> </td>   \n",
       "</tr>\n",
       "</table>\n",
       "<table class=\"simpletable\">\n",
       "<tr>\n",
       "      <td></td>         <th>coef</th>     <th>std err</th>      <th>t</th>      <th>P>|t|</th>  <th>[0.025</th>    <th>0.975]</th>  \n",
       "</tr>\n",
       "<tr>\n",
       "  <th>Intercept</th> <td>   51.4133</td> <td>   19.112</td> <td>    2.690</td> <td> 0.010</td> <td>   13.045</td> <td>   89.782</td>\n",
       "</tr>\n",
       "<tr>\n",
       "  <th>Feature1</th>  <td>   -0.0242</td> <td>    0.059</td> <td>   -0.409</td> <td> 0.684</td> <td>   -0.143</td> <td>    0.094</td>\n",
       "</tr>\n",
       "<tr>\n",
       "  <th>Feature2</th>  <td>    0.0602</td> <td>    0.106</td> <td>    0.569</td> <td> 0.572</td> <td>   -0.152</td> <td>    0.273</td>\n",
       "</tr>\n",
       "<tr>\n",
       "  <th>Feature3</th>  <td>    1.4126</td> <td>    0.113</td> <td>   12.458</td> <td> 0.000</td> <td>    1.185</td> <td>    1.640</td>\n",
       "</tr>\n",
       "<tr>\n",
       "  <th>CPU</th>       <td>   -0.4651</td> <td>    0.234</td> <td>   -1.985</td> <td> 0.053</td> <td>   -0.936</td> <td>    0.005</td>\n",
       "</tr>\n",
       "</table>\n",
       "<table class=\"simpletable\">\n",
       "<tr>\n",
       "  <th>Omnibus:</th>       <td> 3.758</td> <th>  Durbin-Watson:     </th> <td>   1.762</td>\n",
       "</tr>\n",
       "<tr>\n",
       "  <th>Prob(Omnibus):</th> <td> 0.153</td> <th>  Jarque-Bera (JB):  </th> <td>   2.757</td>\n",
       "</tr>\n",
       "<tr>\n",
       "  <th>Skew:</th>          <td> 0.436</td> <th>  Prob(JB):          </th> <td>   0.252</td>\n",
       "</tr>\n",
       "<tr>\n",
       "  <th>Kurtosis:</th>      <td> 3.648</td> <th>  Cond. No.          </th> <td>    780.</td>\n",
       "</tr>\n",
       "</table><br/><br/>Notes:<br/>[1] Standard Errors assume that the covariance matrix of the errors is correctly specified."
      ],
      "text/latex": [
       "\\begin{center}\n",
       "\\begin{tabular}{lclc}\n",
       "\\toprule\n",
       "\\textbf{Dep. Variable:}    &       ERP        & \\textbf{  R-squared:         } &     0.755   \\\\\n",
       "\\textbf{Model:}            &       OLS        & \\textbf{  Adj. R-squared:    } &     0.736   \\\\\n",
       "\\textbf{Method:}           &  Least Squares   & \\textbf{  F-statistic:       } &     39.30   \\\\\n",
       "\\textbf{Date:}             & Fri, 08 Nov 2024 & \\textbf{  Prob (F-statistic):} &  5.36e-15   \\\\\n",
       "\\textbf{Time:}             &     14:01:57     & \\textbf{  Log-Likelihood:    } &   -260.40   \\\\\n",
       "\\textbf{No. Observations:} &          56      & \\textbf{  AIC:               } &     530.8   \\\\\n",
       "\\textbf{Df Residuals:}     &          51      & \\textbf{  BIC:               } &     540.9   \\\\\n",
       "\\textbf{Df Model:}         &           4      & \\textbf{                     } &             \\\\\n",
       "\\textbf{Covariance Type:}  &    nonrobust     & \\textbf{                     } &             \\\\\n",
       "\\bottomrule\n",
       "\\end{tabular}\n",
       "\\begin{tabular}{lcccccc}\n",
       "                   & \\textbf{coef} & \\textbf{std err} & \\textbf{t} & \\textbf{P$> |$t$|$} & \\textbf{[0.025} & \\textbf{0.975]}  \\\\\n",
       "\\midrule\n",
       "\\textbf{Intercept} &      51.4133  &       19.112     &     2.690  &         0.010        &       13.045    &       89.782     \\\\\n",
       "\\textbf{Feature1}  &      -0.0242  &        0.059     &    -0.409  &         0.684        &       -0.143    &        0.094     \\\\\n",
       "\\textbf{Feature2}  &       0.0602  &        0.106     &     0.569  &         0.572        &       -0.152    &        0.273     \\\\\n",
       "\\textbf{Feature3}  &       1.4126  &        0.113     &    12.458  &         0.000        &        1.185    &        1.640     \\\\\n",
       "\\textbf{CPU}       &      -0.4651  &        0.234     &    -1.985  &         0.053        &       -0.936    &        0.005     \\\\\n",
       "\\bottomrule\n",
       "\\end{tabular}\n",
       "\\begin{tabular}{lclc}\n",
       "\\textbf{Omnibus:}       &  3.758 & \\textbf{  Durbin-Watson:     } &    1.762  \\\\\n",
       "\\textbf{Prob(Omnibus):} &  0.153 & \\textbf{  Jarque-Bera (JB):  } &    2.757  \\\\\n",
       "\\textbf{Skew:}          &  0.436 & \\textbf{  Prob(JB):          } &    0.252  \\\\\n",
       "\\textbf{Kurtosis:}      &  3.648 & \\textbf{  Cond. No.          } &     780.  \\\\\n",
       "\\bottomrule\n",
       "\\end{tabular}\n",
       "%\\caption{OLS Regression Results}\n",
       "\\end{center}\n",
       "\n",
       "Notes: \\newline\n",
       " [1] Standard Errors assume that the covariance matrix of the errors is correctly specified."
      ],
      "text/plain": [
       "<class 'statsmodels.iolib.summary.Summary'>\n",
       "\"\"\"\n",
       "                            OLS Regression Results                            \n",
       "==============================================================================\n",
       "Dep. Variable:                    ERP   R-squared:                       0.755\n",
       "Model:                            OLS   Adj. R-squared:                  0.736\n",
       "Method:                 Least Squares   F-statistic:                     39.30\n",
       "Date:                Fri, 08 Nov 2024   Prob (F-statistic):           5.36e-15\n",
       "Time:                        14:01:57   Log-Likelihood:                -260.40\n",
       "No. Observations:                  56   AIC:                             530.8\n",
       "Df Residuals:                      51   BIC:                             540.9\n",
       "Df Model:                           4                                         \n",
       "Covariance Type:            nonrobust                                         \n",
       "==============================================================================\n",
       "                 coef    std err          t      P>|t|      [0.025      0.975]\n",
       "------------------------------------------------------------------------------\n",
       "Intercept     51.4133     19.112      2.690      0.010      13.045      89.782\n",
       "Feature1      -0.0242      0.059     -0.409      0.684      -0.143       0.094\n",
       "Feature2       0.0602      0.106      0.569      0.572      -0.152       0.273\n",
       "Feature3       1.4126      0.113     12.458      0.000       1.185       1.640\n",
       "CPU           -0.4651      0.234     -1.985      0.053      -0.936       0.005\n",
       "==============================================================================\n",
       "Omnibus:                        3.758   Durbin-Watson:                   1.762\n",
       "Prob(Omnibus):                  0.153   Jarque-Bera (JB):                2.757\n",
       "Skew:                           0.436   Prob(JB):                        0.252\n",
       "Kurtosis:                       3.648   Cond. No.                         780.\n",
       "==============================================================================\n",
       "\n",
       "Notes:\n",
       "[1] Standard Errors assume that the covariance matrix of the errors is correctly specified.\n",
       "\"\"\""
      ]
     },
     "execution_count": 160,
     "metadata": {},
     "output_type": "execute_result"
    }
   ],
   "source": [
    "from statsmodels.formula.api import ols\n",
    "\n",
    "filtered_df = df[df['CPU'] < 100]\n",
    "\n",
    "formula = \"ERP ~ Feature1 + Feature2 + Feature3 + CPU\"\n",
    "\n",
    "model = ols(formula, data=filtered_df).fit()\n",
    "\n",
    "model.summary()"
   ]
  }
 ],
 "metadata": {
  "kernelspec": {
   "display_name": "Python 3 (ipykernel)",
   "language": "python",
   "name": "python3"
  },
  "language_info": {
   "codemirror_mode": {
    "name": "ipython",
    "version": 3
   },
   "file_extension": ".py",
   "mimetype": "text/x-python",
   "name": "python",
   "nbconvert_exporter": "python",
   "pygments_lexer": "ipython3",
   "version": "3.12.4"
  }
 },
 "nbformat": 4,
 "nbformat_minor": 5
}
