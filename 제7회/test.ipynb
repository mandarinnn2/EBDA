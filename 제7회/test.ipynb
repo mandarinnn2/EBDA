{
 "cells": [
  {
   "cell_type": "markdown",
   "id": "efffcb6a-6280-4444-92df-3c5fc8dcf901",
   "metadata": {
    "id": "ImS-bayEojdA"
   },
   "source": [
    "## 작업형1"
   ]
  },
  {
   "cell_type": "markdown",
   "id": "fa091fa5-5b6b-4595-b10f-1f47e6100fec",
   "metadata": {
    "id": "JO-2zLFZsse1"
   },
   "source": [
    "### 문제1"
   ]
  },
  {
   "cell_type": "code",
   "execution_count": 1,
   "id": "2ef7fecc-36c5-46c2-bd1f-24b108c188f3",
   "metadata": {
    "colab": {
     "base_uri": "https://localhost:8080/"
    },
    "executionInfo": {
     "elapsed": 308,
     "status": "ok",
     "timestamp": 1713104075940,
     "user": {
      "displayName": "Tae Heon Kim",
      "userId": "07653788752262629837"
     },
     "user_tz": -540
    },
    "id": "QfWBB-yjCuX8",
    "outputId": "fcef071e-5a6b-4ff3-d92c-00c98c0f4fa1"
   },
   "outputs": [],
   "source": [
    "import pandas as pd\n",
    "df = pd.read_csv(\"https://raw.githubusercontent.com/lovedlim/bigdata_analyst_cert/main/part4/ch7/student_assessment.csv\")"
   ]
  },
  {
   "cell_type": "code",
   "execution_count": 2,
   "id": "5d3cafed-47bd-44f5-abbe-959863e760ff",
   "metadata": {},
   "outputs": [
    {
     "data": {
      "text/html": [
       "<div>\n",
       "<style scoped>\n",
       "    .dataframe tbody tr th:only-of-type {\n",
       "        vertical-align: middle;\n",
       "    }\n",
       "\n",
       "    .dataframe tbody tr th {\n",
       "        vertical-align: top;\n",
       "    }\n",
       "\n",
       "    .dataframe thead th {\n",
       "        text-align: right;\n",
       "    }\n",
       "</style>\n",
       "<table border=\"1\" class=\"dataframe\">\n",
       "  <thead>\n",
       "    <tr style=\"text-align: right;\">\n",
       "      <th></th>\n",
       "      <th>id_assessment</th>\n",
       "      <th>student_id</th>\n",
       "      <th>study_period_days</th>\n",
       "      <th>score</th>\n",
       "    </tr>\n",
       "  </thead>\n",
       "  <tbody>\n",
       "    <tr>\n",
       "      <th>0</th>\n",
       "      <td>103</td>\n",
       "      <td>0</td>\n",
       "      <td>22</td>\n",
       "      <td>87.0</td>\n",
       "    </tr>\n",
       "    <tr>\n",
       "      <th>1</th>\n",
       "      <td>93</td>\n",
       "      <td>1</td>\n",
       "      <td>70</td>\n",
       "      <td>92.0</td>\n",
       "    </tr>\n",
       "    <tr>\n",
       "      <th>2</th>\n",
       "      <td>15</td>\n",
       "      <td>2</td>\n",
       "      <td>22</td>\n",
       "      <td>2.0</td>\n",
       "    </tr>\n",
       "    <tr>\n",
       "      <th>3</th>\n",
       "      <td>107</td>\n",
       "      <td>3</td>\n",
       "      <td>22</td>\n",
       "      <td>51.0</td>\n",
       "    </tr>\n",
       "    <tr>\n",
       "      <th>4</th>\n",
       "      <td>72</td>\n",
       "      <td>4</td>\n",
       "      <td>22</td>\n",
       "      <td>73.0</td>\n",
       "    </tr>\n",
       "  </tbody>\n",
       "</table>\n",
       "</div>"
      ],
      "text/plain": [
       "   id_assessment  student_id  study_period_days  score\n",
       "0            103           0                 22   87.0\n",
       "1             93           1                 70   92.0\n",
       "2             15           2                 22    2.0\n",
       "3            107           3                 22   51.0\n",
       "4             72           4                 22   73.0"
      ]
     },
     "execution_count": 2,
     "metadata": {},
     "output_type": "execute_result"
    }
   ],
   "source": [
    "df.head()"
   ]
  },
  {
   "cell_type": "code",
   "execution_count": 5,
   "id": "11c2a14a-063c-4ea2-a8f0-3737f401bf24",
   "metadata": {},
   "outputs": [
    {
     "name": "stdout",
     "output_type": "stream",
     "text": [
      "12\n",
      "2.183\n"
     ]
    }
   ],
   "source": [
    "df = df.dropna()\n",
    "print(df['id_assessment'].value_counts().idxmax())\n",
    "\n",
    "df = df[df['id_assessment'] == 12]\n",
    "\n",
    "from sklearn.preprocessing import StandardScaler\n",
    "\n",
    "sc = StandardScaler()\n",
    "\n",
    "df['score'] = sc.fit_transform(df[['score']])\n",
    "print(round(df['score'].max(), 3))"
   ]
  },
  {
   "cell_type": "markdown",
   "id": "68ea229a-4dbf-4f0e-af5d-e6c458c2e092",
   "metadata": {
    "id": "sHC4blpRswAJ"
   },
   "source": [
    "### 문제2"
   ]
  },
  {
   "cell_type": "code",
   "execution_count": 6,
   "id": "d85a8bd1-d175-48ca-aa7e-7bafd4b57590",
   "metadata": {
    "colab": {
     "base_uri": "https://localhost:8080/"
    },
    "executionInfo": {
     "elapsed": 316,
     "status": "ok",
     "timestamp": 1713104076541,
     "user": {
      "displayName": "Tae Heon Kim",
      "userId": "07653788752262629837"
     },
     "user_tz": -540
    },
    "id": "usqyPcI4J0eL",
    "outputId": "f64aefee-35d8-40e0-8dc4-3b3e144cc73a"
   },
   "outputs": [],
   "source": [
    "import pandas as pd\n",
    "df = pd.read_csv(\"https://raw.githubusercontent.com/lovedlim/bigdata_analyst_cert/main/part4/ch7/stock_market.csv\")"
   ]
  },
  {
   "cell_type": "code",
   "execution_count": 7,
   "id": "f58cbeeb-6448-4ffa-90d9-ad1cded76767",
   "metadata": {},
   "outputs": [
    {
     "data": {
      "text/html": [
       "<div>\n",
       "<style scoped>\n",
       "    .dataframe tbody tr th:only-of-type {\n",
       "        vertical-align: middle;\n",
       "    }\n",
       "\n",
       "    .dataframe tbody tr th {\n",
       "        vertical-align: top;\n",
       "    }\n",
       "\n",
       "    .dataframe thead th {\n",
       "        text-align: right;\n",
       "    }\n",
       "</style>\n",
       "<table border=\"1\" class=\"dataframe\">\n",
       "  <thead>\n",
       "    <tr style=\"text-align: right;\">\n",
       "      <th></th>\n",
       "      <th>DE1</th>\n",
       "      <th>DE2</th>\n",
       "      <th>DE3</th>\n",
       "      <th>DE4</th>\n",
       "      <th>DE5</th>\n",
       "      <th>DE6</th>\n",
       "      <th>DE7</th>\n",
       "      <th>DE8</th>\n",
       "      <th>DE9</th>\n",
       "      <th>DE10</th>\n",
       "      <th>...</th>\n",
       "      <th>DE71</th>\n",
       "      <th>DE72</th>\n",
       "      <th>DE73</th>\n",
       "      <th>DE74</th>\n",
       "      <th>DE75</th>\n",
       "      <th>DE76</th>\n",
       "      <th>DE77</th>\n",
       "      <th>open</th>\n",
       "      <th>close</th>\n",
       "      <th>volume</th>\n",
       "    </tr>\n",
       "  </thead>\n",
       "  <tbody>\n",
       "    <tr>\n",
       "      <th>0</th>\n",
       "      <td>1.764052</td>\n",
       "      <td>0.400157</td>\n",
       "      <td>0.978738</td>\n",
       "      <td>2.240893</td>\n",
       "      <td>1.867558</td>\n",
       "      <td>-0.977278</td>\n",
       "      <td>0.950088</td>\n",
       "      <td>-0.151357</td>\n",
       "      <td>-0.103219</td>\n",
       "      <td>0.410599</td>\n",
       "      <td>...</td>\n",
       "      <td>0.729091</td>\n",
       "      <td>0.128983</td>\n",
       "      <td>1.139401</td>\n",
       "      <td>-1.234826</td>\n",
       "      <td>0.402342</td>\n",
       "      <td>-0.684810</td>\n",
       "      <td>-0.870797</td>\n",
       "      <td>129.549102</td>\n",
       "      <td>126.502056</td>\n",
       "      <td>981466.0</td>\n",
       "    </tr>\n",
       "    <tr>\n",
       "      <th>1</th>\n",
       "      <td>-0.578850</td>\n",
       "      <td>-0.311553</td>\n",
       "      <td>0.056165</td>\n",
       "      <td>-1.165150</td>\n",
       "      <td>0.900826</td>\n",
       "      <td>0.465662</td>\n",
       "      <td>-1.536244</td>\n",
       "      <td>1.488252</td>\n",
       "      <td>1.895889</td>\n",
       "      <td>1.178780</td>\n",
       "      <td>...</td>\n",
       "      <td>1.117016</td>\n",
       "      <td>-1.315907</td>\n",
       "      <td>-0.461585</td>\n",
       "      <td>-0.068242</td>\n",
       "      <td>1.713343</td>\n",
       "      <td>-0.744755</td>\n",
       "      <td>-0.826439</td>\n",
       "      <td>126.502056</td>\n",
       "      <td>128.041811</td>\n",
       "      <td>473416.0</td>\n",
       "    </tr>\n",
       "    <tr>\n",
       "      <th>2</th>\n",
       "      <td>-0.098453</td>\n",
       "      <td>-0.663478</td>\n",
       "      <td>1.126636</td>\n",
       "      <td>-1.079932</td>\n",
       "      <td>-1.147469</td>\n",
       "      <td>-0.437820</td>\n",
       "      <td>-0.498032</td>\n",
       "      <td>1.929532</td>\n",
       "      <td>0.949421</td>\n",
       "      <td>0.087551</td>\n",
       "      <td>...</td>\n",
       "      <td>-1.540797</td>\n",
       "      <td>0.063262</td>\n",
       "      <td>0.156507</td>\n",
       "      <td>0.232181</td>\n",
       "      <td>-0.597316</td>\n",
       "      <td>-0.237922</td>\n",
       "      <td>-1.424061</td>\n",
       "      <td>128.041811</td>\n",
       "      <td>128.957651</td>\n",
       "      <td>46597.0</td>\n",
       "    </tr>\n",
       "    <tr>\n",
       "      <th>3</th>\n",
       "      <td>-0.493320</td>\n",
       "      <td>-0.542861</td>\n",
       "      <td>0.416050</td>\n",
       "      <td>-1.156182</td>\n",
       "      <td>0.781198</td>\n",
       "      <td>1.494485</td>\n",
       "      <td>-2.069985</td>\n",
       "      <td>0.426259</td>\n",
       "      <td>0.676908</td>\n",
       "      <td>-0.637437</td>\n",
       "      <td>...</td>\n",
       "      <td>1.658131</td>\n",
       "      <td>-0.118164</td>\n",
       "      <td>-0.680178</td>\n",
       "      <td>0.666383</td>\n",
       "      <td>-0.460720</td>\n",
       "      <td>-1.334258</td>\n",
       "      <td>-1.346718</td>\n",
       "      <td>128.957651</td>\n",
       "      <td>122.965246</td>\n",
       "      <td>455747.0</td>\n",
       "    </tr>\n",
       "    <tr>\n",
       "      <th>4</th>\n",
       "      <td>0.693773</td>\n",
       "      <td>-0.159573</td>\n",
       "      <td>-0.133702</td>\n",
       "      <td>1.077744</td>\n",
       "      <td>-1.126826</td>\n",
       "      <td>-0.730678</td>\n",
       "      <td>-0.384880</td>\n",
       "      <td>0.094352</td>\n",
       "      <td>-0.042171</td>\n",
       "      <td>-0.286887</td>\n",
       "      <td>...</td>\n",
       "      <td>-0.206904</td>\n",
       "      <td>0.880179</td>\n",
       "      <td>-1.698106</td>\n",
       "      <td>0.387280</td>\n",
       "      <td>-2.255564</td>\n",
       "      <td>-1.022507</td>\n",
       "      <td>0.038631</td>\n",
       "      <td>122.965246</td>\n",
       "      <td>114.922790</td>\n",
       "      <td>242198.0</td>\n",
       "    </tr>\n",
       "  </tbody>\n",
       "</table>\n",
       "<p>5 rows × 80 columns</p>\n",
       "</div>"
      ],
      "text/plain": [
       "        DE1       DE2       DE3       DE4       DE5       DE6       DE7  \\\n",
       "0  1.764052  0.400157  0.978738  2.240893  1.867558 -0.977278  0.950088   \n",
       "1 -0.578850 -0.311553  0.056165 -1.165150  0.900826  0.465662 -1.536244   \n",
       "2 -0.098453 -0.663478  1.126636 -1.079932 -1.147469 -0.437820 -0.498032   \n",
       "3 -0.493320 -0.542861  0.416050 -1.156182  0.781198  1.494485 -2.069985   \n",
       "4  0.693773 -0.159573 -0.133702  1.077744 -1.126826 -0.730678 -0.384880   \n",
       "\n",
       "        DE8       DE9      DE10  ...      DE71      DE72      DE73      DE74  \\\n",
       "0 -0.151357 -0.103219  0.410599  ...  0.729091  0.128983  1.139401 -1.234826   \n",
       "1  1.488252  1.895889  1.178780  ...  1.117016 -1.315907 -0.461585 -0.068242   \n",
       "2  1.929532  0.949421  0.087551  ... -1.540797  0.063262  0.156507  0.232181   \n",
       "3  0.426259  0.676908 -0.637437  ...  1.658131 -0.118164 -0.680178  0.666383   \n",
       "4  0.094352 -0.042171 -0.286887  ... -0.206904  0.880179 -1.698106  0.387280   \n",
       "\n",
       "       DE75      DE76      DE77        open       close    volume  \n",
       "0  0.402342 -0.684810 -0.870797  129.549102  126.502056  981466.0  \n",
       "1  1.713343 -0.744755 -0.826439  126.502056  128.041811  473416.0  \n",
       "2 -0.597316 -0.237922 -1.424061  128.041811  128.957651   46597.0  \n",
       "3 -0.460720 -1.334258 -1.346718  128.957651  122.965246  455747.0  \n",
       "4 -2.255564 -1.022507  0.038631  122.965246  114.922790  242198.0  \n",
       "\n",
       "[5 rows x 80 columns]"
      ]
     },
     "execution_count": 7,
     "metadata": {},
     "output_type": "execute_result"
    }
   ],
   "source": [
    "df.head()"
   ]
  },
  {
   "cell_type": "code",
   "execution_count": 11,
   "id": "a21ee84b-c4d6-4471-b8d3-4bc7360198b8",
   "metadata": {},
   "outputs": [
    {
     "name": "stdout",
     "output_type": "stream",
     "text": [
      "-0.0004\n"
     ]
    }
   ],
   "source": [
    "df_corr = df.corr()['close'].abs()\n",
    "df_max = df_corr.loc['DE1':'DE77'].idxmax()\n",
    "print(round(df[df_max].mean(), 4))"
   ]
  },
  {
   "cell_type": "markdown",
   "id": "0d3d4aa9-250f-4f97-ae58-fb655a11d11d",
   "metadata": {
    "id": "E9QDz8l-sy4D"
   },
   "source": [
    "### 문제3"
   ]
  },
  {
   "cell_type": "code",
   "execution_count": 17,
   "id": "5ae1c50c-8d98-44ab-a10a-9043b5d7414a",
   "metadata": {
    "colab": {
     "base_uri": "https://localhost:8080/"
    },
    "executionInfo": {
     "elapsed": 3,
     "status": "ok",
     "timestamp": 1713104076542,
     "user": {
      "displayName": "Tae Heon Kim",
      "userId": "07653788752262629837"
     },
     "user_tz": -540
    },
    "id": "LipHWwikUBL-",
    "outputId": "7887d4ce-375f-46de-8a51-978d5ff6af97",
    "scrolled": true
   },
   "outputs": [],
   "source": [
    "import pandas as pd\n",
    "df = pd.read_csv(\"https://raw.githubusercontent.com/lovedlim/bigdata_analyst_cert/main/part4/ch7/air_quality.csv\")"
   ]
  },
  {
   "cell_type": "code",
   "execution_count": 18,
   "id": "a45d6aaa-1c09-4f07-b1a3-6edf870a3372",
   "metadata": {},
   "outputs": [
    {
     "data": {
      "text/html": [
       "<div>\n",
       "<style scoped>\n",
       "    .dataframe tbody tr th:only-of-type {\n",
       "        vertical-align: middle;\n",
       "    }\n",
       "\n",
       "    .dataframe tbody tr th {\n",
       "        vertical-align: top;\n",
       "    }\n",
       "\n",
       "    .dataframe thead th {\n",
       "        text-align: right;\n",
       "    }\n",
       "</style>\n",
       "<table border=\"1\" class=\"dataframe\">\n",
       "  <thead>\n",
       "    <tr style=\"text-align: right;\">\n",
       "      <th></th>\n",
       "      <th>Date</th>\n",
       "      <th>CO</th>\n",
       "      <th>CO2</th>\n",
       "      <th>O2</th>\n",
       "    </tr>\n",
       "  </thead>\n",
       "  <tbody>\n",
       "    <tr>\n",
       "      <th>0</th>\n",
       "      <td>2024-01-01 00:00:00</td>\n",
       "      <td>0.549671</td>\n",
       "      <td>383.037632</td>\n",
       "      <td>21.248286</td>\n",
       "    </tr>\n",
       "    <tr>\n",
       "      <th>1</th>\n",
       "      <td>2024-01-01 01:00:00</td>\n",
       "      <td>0.486174</td>\n",
       "      <td>392.362513</td>\n",
       "      <td>21.183324</td>\n",
       "    </tr>\n",
       "    <tr>\n",
       "      <th>2</th>\n",
       "      <td>2024-01-01 02:00:00</td>\n",
       "      <td>0.564769</td>\n",
       "      <td>385.065473</td>\n",
       "      <td>19.963480</td>\n",
       "    </tr>\n",
       "    <tr>\n",
       "      <th>3</th>\n",
       "      <td>2024-01-01 03:00:00</td>\n",
       "      <td>0.652303</td>\n",
       "      <td>402.760451</td>\n",
       "      <td>21.479584</td>\n",
       "    </tr>\n",
       "    <tr>\n",
       "      <th>4</th>\n",
       "      <td>2024-01-01 04:00:00</td>\n",
       "      <td>0.476585</td>\n",
       "      <td>429.929463</td>\n",
       "      <td>19.409917</td>\n",
       "    </tr>\n",
       "  </tbody>\n",
       "</table>\n",
       "</div>"
      ],
      "text/plain": [
       "                  Date        CO         CO2         O2\n",
       "0  2024-01-01 00:00:00  0.549671  383.037632  21.248286\n",
       "1  2024-01-01 01:00:00  0.486174  392.362513  21.183324\n",
       "2  2024-01-01 02:00:00  0.564769  385.065473  19.963480\n",
       "3  2024-01-01 03:00:00  0.652303  402.760451  21.479584\n",
       "4  2024-01-01 04:00:00  0.476585  429.929463  19.409917"
      ]
     },
     "execution_count": 18,
     "metadata": {},
     "output_type": "execute_result"
    }
   ],
   "source": [
    "df.head()"
   ]
  },
  {
   "cell_type": "code",
   "execution_count": 19,
   "id": "1e0b0602-5fa2-4e2f-b774-5781db322d4c",
   "metadata": {},
   "outputs": [
    {
     "name": "stdout",
     "output_type": "stream",
     "text": [
      "304\n"
     ]
    }
   ],
   "source": [
    "Q1 = df['CO2'].quantile(0.25)\n",
    "Q3 = df['CO2'].quantile(0.75)\n",
    "IQR = Q3 - Q1\n",
    "lower = Q1 - IQR * 1.5\n",
    "upper = Q3 + IQR * 1.5\n",
    "\n",
    "x = df[(df['CO2'] > upper) | (df['CO2'] < lower)]\n",
    "print(len(x))"
   ]
  },
  {
   "cell_type": "markdown",
   "id": "4f049712-2781-4642-81ca-8c754787dc67",
   "metadata": {},
   "source": [
    "## 작업형 2"
   ]
  },
  {
   "cell_type": "code",
   "execution_count": 29,
   "id": "5050c737-fd7e-4b14-be97-e751e734f426",
   "metadata": {
    "executionInfo": {
     "elapsed": 1638,
     "status": "ok",
     "timestamp": 1722875066500,
     "user": {
      "displayName": "Tae Heon Kim",
      "userId": "07653788752262629837"
     },
     "user_tz": -540
    },
    "id": "30wq46-FfSt_"
   },
   "outputs": [],
   "source": [
    "# 데이터 불러오기\n",
    "import pandas as pd\n",
    "train = pd.read_csv(\"https://raw.githubusercontent.com/lovedlim/bigdata_analyst_cert/main/part4/ch7/mart_train.csv\")\n",
    "test = pd.read_csv(\"https://raw.githubusercontent.com/lovedlim/bigdata_analyst_cert/main/part4/ch7/mart_test.csv\")"
   ]
  },
  {
   "cell_type": "code",
   "execution_count": 30,
   "id": "2604cb6f-dd61-4ff2-80d8-a2dfb18c74c6",
   "metadata": {
    "scrolled": true
   },
   "outputs": [
    {
     "name": "stdout",
     "output_type": "stream",
     "text": [
      "(700, 10) (300, 9)\n",
      "              total      rating\n",
      "count  7.000000e+02  700.000000\n",
      "mean   4.850780e+05    7.003429\n",
      "std    3.643907e+05    1.713078\n",
      "min    1.904175e+04    4.000000\n",
      "25%    2.001195e+05    5.500000\n",
      "50%    3.818745e+05    7.000000\n",
      "75%    7.061276e+05    8.425000\n",
      "max    1.563975e+06   10.000000            rating\n",
      "count  300.000000\n",
      "mean     6.901000\n",
      "std      1.732099\n",
      "min      4.000000\n",
      "25%      5.500000\n",
      "50%      6.800000\n",
      "75%      8.500000\n",
      "max     10.000000\n",
      "<class 'pandas.core.frame.DataFrame'>\n",
      "RangeIndex: 700 entries, 0 to 699\n",
      "Data columns (total 10 columns):\n",
      " #   Column          Non-Null Count  Dtype  \n",
      "---  ------          --------------  -----  \n",
      " 0   branch          700 non-null    object \n",
      " 1   city            700 non-null    object \n",
      " 2   customer_type   700 non-null    object \n",
      " 3   gender          700 non-null    object \n",
      " 4   product_line    700 non-null    object \n",
      " 5   total           700 non-null    float64\n",
      " 6   payment_method  700 non-null    object \n",
      " 7   rating          700 non-null    float64\n",
      " 8   time_of_day     700 non-null    object \n",
      " 9   day_name        700 non-null    object \n",
      "dtypes: float64(2), object(8)\n",
      "memory usage: 54.8+ KB\n",
      "<class 'pandas.core.frame.DataFrame'>\n",
      "RangeIndex: 300 entries, 0 to 299\n",
      "Data columns (total 9 columns):\n",
      " #   Column          Non-Null Count  Dtype  \n",
      "---  ------          --------------  -----  \n",
      " 0   branch          300 non-null    object \n",
      " 1   city            300 non-null    object \n",
      " 2   customer_type   300 non-null    object \n",
      " 3   gender          300 non-null    object \n",
      " 4   product_line    300 non-null    object \n",
      " 5   payment_method  300 non-null    object \n",
      " 6   rating          300 non-null    float64\n",
      " 7   time_of_day     300 non-null    object \n",
      " 8   day_name        300 non-null    object \n",
      "dtypes: float64(1), object(8)\n",
      "memory usage: 21.2+ KB\n",
      "None None\n",
      "0 0\n"
     ]
    }
   ],
   "source": [
    "print(train.shape, test.shape)\n",
    "print(train.describe(), test.describe())\n",
    "print(train.info(), test.info())\n",
    "print(train.isnull().sum().sum(), test.isnull().sum().sum())"
   ]
  },
  {
   "cell_type": "code",
   "execution_count": 31,
   "id": "e8172c9d-69c5-4ee5-a1a8-957fe4c170b0",
   "metadata": {
    "scrolled": true
   },
   "outputs": [
    {
     "data": {
      "text/html": [
       "<div>\n",
       "<style scoped>\n",
       "    .dataframe tbody tr th:only-of-type {\n",
       "        vertical-align: middle;\n",
       "    }\n",
       "\n",
       "    .dataframe tbody tr th {\n",
       "        vertical-align: top;\n",
       "    }\n",
       "\n",
       "    .dataframe thead th {\n",
       "        text-align: right;\n",
       "    }\n",
       "</style>\n",
       "<table border=\"1\" class=\"dataframe\">\n",
       "  <thead>\n",
       "    <tr style=\"text-align: right;\">\n",
       "      <th></th>\n",
       "      <th>branch</th>\n",
       "      <th>city</th>\n",
       "      <th>customer_type</th>\n",
       "      <th>gender</th>\n",
       "      <th>product_line</th>\n",
       "      <th>total</th>\n",
       "      <th>payment_method</th>\n",
       "      <th>rating</th>\n",
       "      <th>time_of_day</th>\n",
       "      <th>day_name</th>\n",
       "    </tr>\n",
       "  </thead>\n",
       "  <tbody>\n",
       "    <tr>\n",
       "      <th>0</th>\n",
       "      <td>A</td>\n",
       "      <td>Yangon</td>\n",
       "      <td>Member</td>\n",
       "      <td>Female</td>\n",
       "      <td>Health and beauty</td>\n",
       "      <td>823457.25</td>\n",
       "      <td>Ewallet</td>\n",
       "      <td>9.1</td>\n",
       "      <td>afternoon</td>\n",
       "      <td>Saturday</td>\n",
       "    </tr>\n",
       "    <tr>\n",
       "      <th>1</th>\n",
       "      <td>C</td>\n",
       "      <td>Naypyitaw</td>\n",
       "      <td>Normal</td>\n",
       "      <td>Female</td>\n",
       "      <td>Electronic accessories</td>\n",
       "      <td>120330.00</td>\n",
       "      <td>Cash</td>\n",
       "      <td>9.6</td>\n",
       "      <td>morning</td>\n",
       "      <td>Friday</td>\n",
       "    </tr>\n",
       "    <tr>\n",
       "      <th>2</th>\n",
       "      <td>A</td>\n",
       "      <td>Yangon</td>\n",
       "      <td>Normal</td>\n",
       "      <td>Male</td>\n",
       "      <td>Home and lifestyle</td>\n",
       "      <td>510788.25</td>\n",
       "      <td>Credit card</td>\n",
       "      <td>7.4</td>\n",
       "      <td>afternoon</td>\n",
       "      <td>Sunday</td>\n",
       "    </tr>\n",
       "  </tbody>\n",
       "</table>\n",
       "</div>"
      ],
      "text/plain": [
       "  branch       city customer_type  gender            product_line      total  \\\n",
       "0      A     Yangon        Member  Female       Health and beauty  823457.25   \n",
       "1      C  Naypyitaw        Normal  Female  Electronic accessories  120330.00   \n",
       "2      A     Yangon        Normal    Male      Home and lifestyle  510788.25   \n",
       "\n",
       "  payment_method  rating time_of_day  day_name  \n",
       "0        Ewallet     9.1   afternoon  Saturday  \n",
       "1           Cash     9.6     morning    Friday  \n",
       "2    Credit card     7.4   afternoon    Sunday  "
      ]
     },
     "execution_count": 31,
     "metadata": {},
     "output_type": "execute_result"
    }
   ],
   "source": [
    "train.head(3)"
   ]
  },
  {
   "cell_type": "code",
   "execution_count": 32,
   "id": "fd3c29f6-1f45-40d0-9d0f-d07c6fb0ebce",
   "metadata": {},
   "outputs": [
    {
     "name": "stdout",
     "output_type": "stream",
     "text": [
      "395945.4750788139\n",
      "423502.19189255615\n",
      "445824.1295209891\n",
      "371070.13447345496\n"
     ]
    }
   ],
   "source": [
    "target = train.pop('total')\n",
    "\n",
    "from sklearn.preprocessing import LabelEncoder\n",
    "\n",
    "cols = train.select_dtypes(include='O').columns\n",
    "\n",
    "for col in cols:\n",
    "    le = LabelEncoder()\n",
    "    train[col] = le.fit_transform(train[col]) \n",
    "    test[col] = le.transform(test[col])\n",
    "\n",
    "from sklearn.model_selection import train_test_split\n",
    "\n",
    "x_train, x_test, y_train, y_test = train_test_split(train, target, random_state=0, test_size=0.2)\n",
    "\n",
    "from sklearn.ensemble import RandomForestRegressor\n",
    "\n",
    "rf = RandomForestRegressor(random_state=0)\n",
    "rf.fit(x_train, y_train)\n",
    "\n",
    "y_pred = rf.predict(x_test)\n",
    "\n",
    "from sklearn.metrics import mean_squared_error\n",
    "def rmse(y_pred, y_test):\n",
    "    print(mean_squared_error(y_pred, y_test) ** 0.5)\n",
    "\n",
    "rmse(y_pred, y_test)\n",
    "\n",
    "import lightgbm as lgbm\n",
    "lg = lgbm.LGBMRegressor(random_state=0, verbose=-1)\n",
    "lg.fit(x_train, y_train)\n",
    "y_pred = lg.predict(x_test)\n",
    "rmse(y_pred, y_test)\n",
    "\n",
    "import xgboost as xgb\n",
    "xg = xgb.XGBRegressor(random_state=0)\n",
    "xg.fit(x_train, y_train)\n",
    "y_pred = xg.predict(x_test)\n",
    "rmse(y_pred, y_test)\n",
    "\n",
    "from sklearn.linear_model import LinearRegression\n",
    "lr = LinearRegression()\n",
    "lr.fit(x_train, y_train)\n",
    "y_pred = lr.predict(x_test)\n",
    "rmse(y_pred, y_test)"
   ]
  },
  {
   "cell_type": "code",
   "execution_count": 33,
   "id": "d8c1f5da-affd-4c19-90b8-63da45aa3acd",
   "metadata": {},
   "outputs": [
    {
     "name": "stdout",
     "output_type": "stream",
     "text": [
      "(300, 1)\n"
     ]
    }
   ],
   "source": [
    "y_pred = lr.predict(test)\n",
    "\n",
    "result = pd.DataFrame({\n",
    "    'pred':y_pred\n",
    "})\n",
    "\n",
    "result.to_csv('result.csv', index=False)\n",
    "print(result.shape)"
   ]
  },
  {
   "cell_type": "markdown",
   "id": "e271140a-d840-4c25-bd76-e6d6a7181cf5",
   "metadata": {
    "id": "H3N9Ou_Oo2mV"
   },
   "source": [
    "## 작업형3"
   ]
  },
  {
   "cell_type": "markdown",
   "id": "9524e57d-0051-454f-973c-e4f9a88733ca",
   "metadata": {
    "id": "paHiKoCrtKnv"
   },
   "source": [
    "### 문제1-1"
   ]
  },
  {
   "cell_type": "code",
   "execution_count": 65,
   "id": "d6cc2d37-3196-4213-8c8e-7aaa2782aa0d",
   "metadata": {
    "colab": {
     "base_uri": "https://localhost:8080/"
    },
    "executionInfo": {
     "elapsed": 1547,
     "status": "ok",
     "timestamp": 1722875167048,
     "user": {
      "displayName": "Tae Heon Kim",
      "userId": "07653788752262629837"
     },
     "user_tz": -540
    },
    "id": "H38dKQCTrB_5",
    "outputId": "119e5cd1-b811-412a-eb8d-dc6e0c89c6c9"
   },
   "outputs": [],
   "source": [
    "import pandas as pd\n",
    "df = pd.read_csv(\"https://raw.githubusercontent.com/lovedlim/bigdata_analyst_cert/main/part4/ch7/clam.csv\")"
   ]
  },
  {
   "cell_type": "code",
   "execution_count": 66,
   "id": "ea7428a9-5e2e-45e6-9c2d-864225e97eec",
   "metadata": {
    "colab": {
     "base_uri": "https://localhost:8080/"
    },
    "executionInfo": {
     "elapsed": 3008,
     "status": "ok",
     "timestamp": 1722875170054,
     "user": {
      "displayName": "Tae Heon Kim",
      "userId": "07653788752262629837"
     },
     "user_tz": -540
    },
    "id": "m9Y_2uBYFnot",
    "outputId": "e7ad2198-5de4-4ad5-8eba-330fecaf7200"
   },
   "outputs": [],
   "source": [
    "train = df.iloc[:210]\n",
    "test = df.iloc[210:]"
   ]
  },
  {
   "cell_type": "code",
   "execution_count": 67,
   "id": "cabfbb82-c019-4b43-9622-50bf6576c464",
   "metadata": {},
   "outputs": [
    {
     "data": {
      "text/html": [
       "<div>\n",
       "<style scoped>\n",
       "    .dataframe tbody tr th:only-of-type {\n",
       "        vertical-align: middle;\n",
       "    }\n",
       "\n",
       "    .dataframe tbody tr th {\n",
       "        vertical-align: top;\n",
       "    }\n",
       "\n",
       "    .dataframe thead th {\n",
       "        text-align: right;\n",
       "    }\n",
       "</style>\n",
       "<table border=\"1\" class=\"dataframe\">\n",
       "  <thead>\n",
       "    <tr style=\"text-align: right;\">\n",
       "      <th></th>\n",
       "      <th>age</th>\n",
       "      <th>length</th>\n",
       "      <th>diameter</th>\n",
       "      <th>height</th>\n",
       "      <th>weight</th>\n",
       "      <th>gender</th>\n",
       "    </tr>\n",
       "  </thead>\n",
       "  <tbody>\n",
       "    <tr>\n",
       "      <th>0</th>\n",
       "      <td>6</td>\n",
       "      <td>0.474627</td>\n",
       "      <td>0.211352</td>\n",
       "      <td>0.178189</td>\n",
       "      <td>78.971766</td>\n",
       "      <td>1</td>\n",
       "    </tr>\n",
       "    <tr>\n",
       "      <th>1</th>\n",
       "      <td>1</td>\n",
       "      <td>0.465847</td>\n",
       "      <td>0.339388</td>\n",
       "      <td>0.170522</td>\n",
       "      <td>98.781960</td>\n",
       "      <td>1</td>\n",
       "    </tr>\n",
       "    <tr>\n",
       "      <th>2</th>\n",
       "      <td>4</td>\n",
       "      <td>0.122807</td>\n",
       "      <td>0.238691</td>\n",
       "      <td>0.106924</td>\n",
       "      <td>88.792625</td>\n",
       "      <td>0</td>\n",
       "    </tr>\n",
       "    <tr>\n",
       "      <th>3</th>\n",
       "      <td>4</td>\n",
       "      <td>0.204579</td>\n",
       "      <td>0.360543</td>\n",
       "      <td>0.034261</td>\n",
       "      <td>1.028847</td>\n",
       "      <td>0</td>\n",
       "    </tr>\n",
       "    <tr>\n",
       "      <th>4</th>\n",
       "      <td>8</td>\n",
       "      <td>0.243458</td>\n",
       "      <td>0.358037</td>\n",
       "      <td>0.128080</td>\n",
       "      <td>6.503367</td>\n",
       "      <td>0</td>\n",
       "    </tr>\n",
       "  </tbody>\n",
       "</table>\n",
       "</div>"
      ],
      "text/plain": [
       "   age    length  diameter    height     weight  gender\n",
       "0    6  0.474627  0.211352  0.178189  78.971766       1\n",
       "1    1  0.465847  0.339388  0.170522  98.781960       1\n",
       "2    4  0.122807  0.238691  0.106924  88.792625       0\n",
       "3    4  0.204579  0.360543  0.034261   1.028847       0\n",
       "4    8  0.243458  0.358037  0.128080   6.503367       0"
      ]
     },
     "execution_count": 67,
     "metadata": {},
     "output_type": "execute_result"
    }
   ],
   "source": [
    "train.head()"
   ]
  },
  {
   "cell_type": "code",
   "execution_count": 41,
   "id": "9b90dc1a-37ce-49d5-be36-c0607685f9c9",
   "metadata": {},
   "outputs": [],
   "source": [
    "from statsmodels.formula.api import logit\n",
    "import numpy as np"
   ]
  },
  {
   "cell_type": "code",
   "execution_count": 43,
   "id": "9db5d1e9-450e-4de6-b7b0-37e5164ef367",
   "metadata": {},
   "outputs": [
    {
     "name": "stdout",
     "output_type": "stream",
     "text": [
      "Optimization terminated successfully.\n",
      "         Current function value: 0.690045\n",
      "         Iterations 4\n",
      "1.0047\n"
     ]
    }
   ],
   "source": [
    "formula = 'gender ~ weight'\n",
    "model = logit(formula, data=train).fit()\n",
    "\n",
    "ans = model.params['weight']\n",
    "\n",
    "print(round(np.exp(ans), 4))"
   ]
  },
  {
   "cell_type": "markdown",
   "id": "834edc02-e697-4077-8ea5-66d954319f86",
   "metadata": {
    "id": "yeKVhetBtS8N"
   },
   "source": [
    "### 문제1-2"
   ]
  },
  {
   "cell_type": "code",
   "execution_count": 68,
   "id": "8aa8a26f-8c1f-40d3-9929-2662f7311ea4",
   "metadata": {},
   "outputs": [
    {
     "name": "stdout",
     "output_type": "stream",
     "text": [
      "Optimization terminated successfully.\n",
      "         Current function value: 0.683173\n",
      "         Iterations 4\n",
      "286.93\n"
     ]
    }
   ],
   "source": [
    "from statsmodels.formula.api import logit\n",
    "import numpy as np\n",
    "\n",
    "formula = 'gender ~ age + length + diameter + height + weight'\n",
    "model = logit(formula, data=train).fit()\n",
    "\n",
    "print(round(model.llf * -2 ,2))"
   ]
  },
  {
   "cell_type": "markdown",
   "id": "b07dcb57-c2ce-4e53-85f0-878dd0f9c4d8",
   "metadata": {
    "id": "x4u7dfFTtUs9"
   },
   "source": [
    "### 문제1-3"
   ]
  },
  {
   "cell_type": "code",
   "execution_count": 69,
   "id": "0bbaa9f9-29db-41b5-acab-e0fe5dbda94e",
   "metadata": {},
   "outputs": [
    {
     "name": "stdout",
     "output_type": "stream",
     "text": [
      "Optimization terminated successfully.\n",
      "         Current function value: 0.690045\n",
      "         Iterations 4\n",
      "0.478\n"
     ]
    }
   ],
   "source": [
    "formula = 'gender ~ weight'\n",
    "model = logit(formula, data=train).fit()\n",
    "target = test.pop('gender')\n",
    "from sklearn.metrics import accuracy_score\n",
    "\n",
    "y_pred = model.predict(test)\n",
    "y_pred = (y_pred > 0.5).astype(int)\n",
    "\n",
    "acc = accuracy_score(target, y_pred)\n",
    "x = 1 - acc\n",
    "\n",
    "print(round(x, 3))"
   ]
  },
  {
   "cell_type": "markdown",
   "id": "d9a1269a-b94c-49d4-a32d-9cdbab8dc8ac",
   "metadata": {
    "id": "4MSQ0eB1tWsh"
   },
   "source": [
    "### 문제2-1"
   ]
  },
  {
   "cell_type": "code",
   "execution_count": 55,
   "id": "bf10da1e-db06-4a4b-a2d7-3adfeccdc7b0",
   "metadata": {
    "colab": {
     "base_uri": "https://localhost:8080/"
    },
    "executionInfo": {
     "elapsed": 635,
     "status": "ok",
     "timestamp": 1722875171177,
     "user": {
      "displayName": "Tae Heon Kim",
      "userId": "07653788752262629837"
     },
     "user_tz": -540
    },
    "id": "OlvzgzRDcNt8",
    "outputId": "424000fc-c180-4157-8975-81a9f87ce6cd"
   },
   "outputs": [],
   "source": [
    "import pandas as pd\n",
    "df = pd.read_csv(\"https://raw.githubusercontent.com/lovedlim/bigdata_analyst_cert/main/part4/ch7/system_cpu.csv\")"
   ]
  },
  {
   "cell_type": "code",
   "execution_count": 57,
   "id": "ab0baba5-8d3a-43d7-bb0e-55a5cea77e9d",
   "metadata": {
    "scrolled": true
   },
   "outputs": [
    {
     "data": {
      "text/html": [
       "<div>\n",
       "<style scoped>\n",
       "    .dataframe tbody tr th:only-of-type {\n",
       "        vertical-align: middle;\n",
       "    }\n",
       "\n",
       "    .dataframe tbody tr th {\n",
       "        vertical-align: top;\n",
       "    }\n",
       "\n",
       "    .dataframe thead th {\n",
       "        text-align: right;\n",
       "    }\n",
       "</style>\n",
       "<table border=\"1\" class=\"dataframe\">\n",
       "  <thead>\n",
       "    <tr style=\"text-align: right;\">\n",
       "      <th></th>\n",
       "      <th>ERP</th>\n",
       "      <th>Feature1</th>\n",
       "      <th>Feature2</th>\n",
       "      <th>Feature3</th>\n",
       "      <th>CPU</th>\n",
       "    </tr>\n",
       "  </thead>\n",
       "  <tbody>\n",
       "    <tr>\n",
       "      <th>0</th>\n",
       "      <td>30.6</td>\n",
       "      <td>235.1</td>\n",
       "      <td>44.5</td>\n",
       "      <td>44.0</td>\n",
       "      <td>112.3</td>\n",
       "    </tr>\n",
       "    <tr>\n",
       "      <th>1</th>\n",
       "      <td>40.3</td>\n",
       "      <td>36.6</td>\n",
       "      <td>46.4</td>\n",
       "      <td>36.1</td>\n",
       "      <td>58.6</td>\n",
       "    </tr>\n",
       "    <tr>\n",
       "      <th>2</th>\n",
       "      <td>57.7</td>\n",
       "      <td>52.2</td>\n",
       "      <td>66.5</td>\n",
       "      <td>2.0</td>\n",
       "      <td>55.3</td>\n",
       "    </tr>\n",
       "    <tr>\n",
       "      <th>3</th>\n",
       "      <td>128.3</td>\n",
       "      <td>196.2</td>\n",
       "      <td>59.8</td>\n",
       "      <td>57.4</td>\n",
       "      <td>103.2</td>\n",
       "    </tr>\n",
       "    <tr>\n",
       "      <th>4</th>\n",
       "      <td>80.3</td>\n",
       "      <td>75.2</td>\n",
       "      <td>59.6</td>\n",
       "      <td>58.2</td>\n",
       "      <td>104.1</td>\n",
       "    </tr>\n",
       "  </tbody>\n",
       "</table>\n",
       "</div>"
      ],
      "text/plain": [
       "     ERP  Feature1  Feature2  Feature3    CPU\n",
       "0   30.6     235.1      44.5      44.0  112.3\n",
       "1   40.3      36.6      46.4      36.1   58.6\n",
       "2   57.7      52.2      66.5       2.0   55.3\n",
       "3  128.3     196.2      59.8      57.4  103.2\n",
       "4   80.3      75.2      59.6      58.2  104.1"
      ]
     },
     "execution_count": 57,
     "metadata": {},
     "output_type": "execute_result"
    }
   ],
   "source": [
    "df.head()"
   ]
  },
  {
   "cell_type": "code",
   "execution_count": 58,
   "id": "9388033d-8d08-454a-99e7-a4b0afc224dc",
   "metadata": {},
   "outputs": [
    {
     "name": "stdout",
     "output_type": "stream",
     "text": [
      "0.882\n"
     ]
    }
   ],
   "source": [
    "df_corr = df.corr()['ERP'].abs()\n",
    "ma = df_corr.loc['Feature1':].max()\n",
    "print(round(ma, 3))"
   ]
  },
  {
   "cell_type": "markdown",
   "id": "8fccc0f4-829b-4b69-b072-f5d6fb3df800",
   "metadata": {
    "id": "EVAJRDHi6gAG"
   },
   "source": [
    "### 문제2-2, 2-3"
   ]
  },
  {
   "cell_type": "code",
   "execution_count": 59,
   "id": "cb3e0bf1-04a1-4f34-9c32-adf6464ae002",
   "metadata": {
    "colab": {
     "base_uri": "https://localhost:8080/"
    },
    "executionInfo": {
     "elapsed": 7,
     "status": "ok",
     "timestamp": 1722875171177,
     "user": {
      "displayName": "Tae Heon Kim",
      "userId": "07653788752262629837"
     },
     "user_tz": -540
    },
    "id": "6POPUMi3Axb6",
    "outputId": "f33741aa-f50a-4364-80a6-e544491fc239"
   },
   "outputs": [],
   "source": [
    "import pandas as pd\n",
    "df = pd.read_csv(\"https://raw.githubusercontent.com/lovedlim/bigdata_analyst_cert/main/part4/ch7/system_cpu.csv\")"
   ]
  },
  {
   "cell_type": "code",
   "execution_count": 60,
   "id": "6c394784-3247-4d66-80e8-a3a6844c3b35",
   "metadata": {},
   "outputs": [
    {
     "data": {
      "text/html": [
       "<div>\n",
       "<style scoped>\n",
       "    .dataframe tbody tr th:only-of-type {\n",
       "        vertical-align: middle;\n",
       "    }\n",
       "\n",
       "    .dataframe tbody tr th {\n",
       "        vertical-align: top;\n",
       "    }\n",
       "\n",
       "    .dataframe thead th {\n",
       "        text-align: right;\n",
       "    }\n",
       "</style>\n",
       "<table border=\"1\" class=\"dataframe\">\n",
       "  <thead>\n",
       "    <tr style=\"text-align: right;\">\n",
       "      <th></th>\n",
       "      <th>ERP</th>\n",
       "      <th>Feature1</th>\n",
       "      <th>Feature2</th>\n",
       "      <th>Feature3</th>\n",
       "      <th>CPU</th>\n",
       "    </tr>\n",
       "  </thead>\n",
       "  <tbody>\n",
       "    <tr>\n",
       "      <th>0</th>\n",
       "      <td>30.6</td>\n",
       "      <td>235.1</td>\n",
       "      <td>44.5</td>\n",
       "      <td>44.0</td>\n",
       "      <td>112.3</td>\n",
       "    </tr>\n",
       "    <tr>\n",
       "      <th>1</th>\n",
       "      <td>40.3</td>\n",
       "      <td>36.6</td>\n",
       "      <td>46.4</td>\n",
       "      <td>36.1</td>\n",
       "      <td>58.6</td>\n",
       "    </tr>\n",
       "    <tr>\n",
       "      <th>2</th>\n",
       "      <td>57.7</td>\n",
       "      <td>52.2</td>\n",
       "      <td>66.5</td>\n",
       "      <td>2.0</td>\n",
       "      <td>55.3</td>\n",
       "    </tr>\n",
       "    <tr>\n",
       "      <th>3</th>\n",
       "      <td>128.3</td>\n",
       "      <td>196.2</td>\n",
       "      <td>59.8</td>\n",
       "      <td>57.4</td>\n",
       "      <td>103.2</td>\n",
       "    </tr>\n",
       "    <tr>\n",
       "      <th>4</th>\n",
       "      <td>80.3</td>\n",
       "      <td>75.2</td>\n",
       "      <td>59.6</td>\n",
       "      <td>58.2</td>\n",
       "      <td>104.1</td>\n",
       "    </tr>\n",
       "  </tbody>\n",
       "</table>\n",
       "</div>"
      ],
      "text/plain": [
       "     ERP  Feature1  Feature2  Feature3    CPU\n",
       "0   30.6     235.1      44.5      44.0  112.3\n",
       "1   40.3      36.6      46.4      36.1   58.6\n",
       "2   57.7      52.2      66.5       2.0   55.3\n",
       "3  128.3     196.2      59.8      57.4  103.2\n",
       "4   80.3      75.2      59.6      58.2  104.1"
      ]
     },
     "execution_count": 60,
     "metadata": {},
     "output_type": "execute_result"
    }
   ],
   "source": [
    "df.head()"
   ]
  },
  {
   "cell_type": "code",
   "execution_count": 64,
   "id": "7f292241-3ed4-4239-8f98-292b89c9fc22",
   "metadata": {},
   "outputs": [
    {
     "name": "stdout",
     "output_type": "stream",
     "text": [
      "                            OLS Regression Results                            \n",
      "==============================================================================\n",
      "Dep. Variable:                    ERP   R-squared:                       0.755\n",
      "Model:                            OLS   Adj. R-squared:                  0.736\n",
      "Method:                 Least Squares   F-statistic:                     39.30\n",
      "Date:                Mon, 25 Nov 2024   Prob (F-statistic):           5.36e-15\n",
      "Time:                        17:33:45   Log-Likelihood:                -260.40\n",
      "No. Observations:                  56   AIC:                             530.8\n",
      "Df Residuals:                      51   BIC:                             540.9\n",
      "Df Model:                           4                                         \n",
      "Covariance Type:            nonrobust                                         \n",
      "==============================================================================\n",
      "                 coef    std err          t      P>|t|      [0.025      0.975]\n",
      "------------------------------------------------------------------------------\n",
      "Intercept     51.4133     19.112      2.690      0.010      13.045      89.782\n",
      "Feature1      -0.0242      0.059     -0.409      0.684      -0.143       0.094\n",
      "Feature2       0.0602      0.106      0.569      0.572      -0.152       0.273\n",
      "Feature3       1.4126      0.113     12.458      0.000       1.185       1.640\n",
      "CPU           -0.4651      0.234     -1.985      0.053      -0.936       0.005\n",
      "==============================================================================\n",
      "Omnibus:                        3.758   Durbin-Watson:                   1.762\n",
      "Prob(Omnibus):                  0.153   Jarque-Bera (JB):                2.757\n",
      "Skew:                           0.436   Prob(JB):                        0.252\n",
      "Kurtosis:                       3.648   Cond. No.                         780.\n",
      "==============================================================================\n",
      "\n",
      "Notes:\n",
      "[1] Standard Errors assume that the covariance matrix of the errors is correctly specified.\n",
      "0.755\n",
      "0.684\n"
     ]
    }
   ],
   "source": [
    "df = df[df['CPU'] < 100]\n",
    "formula = 'ERP ~ Feature1 + Feature2 + Feature3 + CPU'\n",
    "\n",
    "from statsmodels.formula.api import ols\n",
    "\n",
    "model = ols(formula, data=df).fit()\n",
    "\n",
    "print(model.summary())\n",
    "print(round(model.rsquared, 3))\n",
    "print(round(model.pvalues.max(), 3))"
   ]
  },
  {
   "cell_type": "code",
   "execution_count": null,
   "id": "82913efe-910e-45b8-8268-6c96052b9ece",
   "metadata": {},
   "outputs": [],
   "source": []
  }
 ],
 "metadata": {
  "kernelspec": {
   "display_name": "Python 3 (ipykernel)",
   "language": "python",
   "name": "python3"
  },
  "language_info": {
   "codemirror_mode": {
    "name": "ipython",
    "version": 3
   },
   "file_extension": ".py",
   "mimetype": "text/x-python",
   "name": "python",
   "nbconvert_exporter": "python",
   "pygments_lexer": "ipython3",
   "version": "3.12.4"
  }
 },
 "nbformat": 4,
 "nbformat_minor": 5
}
