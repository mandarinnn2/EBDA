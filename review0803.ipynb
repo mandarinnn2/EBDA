{
 "cells": [
  {
   "cell_type": "markdown",
   "metadata": {
    "id": "tPGySQKUE-DY"
   },
   "source": [
    "[구글 코랩(Colab)에서 실행하기](https://colab.research.google.com/github/lovedlim/bigdata_analyst_cert/blob/main/part4/ch8/p8_type3.ipynb)"
   ]
  },
  {
   "cell_type": "markdown",
   "metadata": {
    "id": "YbYMqxq0Fyl8"
   },
   "source": [
    "## 작업형3"
   ]
  },
  {
   "cell_type": "markdown",
   "metadata": {
    "id": "cg92KgRLFlV9"
   },
   "source": [
    "### 문제1-1"
   ]
  },
  {
   "cell_type": "code",
   "execution_count": 5,
   "metadata": {
    "colab": {
     "base_uri": "https://localhost:8080/"
    },
    "executionInfo": {
     "elapsed": 354,
     "status": "ok",
     "timestamp": 1720341744868,
     "user": {
      "displayName": "Tae Heon Kim",
      "userId": "07653788752262629837"
     },
     "user_tz": -540
    },
    "id": "1Tq5gIOPFmnQ",
    "outputId": "3db39fba-1fd1-4b8b-e466-511f949d12a3"
   },
   "outputs": [
    {
     "name": "stdout",
     "output_type": "stream",
     "text": [
      "Optimization terminated successfully.\n",
      "         Current function value: 0.393603\n",
      "         Iterations 6\n",
      "                           Logit Regression Results                           \n",
      "==============================================================================\n",
      "Dep. Variable:                  Churn   No. Observations:                 1000\n",
      "Model:                          Logit   Df Residuals:                      989\n",
      "Method:                           MLE   Df Model:                           10\n",
      "Date:                Tue, 05 Nov 2024   Pseudo R-squ.:                 0.02367\n",
      "Time:                        15:24:36   Log-Likelihood:                -393.60\n",
      "converged:                       True   LL-Null:                       -403.14\n",
      "Covariance Type:            nonrobust   LLR p-value:                   0.03924\n",
      "===================================================================================\n",
      "                      coef    std err          z      P>|z|      [0.025      0.975]\n",
      "-----------------------------------------------------------------------------------\n",
      "Intercept          -2.2146      0.913     -2.425      0.015      -4.005      -0.424\n",
      "AccountWeeks        0.0026      0.002      1.114      0.265      -0.002       0.007\n",
      "ContractRenewal     0.1603      0.325      0.493      0.622      -0.477       0.798\n",
      "DataPlan            0.2874      0.198      1.454      0.146      -0.100       0.675\n",
      "DataUsage          -0.1698      0.072     -2.343      0.019      -0.312      -0.028\n",
      "CustServCalls       0.1374      0.074      1.858      0.063      -0.008       0.282\n",
      "DayMins            -0.0036      0.002     -2.092      0.036      -0.007      -0.000\n",
      "DayCalls            0.0023      0.004      0.526      0.599      -0.006       0.011\n",
      "MonthlyCharge       0.0042      0.005      0.778      0.436      -0.006       0.015\n",
      "OverageFee         -0.0127      0.036     -0.352      0.725      -0.084       0.058\n",
      "RoamMins            0.0098      0.034      0.292      0.770      -0.056       0.076\n",
      "===================================================================================\n"
     ]
    },
    {
     "data": {
      "text/plain": [
       "8"
      ]
     },
     "execution_count": 5,
     "metadata": {},
     "output_type": "execute_result"
    }
   ],
   "source": [
    "import pandas as pd\n",
    "df = pd.read_csv(\"https://raw.githubusercontent.com/lovedlim/bigdata_analyst_cert/main/part4/ch8/churn.csv\")\n",
    "\n",
    "# 1) 로지스틱 회귀분석을 위한 포뮬라 생성\n",
    "formula = \"Churn ~ AccountWeeks + ContractRenewal + DataPlan + DataUsage + CustServCalls + DayMins + DayCalls + MonthlyCharge + OverageFee + RoamMins\"\n",
    "\n",
    "# 2) 로지스틱 회귀 모델 생성 및 학습\n",
    "from statsmodels.formula.api import logit\n",
    "model = logit(formula, data=df).fit()\n",
    "\n",
    "# 3) 유의하지 않은 독립변수의 개수 구하기\n",
    "print(model.summary())\n",
    "sum(model.pvalues[1:] > 0.05)"
   ]
  },
  {
   "cell_type": "markdown",
   "metadata": {
    "id": "9JlkjE30FnO3"
   },
   "source": [
    "### 문제1-2"
   ]
  },
  {
   "cell_type": "code",
   "execution_count": 11,
   "metadata": {
    "colab": {
     "base_uri": "https://localhost:8080/"
    },
    "executionInfo": {
     "elapsed": 335,
     "status": "ok",
     "timestamp": 1720197130823,
     "user": {
      "displayName": "Tae Heon Kim",
      "userId": "07653788752262629837"
     },
     "user_tz": -540
    },
    "id": "JYQmjQgYFoCZ",
    "outputId": "c635a90c-f83e-4322-92c0-5789ac3066e9"
   },
   "outputs": [
    {
     "name": "stdout",
     "output_type": "stream",
     "text": [
      "Intercept    True\n",
      "DataUsage    True\n",
      "DayMins      True\n",
      "dtype: bool\n",
      "Optimization terminated successfully.\n",
      "         Current function value: 0.397599\n",
      "         Iterations 6\n",
      "                           Logit Regression Results                           \n",
      "==============================================================================\n",
      "Dep. Variable:                  Churn   No. Observations:                 1000\n",
      "Model:                          Logit   Df Residuals:                      997\n",
      "Method:                           MLE   Df Model:                            2\n",
      "Date:                Tue, 05 Nov 2024   Pseudo R-squ.:                 0.01375\n",
      "Time:                        15:28:38   Log-Likelihood:                -397.60\n",
      "converged:                       True   LL-Null:                       -403.14\n",
      "Covariance Type:            nonrobust   LLR p-value:                  0.003908\n",
      "==============================================================================\n",
      "                 coef    std err          z      P>|z|      [0.025      0.975]\n",
      "------------------------------------------------------------------------------\n",
      "Intercept     -1.0395      0.303     -3.434      0.001      -1.633      -0.446\n",
      "DataUsage     -0.1697      0.071     -2.376      0.017      -0.310      -0.030\n",
      "DayMins       -0.0039      0.002     -2.264      0.024      -0.007      -0.001\n",
      "==============================================================================\n"
     ]
    },
    {
     "data": {
      "text/plain": [
       "-1.213"
      ]
     },
     "execution_count": 11,
     "metadata": {},
     "output_type": "execute_result"
    }
   ],
   "source": [
    "# 1) 유의한 변수 선택\n",
    "print(model.pvalues<0.05)\n",
    "formula = \"Churn ~ DataUsage + DayMins\"\n",
    "\n",
    "# 2) 로지스틱 회귀\n",
    "from statsmodels.formula.api import logit\n",
    "model = logit(formula, data=df).fit()\n",
    "\n",
    "# 3) 유의한 회귀계수 합계\n",
    "print(model.summary())\n",
    "round(sum(model.params),3)"
   ]
  },
  {
   "cell_type": "markdown",
   "metadata": {
    "id": "6t_rH44AF5qR"
   },
   "source": [
    "### 문제1-3"
   ]
  },
  {
   "cell_type": "code",
   "execution_count": 13,
   "metadata": {
    "colab": {
     "base_uri": "https://localhost:8080/"
    },
    "executionInfo": {
     "elapsed": 472,
     "status": "ok",
     "timestamp": 1720197132828,
     "user": {
      "displayName": "Tae Heon Kim",
      "userId": "07653788752262629837"
     },
     "user_tz": -540
    },
    "id": "djjtgKoDJ2SV",
    "outputId": "fd7627d4-858c-4d33-d7a6-e1a1f4b527e0"
   },
   "outputs": [
    {
     "data": {
      "text/plain": [
       "0.428"
      ]
     },
     "execution_count": 13,
     "metadata": {},
     "output_type": "execute_result"
    }
   ],
   "source": [
    "# 1) 변수의 회귀계수 추출\n",
    "import numpy as np\n",
    "coef = model.params['DataUsage']\n",
    "\n",
    "# 2) 오즈비 계산\n",
    "round(np.exp(coef * 5), 3)"
   ]
  },
  {
   "cell_type": "markdown",
   "metadata": {
    "id": "FXeMYIpql0ht"
   },
   "source": [
    "### 문제2-1"
   ]
  },
  {
   "cell_type": "code",
   "execution_count": 15,
   "metadata": {
    "id": "IyN9mpL8dhTp"
   },
   "outputs": [],
   "source": [
    "import pandas as pd\n",
    "df = pd.read_csv(\"https://raw.githubusercontent.com/lovedlim/bigdata_analyst_cert/main/part4/ch8/piq.csv\")"
   ]
  },
  {
   "cell_type": "code",
   "execution_count": 16,
   "metadata": {
    "colab": {
     "base_uri": "https://localhost:8080/",
     "height": 206
    },
    "executionInfo": {
     "elapsed": 12,
     "status": "ok",
     "timestamp": 1720275881514,
     "user": {
      "displayName": "Tae Heon Kim",
      "userId": "07653788752262629837"
     },
     "user_tz": -540
    },
    "id": "APxzDuO5nzO6",
    "outputId": "e006051a-befe-473b-b00b-87b34098bf0b"
   },
   "outputs": [
    {
     "data": {
      "text/html": [
       "<div>\n",
       "<style scoped>\n",
       "    .dataframe tbody tr th:only-of-type {\n",
       "        vertical-align: middle;\n",
       "    }\n",
       "\n",
       "    .dataframe tbody tr th {\n",
       "        vertical-align: top;\n",
       "    }\n",
       "\n",
       "    .dataframe thead th {\n",
       "        text-align: right;\n",
       "    }\n",
       "</style>\n",
       "<table border=\"1\" class=\"dataframe\">\n",
       "  <thead>\n",
       "    <tr style=\"text-align: right;\">\n",
       "      <th></th>\n",
       "      <th>PIQ</th>\n",
       "      <th>Brain</th>\n",
       "      <th>Height</th>\n",
       "      <th>Weight</th>\n",
       "    </tr>\n",
       "  </thead>\n",
       "  <tbody>\n",
       "    <tr>\n",
       "      <th>0</th>\n",
       "      <td>132</td>\n",
       "      <td>85.78</td>\n",
       "      <td>62.5</td>\n",
       "      <td>127</td>\n",
       "    </tr>\n",
       "    <tr>\n",
       "      <th>1</th>\n",
       "      <td>96</td>\n",
       "      <td>86.54</td>\n",
       "      <td>68.0</td>\n",
       "      <td>135</td>\n",
       "    </tr>\n",
       "    <tr>\n",
       "      <th>2</th>\n",
       "      <td>84</td>\n",
       "      <td>90.49</td>\n",
       "      <td>66.3</td>\n",
       "      <td>134</td>\n",
       "    </tr>\n",
       "    <tr>\n",
       "      <th>3</th>\n",
       "      <td>134</td>\n",
       "      <td>79.06</td>\n",
       "      <td>62.0</td>\n",
       "      <td>122</td>\n",
       "    </tr>\n",
       "    <tr>\n",
       "      <th>4</th>\n",
       "      <td>86</td>\n",
       "      <td>88.91</td>\n",
       "      <td>70.0</td>\n",
       "      <td>180</td>\n",
       "    </tr>\n",
       "  </tbody>\n",
       "</table>\n",
       "</div>"
      ],
      "text/plain": [
       "   PIQ  Brain  Height  Weight\n",
       "0  132  85.78    62.5     127\n",
       "1   96  86.54    68.0     135\n",
       "2   84  90.49    66.3     134\n",
       "3  134  79.06    62.0     122\n",
       "4   86  88.91    70.0     180"
      ]
     },
     "execution_count": 16,
     "metadata": {},
     "output_type": "execute_result"
    }
   ],
   "source": [
    "df.head()"
   ]
  },
  {
   "cell_type": "code",
   "execution_count": 19,
   "metadata": {
    "colab": {
     "base_uri": "https://localhost:8080/"
    },
    "executionInfo": {
     "elapsed": 8,
     "status": "ok",
     "timestamp": 1720275881515,
     "user": {
      "displayName": "Tae Heon Kim",
      "userId": "07653788752262629837"
     },
     "user_tz": -540
    },
    "id": "wSuAcY3LdhWA",
    "outputId": "86d8dab5-e170-4446-8c9c-91ea11397e59"
   },
   "outputs": [
    {
     "name": "stdout",
     "output_type": "stream",
     "text": [
      "                            OLS Regression Results                            \n",
      "==============================================================================\n",
      "Dep. Variable:                    PIQ   R-squared:                       0.370\n",
      "Model:                            OLS   Adj. R-squared:                  0.329\n",
      "Method:                 Least Squares   F-statistic:                     9.024\n",
      "Date:                Tue, 05 Nov 2024   Prob (F-statistic):           8.25e-05\n",
      "Time:                        15:31:57   Log-Likelihood:                -217.27\n",
      "No. Observations:                  50   AIC:                             442.5\n",
      "Df Residuals:                      46   BIC:                             450.2\n",
      "Df Model:                           3                                         \n",
      "Covariance Type:            nonrobust                                         \n",
      "==============================================================================\n",
      "                 coef    std err          t      P>|t|      [0.025      0.975]\n",
      "------------------------------------------------------------------------------\n",
      "Intercept     74.5114     50.564      1.474      0.147     -27.269     176.292\n",
      "Brain          2.3431      0.456      5.141      0.000       1.426       3.261\n",
      "Height        -2.6444      1.064     -2.485      0.017      -4.786      -0.503\n",
      "Weight         0.0406      0.167      0.243      0.809      -0.296       0.377\n",
      "==============================================================================\n",
      "Omnibus:                        8.608   Durbin-Watson:                   2.386\n",
      "Prob(Omnibus):                  0.014   Jarque-Bera (JB):                2.629\n",
      "Skew:                           0.041   Prob(JB):                        0.269\n",
      "Kurtosis:                       1.880   Cond. No.                     3.48e+03\n",
      "==============================================================================\n",
      "\n",
      "Notes:\n",
      "[1] Standard Errors assume that the covariance matrix of the errors is correctly specified.\n",
      "[2] The condition number is large, 3.48e+03. This might indicate that there are\n",
      "strong multicollinearity or other numerical problems.\n"
     ]
    }
   ],
   "source": [
    "# 1) 다중 선형 회귀 분석\n",
    "from statsmodels.formula.api import ols\n",
    "model = ols('PIQ ~ Brain + Height + Weight', data=df).fit()\n",
    "\n",
    "# 2) 가장 작은 p-value를 가진 변수의 회귀계수 찾기\n",
    "print(model.summary())\n",
    "\n",
    "# 정답: 2.3431"
   ]
  },
  {
   "cell_type": "markdown",
   "metadata": {
    "id": "LAfnt_tiJGf3"
   },
   "source": [
    "### 문제 2-2"
   ]
  },
  {
   "cell_type": "code",
   "execution_count": 21,
   "metadata": {
    "colab": {
     "base_uri": "https://localhost:8080/"
    },
    "executionInfo": {
     "elapsed": 1,
     "status": "ok",
     "timestamp": 1720275881860,
     "user": {
      "displayName": "Tae Heon Kim",
      "userId": "07653788752262629837"
     },
     "user_tz": -540
    },
    "id": "BTqty9WtfCvB",
    "outputId": "71c70eaf-cbc9-4da9-d27c-9b2f323d859f"
   },
   "outputs": [
    {
     "name": "stdout",
     "output_type": "stream",
     "text": [
      "0.37\n"
     ]
    }
   ],
   "source": [
    "# 1) 결정계수(R-squared) 값\n",
    "print(round(model.rsquared,2))"
   ]
  },
  {
   "cell_type": "markdown",
   "metadata": {
    "id": "VwMYwWHHJcRe"
   },
   "source": [
    "### 문제 2-3"
   ]
  },
  {
   "cell_type": "code",
   "execution_count": 24,
   "metadata": {
    "colab": {
     "base_uri": "https://localhost:8080/"
    },
    "executionInfo": {
     "elapsed": 4,
     "status": "ok",
     "timestamp": 1720275882718,
     "user": {
      "displayName": "Tae Heon Kim",
      "userId": "07653788752262629837"
     },
     "user_tz": -540
    },
    "id": "hMU1CojaIeQG",
    "outputId": "a11f4a0a-32f1-46a5-d4b9-edb68d52e80d"
   },
   "outputs": [
    {
     "name": "stdout",
     "output_type": "stream",
     "text": [
      "0    106.38302\n",
      "dtype: float64\n",
      "106\n"
     ]
    }
   ],
   "source": [
    "# 1) 새로운 데이터 생성\n",
    "new_data = pd.DataFrame({'Brain' : [90], 'Height':[70], 'Weight':[150]})\n",
    "\n",
    "# 2) PIQ 예측\n",
    "pred = model.predict(new_data)\n",
    "print(pred)\n",
    "print(round(pred[0]))"
   ]
  }
 ],
 "metadata": {
  "colab": {
   "authorship_tag": "ABX9TyM06msUyIWRs3dBpdWBt+Y2",
   "provenance": []
  },
  "kernelspec": {
   "display_name": "Python 3 (ipykernel)",
   "language": "python",
   "name": "python3"
  },
  "language_info": {
   "codemirror_mode": {
    "name": "ipython",
    "version": 3
   },
   "file_extension": ".py",
   "mimetype": "text/x-python",
   "name": "python",
   "nbconvert_exporter": "python",
   "pygments_lexer": "ipython3",
   "version": "3.12.4"
  }
 },
 "nbformat": 4,
 "nbformat_minor": 4
}
